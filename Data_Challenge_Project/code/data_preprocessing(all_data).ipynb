{
 "cells": [
  {
   "cell_type": "markdown",
   "metadata": {},
   "source": [
    "# 📌 ASOS, AWS(기온,강수,바람,습도,기압) 데이터 전처리"
   ]
  },
  {
   "cell_type": "code",
   "execution_count": 340,
   "metadata": {},
   "outputs": [],
   "source": [
    "import pandas as pd"
   ]
  },
  {
   "cell_type": "markdown",
   "metadata": {},
   "source": [
    "### 1.데이터 불러오기"
   ]
  },
  {
   "cell_type": "code",
   "execution_count": 341,
   "metadata": {},
   "outputs": [],
   "source": [
    "forder_path = \"../weather_data/\"\n",
    "file_list = [\"asos_data_fin.csv\",\"temperature_data_fin.csv\",\"rainfall_data_fin.csv\",\n",
    "             \"wind_data_fin.csv\",\"humidity_data_fin.csv\",\"ap_data_fin.csv\"]\n",
    "df_fin = pd.DataFrame()\n",
    "\n",
    "for i, file in enumerate(file_list):\n",
    "    df = pd.read_csv(forder_path+file, index_col=0)\n",
    "\n",
    "    if i == 0:\n",
    "        df_fin = pd.concat([df_fin,df], axis=1)\n",
    "    elif (i != 0) & (i == 2):\n",
    "        df_fin = pd.concat([df_fin,df.iloc[:,2:]], axis=1)\n",
    "    elif (i != 0) & (i != 2):\n",
    "        df_fin = pd.concat([df_fin,df.iloc[:,3:]], axis=1)"
   ]
  },
  {
   "cell_type": "markdown",
   "metadata": {},
   "source": [
    "### 2.기온 데이터 결측치 채우기"
   ]
  },
  {
   "cell_type": "markdown",
   "metadata": {},
   "source": [
    "#### 2.1 기온 관련 컬럼 추출"
   ]
  },
  {
   "cell_type": "code",
   "execution_count": 342,
   "metadata": {},
   "outputs": [],
   "source": [
    "temp_cols = [cols for cols in df_fin.columns if (\"temperature\" in cols.lower())]\n",
    "temp_cols.insert(0, 'Datetime')"
   ]
  },
  {
   "cell_type": "code",
   "execution_count": 343,
   "metadata": {},
   "outputs": [
    {
     "data": {
      "text/html": [
       "<div>\n",
       "<style scoped>\n",
       "    .dataframe tbody tr th:only-of-type {\n",
       "        vertical-align: middle;\n",
       "    }\n",
       "\n",
       "    .dataframe tbody tr th {\n",
       "        vertical-align: top;\n",
       "    }\n",
       "\n",
       "    .dataframe thead th {\n",
       "        text-align: right;\n",
       "    }\n",
       "</style>\n",
       "<table border=\"1\" class=\"dataframe\">\n",
       "  <thead>\n",
       "    <tr style=\"text-align: right;\">\n",
       "      <th></th>\n",
       "      <th>Datetime</th>\n",
       "      <th>Temperature(°C)</th>\n",
       "      <th>Dew point Temperature(°C)</th>\n",
       "      <th>108_Observed temperature(°C)</th>\n",
       "      <th>108_Average temperature per minute(°C)</th>\n",
       "      <th>108_Highest temperature per minute(°C)</th>\n",
       "      <th>108_Lowest temperature per minute(°C)</th>\n",
       "      <th>112_Observed temperature(°C)</th>\n",
       "      <th>112_Average temperature per minute(°C)</th>\n",
       "      <th>112_Highest temperature per minute(°C)</th>\n",
       "      <th>112_Lowest temperature per minute(°C)</th>\n",
       "      <th>119_Observed temperature(°C)</th>\n",
       "      <th>119_Average temperature per minute(°C)</th>\n",
       "      <th>119_Highest temperature per minute(°C)</th>\n",
       "      <th>119_Lowest temperature per minute(°C)</th>\n",
       "    </tr>\n",
       "  </thead>\n",
       "  <tbody>\n",
       "    <tr>\n",
       "      <th>0</th>\n",
       "      <td>2018-01-01 00:00:00</td>\n",
       "      <td>-3.2</td>\n",
       "      <td>-14.9</td>\n",
       "      <td>-3.2</td>\n",
       "      <td>-2.9</td>\n",
       "      <td>-2.6</td>\n",
       "      <td>-3.2</td>\n",
       "      <td>-1.4</td>\n",
       "      <td>-1.3</td>\n",
       "      <td>-1.1</td>\n",
       "      <td>-1.5</td>\n",
       "      <td>-1.8</td>\n",
       "      <td>-1.7</td>\n",
       "      <td>-1.5</td>\n",
       "      <td>-2.1</td>\n",
       "    </tr>\n",
       "    <tr>\n",
       "      <th>1</th>\n",
       "      <td>2018-01-01 01:00:00</td>\n",
       "      <td>-3.3</td>\n",
       "      <td>-14.7</td>\n",
       "      <td>-3.3</td>\n",
       "      <td>-3.3</td>\n",
       "      <td>-3.2</td>\n",
       "      <td>-3.5</td>\n",
       "      <td>-1.6</td>\n",
       "      <td>-1.4</td>\n",
       "      <td>-1.4</td>\n",
       "      <td>-1.6</td>\n",
       "      <td>-2.6</td>\n",
       "      <td>-2.0</td>\n",
       "      <td>-1.6</td>\n",
       "      <td>-2.6</td>\n",
       "    </tr>\n",
       "    <tr>\n",
       "      <th>2</th>\n",
       "      <td>2018-01-01 02:00:00</td>\n",
       "      <td>-3.7</td>\n",
       "      <td>-14.7</td>\n",
       "      <td>-3.7</td>\n",
       "      <td>-3.4</td>\n",
       "      <td>-3.2</td>\n",
       "      <td>-3.7</td>\n",
       "      <td>-1.9</td>\n",
       "      <td>-1.6</td>\n",
       "      <td>-1.6</td>\n",
       "      <td>-1.9</td>\n",
       "      <td>-3.0</td>\n",
       "      <td>-2.7</td>\n",
       "      <td>-2.6</td>\n",
       "      <td>-3.0</td>\n",
       "    </tr>\n",
       "    <tr>\n",
       "      <th>3</th>\n",
       "      <td>2018-01-01 03:00:00</td>\n",
       "      <td>-4.0</td>\n",
       "      <td>-14.4</td>\n",
       "      <td>-4.0</td>\n",
       "      <td>-3.8</td>\n",
       "      <td>-3.8</td>\n",
       "      <td>-4.0</td>\n",
       "      <td>-1.8</td>\n",
       "      <td>-2.0</td>\n",
       "      <td>-1.8</td>\n",
       "      <td>-2.2</td>\n",
       "      <td>-4.2</td>\n",
       "      <td>-3.5</td>\n",
       "      <td>-3.0</td>\n",
       "      <td>-4.2</td>\n",
       "    </tr>\n",
       "    <tr>\n",
       "      <th>4</th>\n",
       "      <td>2018-01-01 04:00:00</td>\n",
       "      <td>-4.2</td>\n",
       "      <td>-12.3</td>\n",
       "      <td>-4.2</td>\n",
       "      <td>-4.0</td>\n",
       "      <td>-3.9</td>\n",
       "      <td>-4.3</td>\n",
       "      <td>-2.0</td>\n",
       "      <td>-1.9</td>\n",
       "      <td>-1.8</td>\n",
       "      <td>-2.0</td>\n",
       "      <td>-5.3</td>\n",
       "      <td>-4.7</td>\n",
       "      <td>-4.2</td>\n",
       "      <td>-5.4</td>\n",
       "    </tr>\n",
       "  </tbody>\n",
       "</table>\n",
       "</div>"
      ],
      "text/plain": [
       "              Datetime  Temperature(°C)  Dew point Temperature(°C)  \\\n",
       "0  2018-01-01 00:00:00             -3.2                      -14.9   \n",
       "1  2018-01-01 01:00:00             -3.3                      -14.7   \n",
       "2  2018-01-01 02:00:00             -3.7                      -14.7   \n",
       "3  2018-01-01 03:00:00             -4.0                      -14.4   \n",
       "4  2018-01-01 04:00:00             -4.2                      -12.3   \n",
       "\n",
       "   108_Observed temperature(°C)  108_Average temperature per minute(°C)  \\\n",
       "0                          -3.2                                    -2.9   \n",
       "1                          -3.3                                    -3.3   \n",
       "2                          -3.7                                    -3.4   \n",
       "3                          -4.0                                    -3.8   \n",
       "4                          -4.2                                    -4.0   \n",
       "\n",
       "   108_Highest temperature per minute(°C)  \\\n",
       "0                                    -2.6   \n",
       "1                                    -3.2   \n",
       "2                                    -3.2   \n",
       "3                                    -3.8   \n",
       "4                                    -3.9   \n",
       "\n",
       "   108_Lowest temperature per minute(°C)  112_Observed temperature(°C)  \\\n",
       "0                                   -3.2                          -1.4   \n",
       "1                                   -3.5                          -1.6   \n",
       "2                                   -3.7                          -1.9   \n",
       "3                                   -4.0                          -1.8   \n",
       "4                                   -4.3                          -2.0   \n",
       "\n",
       "   112_Average temperature per minute(°C)  \\\n",
       "0                                    -1.3   \n",
       "1                                    -1.4   \n",
       "2                                    -1.6   \n",
       "3                                    -2.0   \n",
       "4                                    -1.9   \n",
       "\n",
       "   112_Highest temperature per minute(°C)  \\\n",
       "0                                    -1.1   \n",
       "1                                    -1.4   \n",
       "2                                    -1.6   \n",
       "3                                    -1.8   \n",
       "4                                    -1.8   \n",
       "\n",
       "   112_Lowest temperature per minute(°C)  119_Observed temperature(°C)  \\\n",
       "0                                   -1.5                          -1.8   \n",
       "1                                   -1.6                          -2.6   \n",
       "2                                   -1.9                          -3.0   \n",
       "3                                   -2.2                          -4.2   \n",
       "4                                   -2.0                          -5.3   \n",
       "\n",
       "   119_Average temperature per minute(°C)  \\\n",
       "0                                    -1.7   \n",
       "1                                    -2.0   \n",
       "2                                    -2.7   \n",
       "3                                    -3.5   \n",
       "4                                    -4.7   \n",
       "\n",
       "   119_Highest temperature per minute(°C)  \\\n",
       "0                                    -1.5   \n",
       "1                                    -1.6   \n",
       "2                                    -2.6   \n",
       "3                                    -3.0   \n",
       "4                                    -4.2   \n",
       "\n",
       "   119_Lowest temperature per minute(°C)  \n",
       "0                                   -2.1  \n",
       "1                                   -2.6  \n",
       "2                                   -3.0  \n",
       "3                                   -4.2  \n",
       "4                                   -5.4  "
      ]
     },
     "execution_count": 343,
     "metadata": {},
     "output_type": "execute_result"
    }
   ],
   "source": [
    "df_fin[temp_cols].head()"
   ]
  },
  {
   "cell_type": "markdown",
   "metadata": {},
   "source": [
    "#### 2.2 \"Temperature\" 컬럼에 결측치 -9 또는 -99 행 확인하기"
   ]
  },
  {
   "cell_type": "code",
   "execution_count": 344,
   "metadata": {},
   "outputs": [
    {
     "name": "stdout",
     "output_type": "stream",
     "text": [
      "현재 결측값을 가지는 행의 개수는 38개 입니다.\n"
     ]
    }
   ],
   "source": [
    "# 결측치의 값으로 -9, -99의 값을 가지는 행 번호를 가지는 변수 생성\n",
    "missing_index = df_fin[(df_fin[\"Temperature(°C)\"] == -9) | (df_fin[\"Temperature(°C)\"] == -99)][temp_cols].index\n",
    "# 인덱스의 개수를 확인하기 위한 출력\n",
    "print(f\"현재 결측값을 가지는 행의 개수는 {len(missing_index)}개 입니다.\")"
   ]
  },
  {
   "cell_type": "code",
   "execution_count": 345,
   "metadata": {},
   "outputs": [
    {
     "name": "stdout",
     "output_type": "stream",
     "text": [
      "현재 결측값을 가지는 행의 개수는 0개 입니다\n"
     ]
    }
   ],
   "source": [
    "for index in missing_index:\n",
    "    # \"Temperature(°C)\" 컬럼에 결측값이 있을 경우, 지점번호(108)인 서울 값과 (112)인 인천 값과 (119)인 수원 값의 평균을 사용\n",
    "    # 인천 값이 결측값일 경우, 지점번호(119) 수원 값을 사용\n",
    "    if (df_fin.at[index, \"108_Observed temperature(°C)\"] not in [-9, -99]) & (df_fin.at[index, \"112_Observed temperature(°C)\"] not in [-9, -99]) & (df_fin.at[index, \"119_Observed temperature(°C)\"] not in [-9, -99]):\n",
    "        avg_temp = (df_fin.at[index, \"108_Observed temperature(°C)\"] + df_fin.at[index, \"112_Observed temperature(°C)\"] + df_fin.at[index, \"119_Observed temperature(°C)\"]) / 3\n",
    "        df_fin.at[index, \"Temperature(°C)\"] = avg_temp\n",
    "    elif (df_fin.at[index, \"108_Observed temperature(°C)\"] in [-9, -99]):\n",
    "        df_fin.at[index, \"Temperature(°C)\"] = df_fin.at[index, \"108_Average temperature per minute(°C)\"]\n",
    "\n",
    "# 인덱스의 개수를 확인하기 위한 출력\n",
    "missing_index = df_fin[(df_fin[\"Temperature(°C)\"] == -9) | (df_fin[\"Temperature(°C)\"] == -99)][temp_cols].index\n",
    "print(f\"현재 결측값을 가지는 행의 개수는 {len(missing_index)}개 입니다\")"
   ]
  },
  {
   "cell_type": "markdown",
   "metadata": {},
   "source": [
    "#### 2.3 \"Average temperature per minute(°C)\", \"Highest temperature per minute(°C)\", \"Lowest temperature per minute(°C)\""
   ]
  },
  {
   "cell_type": "markdown",
   "metadata": {},
   "source": [
    "##### 2.3.1 \"Average temperature per minute(°C)\""
   ]
  },
  {
   "cell_type": "code",
   "execution_count": 346,
   "metadata": {},
   "outputs": [
    {
     "name": "stdout",
     "output_type": "stream",
     "text": [
      "현재 결측값을 가지는 행의 개수는 42개 입니다.\n"
     ]
    }
   ],
   "source": [
    "# 결측치의 값으로 -9, -99의 값을 가지는 행 번호를 가지는 변수 생성\n",
    "missing_index = df_fin[(df_fin[\"108_Average temperature per minute(°C)\"] == -9) | (df_fin[\"108_Average temperature per minute(°C)\"] == -99)][temp_cols].index\n",
    "# 인덱스의 개수를 확인하기 위한 출력\n",
    "print(f\"현재 결측값을 가지는 행의 개수는 {len(missing_index)}개 입니다.\")"
   ]
  },
  {
   "cell_type": "code",
   "execution_count": 347,
   "metadata": {},
   "outputs": [
    {
     "name": "stdout",
     "output_type": "stream",
     "text": [
      "현재 결측값을 가지는 행의 개수는 0개 입니다\n",
      "새로운 컬럼을 생성하였습니다.\n"
     ]
    }
   ],
   "source": [
    "for index in missing_index:\n",
    "    # \"108_Average temperature per minute(°C)\" 컬럼에 결측값이 있을 경우, 지점번호(112)인 인천 값으로 대체\n",
    "    if (df_fin.at[index, \"112_Average temperature per minute(°C)\"] not in [-9, -99]):\n",
    "        df_fin.at[index, \"108_Average temperature per minute(°C)\"] = df_fin.at[index, \"112_Average temperature per minute(°C)\"]\n",
    "    elif (df_fin.at[index, \"112_Average temperature per minute(°C)\"] in [-9, -99]) & (df_fin.at[index, \"119_Average temperature per minute(°C)\"] not in [-9, -99]):\n",
    "        df_fin.at[index, \"108_Average temperature per minute(°C)\"] = df_fin.at[index, \"119_Average temperature per minute(°C)\"]\n",
    "\n",
    "# 인덱스의 개수를 확인하기 위한 출력\n",
    "missing_index = df_fin[(df_fin[\"108_Average temperature per minute(°C)\"] == -9) | (df_fin[\"108_Average temperature per minute(°C)\"] == -99)][temp_cols].index\n",
    "print(f\"현재 결측값을 가지는 행의 개수는 {len(missing_index)}개 입니다\")\n",
    "\n",
    "# \"Average atmospheric pressure(hPa)\" 컬럼 생성\n",
    "if len(missing_index) == 0:\n",
    "    df_fin[\"Average temperature per minute(°C)\"] = df_fin[\"108_Average temperature per minute(°C)\"]\n",
    "    print(\"새로운 컬럼을 생성하였습니다.\")\n",
    "else:\n",
    "    print(\"추가 전처리가 필요합니다.\")"
   ]
  },
  {
   "cell_type": "markdown",
   "metadata": {},
   "source": [
    "##### 2.3.2 \"Highest temperature per minute(°C)\""
   ]
  },
  {
   "cell_type": "code",
   "execution_count": 348,
   "metadata": {},
   "outputs": [
    {
     "name": "stdout",
     "output_type": "stream",
     "text": [
      "현재 결측값을 가지는 행의 개수는 27개 입니다.\n"
     ]
    }
   ],
   "source": [
    "# 결측치의 값으로 -9, -99의 값을 가지는 행 번호를 가지는 변수 생성\n",
    "missing_index = df_fin[(df_fin[\"108_Highest temperature per minute(°C)\"] == -9) | (df_fin[\"108_Highest temperature per minute(°C)\"] == -99)][temp_cols].index\n",
    "# 인덱스의 개수를 확인하기 위한 출력\n",
    "print(f\"현재 결측값을 가지는 행의 개수는 {len(missing_index)}개 입니다.\")"
   ]
  },
  {
   "cell_type": "code",
   "execution_count": 349,
   "metadata": {},
   "outputs": [
    {
     "name": "stdout",
     "output_type": "stream",
     "text": [
      "현재 결측값을 가지는 행의 개수는 0개 입니다\n",
      "새로운 컬럼을 생성하였습니다.\n"
     ]
    }
   ],
   "source": [
    "for index in missing_index:\n",
    "    # \"108_Average temperature per minute(°C)\" 컬럼에 결측값이 있을 경우, 지점번호(112)인 인천 값으로 대체\n",
    "    if (df_fin.at[index, \"112_Highest temperature per minute(°C)\"] not in [-9, -99]):\n",
    "        df_fin.at[index, \"108_Highest temperature per minute(°C)\"] = df_fin.at[index, \"112_Highest temperature per minute(°C)\"]\n",
    "    elif (df_fin.at[index, \"112_Highest temperature per minute(°C)\"] in [-9, -99]) & (df_fin.at[index, \"119_Highest temperature per minute(°C)\"] not in [-9, -99]):\n",
    "        df_fin.at[index, \"108_Highest temperature per minute(°C)\"] = df_fin.at[index, \"119_Highest temperature per minute(°C)\"]\n",
    "\n",
    "# 인덱스의 개수를 확인하기 위한 출력\n",
    "missing_index = df_fin[(df_fin[\"108_Highest temperature per minute(°C)\"] == -9) | (df_fin[\"108_Highest temperature per minute(°C)\"] == -99)][temp_cols].index\n",
    "print(f\"현재 결측값을 가지는 행의 개수는 {len(missing_index)}개 입니다\")\n",
    "\n",
    "# \"Average atmospheric pressure(hPa)\" 컬럼 생성\n",
    "if len(missing_index) == 0:\n",
    "    df_fin[\"Highest temperature per minute(°C)\"] = df_fin[\"108_Highest temperature per minute(°C)\"]\n",
    "    print(\"새로운 컬럼을 생성하였습니다.\")\n",
    "else:\n",
    "    print(\"추가 전처리가 필요합니다.\")"
   ]
  },
  {
   "cell_type": "markdown",
   "metadata": {},
   "source": [
    "##### 2.3.3. \"Lowest temperature per minute(°C)\""
   ]
  },
  {
   "cell_type": "code",
   "execution_count": 350,
   "metadata": {},
   "outputs": [
    {
     "name": "stdout",
     "output_type": "stream",
     "text": [
      "현재 결측값을 가지는 행의 개수는 32개 입니다.\n"
     ]
    }
   ],
   "source": [
    "# 결측치의 값으로 -9, -99의 값을 가지는 행 번호를 가지는 변수 생성\n",
    "missing_index = df_fin[(df_fin[\"108_Lowest temperature per minute(°C)\"] == -9) | (df_fin[\"108_Lowest temperature per minute(°C)\"] == -99)][temp_cols].index\n",
    "# 인덱스의 개수를 확인하기 위한 출력\n",
    "print(f\"현재 결측값을 가지는 행의 개수는 {len(missing_index)}개 입니다.\")"
   ]
  },
  {
   "cell_type": "code",
   "execution_count": 351,
   "metadata": {},
   "outputs": [
    {
     "name": "stdout",
     "output_type": "stream",
     "text": [
      "현재 결측값을 가지는 행의 개수는 0개 입니다\n",
      "새로운 컬럼을 생성하였습니다.\n"
     ]
    }
   ],
   "source": [
    "for index in missing_index:\n",
    "    # \"108_Average temperature per minute(°C)\" 컬럼에 결측값이 있을 경우, 지점번호(112)인 인천 값으로 대체\n",
    "    if (df_fin.at[index, \"112_Lowest temperature per minute(°C)\"] not in [-9, -99]):\n",
    "        df_fin.at[index, \"108_Lowest temperature per minute(°C)\"] = df_fin.at[index, \"112_Lowest temperature per minute(°C)\"]\n",
    "    elif (df_fin.at[index, \"112_Lowest temperature per minute(°C)\"] in [-9, -99]) & (df_fin.at[index, \"119_Lowest temperature per minute(°C)\"] not in [-9, -99]):\n",
    "        df_fin.at[index, \"108_Lowest temperature per minute(°C)\"] = df_fin.at[index, \"119_Lowest temperature per minute(°C)\"]\n",
    "\n",
    "# 인덱스의 개수를 확인하기 위한 출력\n",
    "missing_index = df_fin[(df_fin[\"108_Lowest temperature per minute(°C)\"] == -9) | (df_fin[\"108_Lowest temperature per minute(°C)\"] == -99)][temp_cols].index\n",
    "print(f\"현재 결측값을 가지는 행의 개수는 {len(missing_index)}개 입니다\")\n",
    "\n",
    "# \"Average atmospheric pressure(hPa)\" 컬럼 생성\n",
    "if len(missing_index) == 0:\n",
    "    df_fin[\"Lowest temperature per minute(°C)\"] = df_fin[\"108_Lowest temperature per minute(°C)\"]\n",
    "    print(\"새로운 컬럼을 생성하였습니다.\")\n",
    "else:\n",
    "    print(\"추가 전처리가 필요합니다.\")"
   ]
  },
  {
   "cell_type": "markdown",
   "metadata": {},
   "source": [
    "#### 2.4 기온 관련 필요없는 컬럼 삭제"
   ]
  },
  {
   "cell_type": "code",
   "execution_count": 352,
   "metadata": {},
   "outputs": [],
   "source": [
    "df_fin.drop(columns=temp_cols[3:], axis=1, inplace=True)"
   ]
  },
  {
   "cell_type": "markdown",
   "metadata": {},
   "source": [
    "### 3.강수 데이터 결측치 채우기"
   ]
  },
  {
   "cell_type": "markdown",
   "metadata": {},
   "source": [
    "#### 3.1 강수 관련 컬럼 추출"
   ]
  },
  {
   "cell_type": "code",
   "execution_count": 353,
   "metadata": {},
   "outputs": [],
   "source": [
    "rf_cols = [cols for cols in df_fin.columns if (\"rainfall\" in cols.lower())]\n",
    "rf_cols.insert(0, 'Datetime')"
   ]
  },
  {
   "cell_type": "code",
   "execution_count": 354,
   "metadata": {},
   "outputs": [
    {
     "name": "stdout",
     "output_type": "stream",
     "text": [
      "(914, 13)\n",
      "(930, 13)\n"
     ]
    }
   ],
   "source": [
    "print(df_fin[df_fin[\"108_Daily Rainfall(mm)\"] < 0][rf_cols].shape)\n",
    "print(df_fin[df_fin[\"108_Hourly Rainfall(mm)\"] < 0][rf_cols].shape)"
   ]
  },
  {
   "cell_type": "code",
   "execution_count": 355,
   "metadata": {},
   "outputs": [
    {
     "data": {
      "text/html": [
       "<div>\n",
       "<style scoped>\n",
       "    .dataframe tbody tr th:only-of-type {\n",
       "        vertical-align: middle;\n",
       "    }\n",
       "\n",
       "    .dataframe tbody tr th {\n",
       "        vertical-align: top;\n",
       "    }\n",
       "\n",
       "    .dataframe thead th {\n",
       "        text-align: right;\n",
       "    }\n",
       "</style>\n",
       "<table border=\"1\" class=\"dataframe\">\n",
       "  <thead>\n",
       "    <tr style=\"text-align: right;\">\n",
       "      <th></th>\n",
       "      <th>Datetime</th>\n",
       "      <th>Rainfall(mm)</th>\n",
       "      <th>Daily Rainfall(mm)</th>\n",
       "      <th>Daily Rainfall2(mm)</th>\n",
       "      <th>108_Daily Rainfall(mm)</th>\n",
       "      <th>108_Hourly Rainfall(mm)</th>\n",
       "      <th>108_Accumulated Rainfall(mm) for max 60min</th>\n",
       "      <th>112_Daily Rainfall(mm)</th>\n",
       "      <th>112_Hourly Rainfall(mm)</th>\n",
       "      <th>112_Accumulated Rainfall(mm) for max 60min</th>\n",
       "      <th>119_Daily Rainfall(mm)</th>\n",
       "      <th>119_Hourly Rainfall(mm)</th>\n",
       "      <th>119_Accumulated Rainfall(mm) for max 60min</th>\n",
       "    </tr>\n",
       "  </thead>\n",
       "  <tbody>\n",
       "    <tr>\n",
       "      <th>52561</th>\n",
       "      <td>2023-12-31 01:00:00</td>\n",
       "      <td>-9.0</td>\n",
       "      <td>0.1</td>\n",
       "      <td>0.1</td>\n",
       "      <td>0.1</td>\n",
       "      <td>0.1</td>\n",
       "      <td>0.2</td>\n",
       "      <td>0.0</td>\n",
       "      <td>0.0</td>\n",
       "      <td>-99.0</td>\n",
       "      <td>0.5</td>\n",
       "      <td>0.5</td>\n",
       "      <td>0.5</td>\n",
       "    </tr>\n",
       "    <tr>\n",
       "      <th>52562</th>\n",
       "      <td>2023-12-31 02:00:00</td>\n",
       "      <td>-9.0</td>\n",
       "      <td>0.7</td>\n",
       "      <td>0.7</td>\n",
       "      <td>0.7</td>\n",
       "      <td>0.6</td>\n",
       "      <td>0.6</td>\n",
       "      <td>0.0</td>\n",
       "      <td>0.0</td>\n",
       "      <td>-99.0</td>\n",
       "      <td>1.0</td>\n",
       "      <td>0.5</td>\n",
       "      <td>0.7</td>\n",
       "    </tr>\n",
       "    <tr>\n",
       "      <th>52563</th>\n",
       "      <td>2023-12-31 03:00:00</td>\n",
       "      <td>0.8</td>\n",
       "      <td>0.8</td>\n",
       "      <td>0.8</td>\n",
       "      <td>0.8</td>\n",
       "      <td>0.1</td>\n",
       "      <td>0.5</td>\n",
       "      <td>0.0</td>\n",
       "      <td>0.0</td>\n",
       "      <td>-99.0</td>\n",
       "      <td>1.2</td>\n",
       "      <td>0.2</td>\n",
       "      <td>0.5</td>\n",
       "    </tr>\n",
       "    <tr>\n",
       "      <th>52564</th>\n",
       "      <td>2023-12-31 04:00:00</td>\n",
       "      <td>-9.0</td>\n",
       "      <td>0.8</td>\n",
       "      <td>0.8</td>\n",
       "      <td>0.8</td>\n",
       "      <td>0.0</td>\n",
       "      <td>0.1</td>\n",
       "      <td>0.0</td>\n",
       "      <td>0.0</td>\n",
       "      <td>-99.0</td>\n",
       "      <td>1.2</td>\n",
       "      <td>0.0</td>\n",
       "      <td>0.2</td>\n",
       "    </tr>\n",
       "    <tr>\n",
       "      <th>52565</th>\n",
       "      <td>2023-12-31 05:00:00</td>\n",
       "      <td>-9.0</td>\n",
       "      <td>0.8</td>\n",
       "      <td>0.8</td>\n",
       "      <td>0.8</td>\n",
       "      <td>0.0</td>\n",
       "      <td>0.0</td>\n",
       "      <td>0.0</td>\n",
       "      <td>0.0</td>\n",
       "      <td>-99.0</td>\n",
       "      <td>1.2</td>\n",
       "      <td>0.0</td>\n",
       "      <td>0.0</td>\n",
       "    </tr>\n",
       "    <tr>\n",
       "      <th>52566</th>\n",
       "      <td>2023-12-31 06:00:00</td>\n",
       "      <td>0.0</td>\n",
       "      <td>0.8</td>\n",
       "      <td>0.8</td>\n",
       "      <td>0.8</td>\n",
       "      <td>0.0</td>\n",
       "      <td>0.0</td>\n",
       "      <td>0.8</td>\n",
       "      <td>0.8</td>\n",
       "      <td>0.8</td>\n",
       "      <td>1.2</td>\n",
       "      <td>0.0</td>\n",
       "      <td>0.0</td>\n",
       "    </tr>\n",
       "    <tr>\n",
       "      <th>52567</th>\n",
       "      <td>2023-12-31 07:00:00</td>\n",
       "      <td>-9.0</td>\n",
       "      <td>1.5</td>\n",
       "      <td>1.5</td>\n",
       "      <td>1.5</td>\n",
       "      <td>0.7</td>\n",
       "      <td>0.7</td>\n",
       "      <td>3.1</td>\n",
       "      <td>2.3</td>\n",
       "      <td>3.0</td>\n",
       "      <td>1.3</td>\n",
       "      <td>0.1</td>\n",
       "      <td>0.1</td>\n",
       "    </tr>\n",
       "    <tr>\n",
       "      <th>52568</th>\n",
       "      <td>2023-12-31 08:00:00</td>\n",
       "      <td>-9.0</td>\n",
       "      <td>4.4</td>\n",
       "      <td>4.4</td>\n",
       "      <td>4.4</td>\n",
       "      <td>2.9</td>\n",
       "      <td>3.4</td>\n",
       "      <td>3.1</td>\n",
       "      <td>0.0</td>\n",
       "      <td>2.3</td>\n",
       "      <td>1.4</td>\n",
       "      <td>0.1</td>\n",
       "      <td>0.2</td>\n",
       "    </tr>\n",
       "    <tr>\n",
       "      <th>52569</th>\n",
       "      <td>2023-12-31 09:00:00</td>\n",
       "      <td>3.9</td>\n",
       "      <td>4.7</td>\n",
       "      <td>4.7</td>\n",
       "      <td>4.7</td>\n",
       "      <td>0.3</td>\n",
       "      <td>2.9</td>\n",
       "      <td>3.1</td>\n",
       "      <td>0.0</td>\n",
       "      <td>0.0</td>\n",
       "      <td>1.4</td>\n",
       "      <td>0.0</td>\n",
       "      <td>0.1</td>\n",
       "    </tr>\n",
       "    <tr>\n",
       "      <th>52570</th>\n",
       "      <td>2023-12-31 10:00:00</td>\n",
       "      <td>-9.0</td>\n",
       "      <td>4.7</td>\n",
       "      <td>4.7</td>\n",
       "      <td>4.7</td>\n",
       "      <td>0.0</td>\n",
       "      <td>0.3</td>\n",
       "      <td>3.1</td>\n",
       "      <td>0.0</td>\n",
       "      <td>0.0</td>\n",
       "      <td>1.4</td>\n",
       "      <td>0.0</td>\n",
       "      <td>0.0</td>\n",
       "    </tr>\n",
       "    <tr>\n",
       "      <th>52571</th>\n",
       "      <td>2023-12-31 11:00:00</td>\n",
       "      <td>-9.0</td>\n",
       "      <td>4.7</td>\n",
       "      <td>4.7</td>\n",
       "      <td>4.7</td>\n",
       "      <td>0.0</td>\n",
       "      <td>0.0</td>\n",
       "      <td>3.1</td>\n",
       "      <td>0.0</td>\n",
       "      <td>0.0</td>\n",
       "      <td>1.4</td>\n",
       "      <td>0.0</td>\n",
       "      <td>0.0</td>\n",
       "    </tr>\n",
       "    <tr>\n",
       "      <th>52572</th>\n",
       "      <td>2023-12-31 12:00:00</td>\n",
       "      <td>0.0</td>\n",
       "      <td>4.7</td>\n",
       "      <td>4.7</td>\n",
       "      <td>4.7</td>\n",
       "      <td>0.0</td>\n",
       "      <td>0.0</td>\n",
       "      <td>3.1</td>\n",
       "      <td>0.0</td>\n",
       "      <td>0.0</td>\n",
       "      <td>1.4</td>\n",
       "      <td>0.0</td>\n",
       "      <td>0.0</td>\n",
       "    </tr>\n",
       "    <tr>\n",
       "      <th>52573</th>\n",
       "      <td>2023-12-31 13:00:00</td>\n",
       "      <td>-9.0</td>\n",
       "      <td>4.7</td>\n",
       "      <td>4.7</td>\n",
       "      <td>4.7</td>\n",
       "      <td>0.0</td>\n",
       "      <td>0.0</td>\n",
       "      <td>3.1</td>\n",
       "      <td>0.0</td>\n",
       "      <td>0.0</td>\n",
       "      <td>1.4</td>\n",
       "      <td>0.0</td>\n",
       "      <td>0.0</td>\n",
       "    </tr>\n",
       "    <tr>\n",
       "      <th>52574</th>\n",
       "      <td>2023-12-31 14:00:00</td>\n",
       "      <td>-9.0</td>\n",
       "      <td>4.7</td>\n",
       "      <td>4.7</td>\n",
       "      <td>4.7</td>\n",
       "      <td>0.0</td>\n",
       "      <td>0.0</td>\n",
       "      <td>3.1</td>\n",
       "      <td>0.0</td>\n",
       "      <td>0.0</td>\n",
       "      <td>1.4</td>\n",
       "      <td>0.0</td>\n",
       "      <td>0.0</td>\n",
       "    </tr>\n",
       "    <tr>\n",
       "      <th>52575</th>\n",
       "      <td>2023-12-31 15:00:00</td>\n",
       "      <td>-9.0</td>\n",
       "      <td>4.7</td>\n",
       "      <td>4.7</td>\n",
       "      <td>4.7</td>\n",
       "      <td>0.0</td>\n",
       "      <td>0.0</td>\n",
       "      <td>3.1</td>\n",
       "      <td>0.0</td>\n",
       "      <td>0.0</td>\n",
       "      <td>1.4</td>\n",
       "      <td>0.0</td>\n",
       "      <td>0.0</td>\n",
       "    </tr>\n",
       "    <tr>\n",
       "      <th>52576</th>\n",
       "      <td>2023-12-31 16:00:00</td>\n",
       "      <td>-9.0</td>\n",
       "      <td>4.7</td>\n",
       "      <td>4.7</td>\n",
       "      <td>4.7</td>\n",
       "      <td>0.0</td>\n",
       "      <td>0.0</td>\n",
       "      <td>3.1</td>\n",
       "      <td>0.0</td>\n",
       "      <td>0.0</td>\n",
       "      <td>1.4</td>\n",
       "      <td>0.0</td>\n",
       "      <td>0.0</td>\n",
       "    </tr>\n",
       "    <tr>\n",
       "      <th>52577</th>\n",
       "      <td>2023-12-31 17:00:00</td>\n",
       "      <td>-9.0</td>\n",
       "      <td>4.7</td>\n",
       "      <td>4.7</td>\n",
       "      <td>4.7</td>\n",
       "      <td>0.0</td>\n",
       "      <td>0.0</td>\n",
       "      <td>3.1</td>\n",
       "      <td>0.0</td>\n",
       "      <td>0.0</td>\n",
       "      <td>1.4</td>\n",
       "      <td>0.0</td>\n",
       "      <td>0.0</td>\n",
       "    </tr>\n",
       "    <tr>\n",
       "      <th>52578</th>\n",
       "      <td>2023-12-31 18:00:00</td>\n",
       "      <td>-9.0</td>\n",
       "      <td>4.7</td>\n",
       "      <td>4.7</td>\n",
       "      <td>4.7</td>\n",
       "      <td>0.0</td>\n",
       "      <td>0.0</td>\n",
       "      <td>3.1</td>\n",
       "      <td>0.0</td>\n",
       "      <td>0.0</td>\n",
       "      <td>1.4</td>\n",
       "      <td>0.0</td>\n",
       "      <td>0.0</td>\n",
       "    </tr>\n",
       "    <tr>\n",
       "      <th>52579</th>\n",
       "      <td>2023-12-31 19:00:00</td>\n",
       "      <td>-9.0</td>\n",
       "      <td>4.7</td>\n",
       "      <td>4.7</td>\n",
       "      <td>4.7</td>\n",
       "      <td>0.0</td>\n",
       "      <td>0.0</td>\n",
       "      <td>3.1</td>\n",
       "      <td>0.0</td>\n",
       "      <td>0.0</td>\n",
       "      <td>1.4</td>\n",
       "      <td>0.0</td>\n",
       "      <td>0.0</td>\n",
       "    </tr>\n",
       "    <tr>\n",
       "      <th>52580</th>\n",
       "      <td>2023-12-31 20:00:00</td>\n",
       "      <td>-9.0</td>\n",
       "      <td>4.7</td>\n",
       "      <td>4.7</td>\n",
       "      <td>4.7</td>\n",
       "      <td>0.0</td>\n",
       "      <td>0.0</td>\n",
       "      <td>3.1</td>\n",
       "      <td>0.0</td>\n",
       "      <td>0.0</td>\n",
       "      <td>1.4</td>\n",
       "      <td>0.0</td>\n",
       "      <td>0.0</td>\n",
       "    </tr>\n",
       "    <tr>\n",
       "      <th>52581</th>\n",
       "      <td>2023-12-31 21:00:00</td>\n",
       "      <td>-9.0</td>\n",
       "      <td>4.7</td>\n",
       "      <td>4.7</td>\n",
       "      <td>4.7</td>\n",
       "      <td>0.0</td>\n",
       "      <td>0.0</td>\n",
       "      <td>3.1</td>\n",
       "      <td>0.0</td>\n",
       "      <td>0.0</td>\n",
       "      <td>1.4</td>\n",
       "      <td>0.0</td>\n",
       "      <td>0.0</td>\n",
       "    </tr>\n",
       "    <tr>\n",
       "      <th>52582</th>\n",
       "      <td>2023-12-31 22:00:00</td>\n",
       "      <td>-9.0</td>\n",
       "      <td>4.7</td>\n",
       "      <td>4.7</td>\n",
       "      <td>4.7</td>\n",
       "      <td>0.0</td>\n",
       "      <td>0.0</td>\n",
       "      <td>3.1</td>\n",
       "      <td>0.0</td>\n",
       "      <td>0.0</td>\n",
       "      <td>1.4</td>\n",
       "      <td>0.0</td>\n",
       "      <td>0.0</td>\n",
       "    </tr>\n",
       "    <tr>\n",
       "      <th>52583</th>\n",
       "      <td>2023-12-31 23:00:00</td>\n",
       "      <td>-9.0</td>\n",
       "      <td>4.7</td>\n",
       "      <td>4.7</td>\n",
       "      <td>4.7</td>\n",
       "      <td>0.0</td>\n",
       "      <td>0.0</td>\n",
       "      <td>3.1</td>\n",
       "      <td>0.0</td>\n",
       "      <td>0.0</td>\n",
       "      <td>1.4</td>\n",
       "      <td>0.0</td>\n",
       "      <td>0.0</td>\n",
       "    </tr>\n",
       "  </tbody>\n",
       "</table>\n",
       "</div>"
      ],
      "text/plain": [
       "                  Datetime  Rainfall(mm)  Daily Rainfall(mm)  \\\n",
       "52561  2023-12-31 01:00:00          -9.0                 0.1   \n",
       "52562  2023-12-31 02:00:00          -9.0                 0.7   \n",
       "52563  2023-12-31 03:00:00           0.8                 0.8   \n",
       "52564  2023-12-31 04:00:00          -9.0                 0.8   \n",
       "52565  2023-12-31 05:00:00          -9.0                 0.8   \n",
       "52566  2023-12-31 06:00:00           0.0                 0.8   \n",
       "52567  2023-12-31 07:00:00          -9.0                 1.5   \n",
       "52568  2023-12-31 08:00:00          -9.0                 4.4   \n",
       "52569  2023-12-31 09:00:00           3.9                 4.7   \n",
       "52570  2023-12-31 10:00:00          -9.0                 4.7   \n",
       "52571  2023-12-31 11:00:00          -9.0                 4.7   \n",
       "52572  2023-12-31 12:00:00           0.0                 4.7   \n",
       "52573  2023-12-31 13:00:00          -9.0                 4.7   \n",
       "52574  2023-12-31 14:00:00          -9.0                 4.7   \n",
       "52575  2023-12-31 15:00:00          -9.0                 4.7   \n",
       "52576  2023-12-31 16:00:00          -9.0                 4.7   \n",
       "52577  2023-12-31 17:00:00          -9.0                 4.7   \n",
       "52578  2023-12-31 18:00:00          -9.0                 4.7   \n",
       "52579  2023-12-31 19:00:00          -9.0                 4.7   \n",
       "52580  2023-12-31 20:00:00          -9.0                 4.7   \n",
       "52581  2023-12-31 21:00:00          -9.0                 4.7   \n",
       "52582  2023-12-31 22:00:00          -9.0                 4.7   \n",
       "52583  2023-12-31 23:00:00          -9.0                 4.7   \n",
       "\n",
       "       Daily Rainfall2(mm)  108_Daily Rainfall(mm)  108_Hourly Rainfall(mm)  \\\n",
       "52561                  0.1                     0.1                      0.1   \n",
       "52562                  0.7                     0.7                      0.6   \n",
       "52563                  0.8                     0.8                      0.1   \n",
       "52564                  0.8                     0.8                      0.0   \n",
       "52565                  0.8                     0.8                      0.0   \n",
       "52566                  0.8                     0.8                      0.0   \n",
       "52567                  1.5                     1.5                      0.7   \n",
       "52568                  4.4                     4.4                      2.9   \n",
       "52569                  4.7                     4.7                      0.3   \n",
       "52570                  4.7                     4.7                      0.0   \n",
       "52571                  4.7                     4.7                      0.0   \n",
       "52572                  4.7                     4.7                      0.0   \n",
       "52573                  4.7                     4.7                      0.0   \n",
       "52574                  4.7                     4.7                      0.0   \n",
       "52575                  4.7                     4.7                      0.0   \n",
       "52576                  4.7                     4.7                      0.0   \n",
       "52577                  4.7                     4.7                      0.0   \n",
       "52578                  4.7                     4.7                      0.0   \n",
       "52579                  4.7                     4.7                      0.0   \n",
       "52580                  4.7                     4.7                      0.0   \n",
       "52581                  4.7                     4.7                      0.0   \n",
       "52582                  4.7                     4.7                      0.0   \n",
       "52583                  4.7                     4.7                      0.0   \n",
       "\n",
       "       108_Accumulated Rainfall(mm) for max 60min  112_Daily Rainfall(mm)  \\\n",
       "52561                                         0.2                     0.0   \n",
       "52562                                         0.6                     0.0   \n",
       "52563                                         0.5                     0.0   \n",
       "52564                                         0.1                     0.0   \n",
       "52565                                         0.0                     0.0   \n",
       "52566                                         0.0                     0.8   \n",
       "52567                                         0.7                     3.1   \n",
       "52568                                         3.4                     3.1   \n",
       "52569                                         2.9                     3.1   \n",
       "52570                                         0.3                     3.1   \n",
       "52571                                         0.0                     3.1   \n",
       "52572                                         0.0                     3.1   \n",
       "52573                                         0.0                     3.1   \n",
       "52574                                         0.0                     3.1   \n",
       "52575                                         0.0                     3.1   \n",
       "52576                                         0.0                     3.1   \n",
       "52577                                         0.0                     3.1   \n",
       "52578                                         0.0                     3.1   \n",
       "52579                                         0.0                     3.1   \n",
       "52580                                         0.0                     3.1   \n",
       "52581                                         0.0                     3.1   \n",
       "52582                                         0.0                     3.1   \n",
       "52583                                         0.0                     3.1   \n",
       "\n",
       "       112_Hourly Rainfall(mm)  112_Accumulated Rainfall(mm) for max 60min  \\\n",
       "52561                      0.0                                       -99.0   \n",
       "52562                      0.0                                       -99.0   \n",
       "52563                      0.0                                       -99.0   \n",
       "52564                      0.0                                       -99.0   \n",
       "52565                      0.0                                       -99.0   \n",
       "52566                      0.8                                         0.8   \n",
       "52567                      2.3                                         3.0   \n",
       "52568                      0.0                                         2.3   \n",
       "52569                      0.0                                         0.0   \n",
       "52570                      0.0                                         0.0   \n",
       "52571                      0.0                                         0.0   \n",
       "52572                      0.0                                         0.0   \n",
       "52573                      0.0                                         0.0   \n",
       "52574                      0.0                                         0.0   \n",
       "52575                      0.0                                         0.0   \n",
       "52576                      0.0                                         0.0   \n",
       "52577                      0.0                                         0.0   \n",
       "52578                      0.0                                         0.0   \n",
       "52579                      0.0                                         0.0   \n",
       "52580                      0.0                                         0.0   \n",
       "52581                      0.0                                         0.0   \n",
       "52582                      0.0                                         0.0   \n",
       "52583                      0.0                                         0.0   \n",
       "\n",
       "       119_Daily Rainfall(mm)  119_Hourly Rainfall(mm)  \\\n",
       "52561                     0.5                      0.5   \n",
       "52562                     1.0                      0.5   \n",
       "52563                     1.2                      0.2   \n",
       "52564                     1.2                      0.0   \n",
       "52565                     1.2                      0.0   \n",
       "52566                     1.2                      0.0   \n",
       "52567                     1.3                      0.1   \n",
       "52568                     1.4                      0.1   \n",
       "52569                     1.4                      0.0   \n",
       "52570                     1.4                      0.0   \n",
       "52571                     1.4                      0.0   \n",
       "52572                     1.4                      0.0   \n",
       "52573                     1.4                      0.0   \n",
       "52574                     1.4                      0.0   \n",
       "52575                     1.4                      0.0   \n",
       "52576                     1.4                      0.0   \n",
       "52577                     1.4                      0.0   \n",
       "52578                     1.4                      0.0   \n",
       "52579                     1.4                      0.0   \n",
       "52580                     1.4                      0.0   \n",
       "52581                     1.4                      0.0   \n",
       "52582                     1.4                      0.0   \n",
       "52583                     1.4                      0.0   \n",
       "\n",
       "       119_Accumulated Rainfall(mm) for max 60min  \n",
       "52561                                         0.5  \n",
       "52562                                         0.7  \n",
       "52563                                         0.5  \n",
       "52564                                         0.2  \n",
       "52565                                         0.0  \n",
       "52566                                         0.0  \n",
       "52567                                         0.1  \n",
       "52568                                         0.2  \n",
       "52569                                         0.1  \n",
       "52570                                         0.0  \n",
       "52571                                         0.0  \n",
       "52572                                         0.0  \n",
       "52573                                         0.0  \n",
       "52574                                         0.0  \n",
       "52575                                         0.0  \n",
       "52576                                         0.0  \n",
       "52577                                         0.0  \n",
       "52578                                         0.0  \n",
       "52579                                         0.0  \n",
       "52580                                         0.0  \n",
       "52581                                         0.0  \n",
       "52582                                         0.0  \n",
       "52583                                         0.0  "
      ]
     },
     "execution_count": 355,
     "metadata": {},
     "output_type": "execute_result"
    }
   ],
   "source": [
    "df_fin[df_fin[\"108_Daily Rainfall(mm)\"] != \"108_Hourly Rainfall(mm)\"][rf_cols].tail(23)"
   ]
  },
  {
   "cell_type": "markdown",
   "metadata": {},
   "source": [
    "#### 3.2 \"Rainfall(mm)\" 컬럼에 결측치 -9 또는 -99 행 확인하기"
   ]
  },
  {
   "cell_type": "code",
   "execution_count": 356,
   "metadata": {},
   "outputs": [
    {
     "name": "stdout",
     "output_type": "stream",
     "text": [
      "현재 결측값을 가지는 행의 개수는 46822개 입니다.\n"
     ]
    }
   ],
   "source": [
    "# 결측치의 값으로 -9, -99의 값을 가지는 행 번호를 가지는 변수 생성\n",
    "missing_index = df_fin[(df_fin[\"Rainfall(mm)\"] == -9) | (df_fin[\"Rainfall(mm)\"] == -99)][rf_cols].index\n",
    "# 인덱스의 개수를 확인하기 위한 출력\n",
    "print(f\"현재 결측값을 가지는 행의 개수는 {len(missing_index)}개 입니다.\")"
   ]
  },
  {
   "cell_type": "code",
   "execution_count": 357,
   "metadata": {},
   "outputs": [
    {
     "name": "stdout",
     "output_type": "stream",
     "text": [
      "현재 결측값을 가지는 행의 개수는 5개 입니다\n"
     ]
    }
   ],
   "source": [
    "for index in missing_index:\n",
    "    # \"Rainfall(mm)\" 컬럼에 결측치를 지점번호(108)인 서울 데이터로 변경 \n",
    "    if df_fin.at[index, \"108_Hourly Rainfall(mm)\"] not in [-9, -99]:\n",
    "        df_fin.at[index, \"Rainfall(mm)\"] = df_fin.at[index, \"108_Hourly Rainfall(mm)\"]\n",
    "    # 결측치를 지점번호(112)인 인천과 지점번호(119)인 수원의 평균값으로 변경\n",
    "    elif (df_fin.at[index, \"112_Hourly Rainfall(mm)\"] not in [-9, -99]) & (df_fin.at[index, \"119_Hourly Rainfall(mm)\"] not in [-9, -99]):\n",
    "        avg_rainfall = (df_fin.at[index, \"112_Hourly Rainfall(mm)\"] + df_fin.at[index, \"119_Hourly Rainfall(mm)\"]) / 2\n",
    "        df_fin.at[index, \"Rainfall(mm)\"] = avg_rainfall\n",
    "    # 인천이 결측값을 가지는 경우, 수원 값으로 변경\n",
    "    elif (df_fin.at[index, \"112_Hourly Rainfall(mm)\"] in [-9, -99]) & (df_fin.at[index, \"119_Hourly Rainfall(mm)\"] not in [-9, -99]):\n",
    "        df_fin.at[index, \"Rainfall(mm)\"] = df_fin.at[index, \"119_Hourly Rainfall(mm)\"]\n",
    "    # 수원이 결측값을 가지는 경우, 인천 값으로 변경\n",
    "    elif (df_fin.at[index, \"112_Hourly Rainfall(mm)\"] not in [-9, -99]) & (df_fin.at[index, \"119_Hourly Rainfall(mm)\"] in [-9, -99]):\n",
    "        df_fin.at[index, \"Rainfall(mm)\"] = df_fin.at[index, \"112_Hourly Rainfall(mm)\"]\n",
    "    # 위 조건에 만족하지 않는 결측값의 행은 \"108_Daily Rainfall(mm)\" 컬럼을 활용하여 대체\n",
    "    else:\n",
    "        df_fin.at[index, \"Rainfall(mm)\"] = df_fin.at[index, \"108_Daily Rainfall(mm)\"] - df_fin.at[(index-1), \"108_Daily Rainfall(mm)\"]\n",
    "\n",
    "\n",
    "# 인덱스의 개수를 확인하기 위한 출력\n",
    "missing_index = df_fin[(df_fin[\"Rainfall(mm)\"] < 0)][rf_cols].index\n",
    "print(f\"현재 결측값을 가지는 행의 개수는 {len(missing_index)}개 입니다\")"
   ]
  },
  {
   "cell_type": "code",
   "execution_count": 358,
   "metadata": {},
   "outputs": [
    {
     "name": "stdout",
     "output_type": "stream",
     "text": [
      "Int64Index([38450, 38575, 38718, 42028, 42247], dtype='int64')\n"
     ]
    },
    {
     "data": {
      "text/html": [
       "<div>\n",
       "<style scoped>\n",
       "    .dataframe tbody tr th:only-of-type {\n",
       "        vertical-align: middle;\n",
       "    }\n",
       "\n",
       "    .dataframe tbody tr th {\n",
       "        vertical-align: top;\n",
       "    }\n",
       "\n",
       "    .dataframe thead th {\n",
       "        text-align: right;\n",
       "    }\n",
       "</style>\n",
       "<table border=\"1\" class=\"dataframe\">\n",
       "  <thead>\n",
       "    <tr style=\"text-align: right;\">\n",
       "      <th></th>\n",
       "      <th>Datetime</th>\n",
       "      <th>Rainfall(mm)</th>\n",
       "      <th>Daily Rainfall(mm)</th>\n",
       "      <th>Daily Rainfall2(mm)</th>\n",
       "      <th>108_Daily Rainfall(mm)</th>\n",
       "      <th>108_Hourly Rainfall(mm)</th>\n",
       "      <th>108_Accumulated Rainfall(mm) for max 60min</th>\n",
       "      <th>112_Daily Rainfall(mm)</th>\n",
       "      <th>112_Hourly Rainfall(mm)</th>\n",
       "      <th>112_Accumulated Rainfall(mm) for max 60min</th>\n",
       "      <th>119_Daily Rainfall(mm)</th>\n",
       "      <th>119_Hourly Rainfall(mm)</th>\n",
       "      <th>119_Accumulated Rainfall(mm) for max 60min</th>\n",
       "    </tr>\n",
       "  </thead>\n",
       "  <tbody>\n",
       "    <tr>\n",
       "      <th>42246</th>\n",
       "      <td>2022-10-27 06:00:00</td>\n",
       "      <td>0.0</td>\n",
       "      <td>-9.0</td>\n",
       "      <td>-9.0</td>\n",
       "      <td>0.0</td>\n",
       "      <td>0.0</td>\n",
       "      <td>0.0</td>\n",
       "      <td>0.0</td>\n",
       "      <td>0.0</td>\n",
       "      <td>0.0</td>\n",
       "      <td>0.0</td>\n",
       "      <td>0.0</td>\n",
       "      <td>0.0</td>\n",
       "    </tr>\n",
       "    <tr>\n",
       "      <th>42247</th>\n",
       "      <td>2022-10-27 07:00:00</td>\n",
       "      <td>-99.0</td>\n",
       "      <td>-9.0</td>\n",
       "      <td>-9.0</td>\n",
       "      <td>-99.0</td>\n",
       "      <td>-99.0</td>\n",
       "      <td>0.0</td>\n",
       "      <td>-99.0</td>\n",
       "      <td>-99.0</td>\n",
       "      <td>0.0</td>\n",
       "      <td>-99.0</td>\n",
       "      <td>-99.0</td>\n",
       "      <td>0.0</td>\n",
       "    </tr>\n",
       "    <tr>\n",
       "      <th>42248</th>\n",
       "      <td>2022-10-27 08:00:00</td>\n",
       "      <td>0.0</td>\n",
       "      <td>-9.0</td>\n",
       "      <td>-9.0</td>\n",
       "      <td>0.0</td>\n",
       "      <td>0.0</td>\n",
       "      <td>0.0</td>\n",
       "      <td>0.0</td>\n",
       "      <td>0.0</td>\n",
       "      <td>0.0</td>\n",
       "      <td>0.0</td>\n",
       "      <td>0.0</td>\n",
       "      <td>0.0</td>\n",
       "    </tr>\n",
       "  </tbody>\n",
       "</table>\n",
       "</div>"
      ],
      "text/plain": [
       "                  Datetime  Rainfall(mm)  Daily Rainfall(mm)  \\\n",
       "42246  2022-10-27 06:00:00           0.0                -9.0   \n",
       "42247  2022-10-27 07:00:00         -99.0                -9.0   \n",
       "42248  2022-10-27 08:00:00           0.0                -9.0   \n",
       "\n",
       "       Daily Rainfall2(mm)  108_Daily Rainfall(mm)  108_Hourly Rainfall(mm)  \\\n",
       "42246                 -9.0                     0.0                      0.0   \n",
       "42247                 -9.0                   -99.0                    -99.0   \n",
       "42248                 -9.0                     0.0                      0.0   \n",
       "\n",
       "       108_Accumulated Rainfall(mm) for max 60min  112_Daily Rainfall(mm)  \\\n",
       "42246                                         0.0                     0.0   \n",
       "42247                                         0.0                   -99.0   \n",
       "42248                                         0.0                     0.0   \n",
       "\n",
       "       112_Hourly Rainfall(mm)  112_Accumulated Rainfall(mm) for max 60min  \\\n",
       "42246                      0.0                                         0.0   \n",
       "42247                    -99.0                                         0.0   \n",
       "42248                      0.0                                         0.0   \n",
       "\n",
       "       119_Daily Rainfall(mm)  119_Hourly Rainfall(mm)  \\\n",
       "42246                     0.0                      0.0   \n",
       "42247                   -99.0                    -99.0   \n",
       "42248                     0.0                      0.0   \n",
       "\n",
       "       119_Accumulated Rainfall(mm) for max 60min  \n",
       "42246                                         0.0  \n",
       "42247                                         0.0  \n",
       "42248                                         0.0  "
      ]
     },
     "execution_count": 358,
     "metadata": {},
     "output_type": "execute_result"
    }
   ],
   "source": [
    "# 마지막 결측값을 가진 행 확인\n",
    "print(missing_index)\n",
    "df_fin[rf_cols].loc[42246:42248]"
   ]
  },
  {
   "cell_type": "code",
   "execution_count": 359,
   "metadata": {},
   "outputs": [
    {
     "name": "stdout",
     "output_type": "stream",
     "text": [
      "현재 결측값을 가지는 행의 개수는 0개 입니다\n"
     ]
    }
   ],
   "source": [
    "# \"Rainfall(mm)\" 컬럼에서 결측값을 가진 행 사이 값의 평균값으로 대체\n",
    "for index in missing_index:\n",
    "    df_fin.at[index, \"Rainfall(mm)\"] = (df_fin.at[(index+1), \"Rainfall(mm)\"] + df_fin.at[(index-1), \"Rainfall(mm)\"]) / 2\n",
    "\n",
    "# 인덱스의 개수를 확인하기 위한 출력\n",
    "missing_index = df_fin[(df_fin[\"Rainfall(mm)\"] < 0)][rf_cols].index\n",
    "print(f\"현재 결측값을 가지는 행의 개수는 {len(missing_index)}개 입니다\")"
   ]
  },
  {
   "cell_type": "markdown",
   "metadata": {},
   "source": [
    "#### 3.3 강수 관련 필요없는 컬럼 삭제"
   ]
  },
  {
   "cell_type": "code",
   "execution_count": 360,
   "metadata": {},
   "outputs": [
    {
     "data": {
      "text/plain": [
       "['Datetime',\n",
       " 'Rainfall(mm)',\n",
       " 'Daily Rainfall(mm)',\n",
       " 'Daily Rainfall2(mm)',\n",
       " '108_Daily Rainfall(mm)',\n",
       " '108_Hourly Rainfall(mm)',\n",
       " '108_Accumulated Rainfall(mm) for max 60min',\n",
       " '112_Daily Rainfall(mm)',\n",
       " '112_Hourly Rainfall(mm)',\n",
       " '112_Accumulated Rainfall(mm) for max 60min',\n",
       " '119_Daily Rainfall(mm)',\n",
       " '119_Hourly Rainfall(mm)',\n",
       " '119_Accumulated Rainfall(mm) for max 60min']"
      ]
     },
     "execution_count": 360,
     "metadata": {},
     "output_type": "execute_result"
    }
   ],
   "source": [
    "rf_cols"
   ]
  },
  {
   "cell_type": "code",
   "execution_count": 361,
   "metadata": {},
   "outputs": [],
   "source": [
    "df_fin.drop(columns=rf_cols[2:], axis=1, inplace=True)"
   ]
  },
  {
   "cell_type": "markdown",
   "metadata": {},
   "source": [
    "### 4.바람 데이터 결측치 채우기"
   ]
  },
  {
   "cell_type": "markdown",
   "metadata": {},
   "source": [
    "#### 4.1 풍향 관련 컬럼 추출"
   ]
  },
  {
   "cell_type": "code",
   "execution_count": 362,
   "metadata": {},
   "outputs": [],
   "source": [
    "wd_cols = [cols for cols in df_fin.columns if (\"wind direction\" in cols.lower())]\n",
    "wd_cols.insert(0, 'Datetime')"
   ]
  },
  {
   "cell_type": "code",
   "execution_count": 363,
   "metadata": {},
   "outputs": [
    {
     "data": {
      "text/html": [
       "<div>\n",
       "<style scoped>\n",
       "    .dataframe tbody tr th:only-of-type {\n",
       "        vertical-align: middle;\n",
       "    }\n",
       "\n",
       "    .dataframe tbody tr th {\n",
       "        vertical-align: top;\n",
       "    }\n",
       "\n",
       "    .dataframe thead th {\n",
       "        text-align: right;\n",
       "    }\n",
       "</style>\n",
       "<table border=\"1\" class=\"dataframe\">\n",
       "  <thead>\n",
       "    <tr style=\"text-align: right;\">\n",
       "      <th></th>\n",
       "      <th>Datetime</th>\n",
       "      <th>Wind Direction</th>\n",
       "      <th>108_Observed wind direction(deg)</th>\n",
       "      <th>108_Maximum wind direction per minute(deg)</th>\n",
       "      <th>112_Observed wind direction(deg)</th>\n",
       "      <th>112_Maximum wind direction per minute(deg)</th>\n",
       "      <th>119_Observed wind direction(deg)</th>\n",
       "      <th>119_Maximum wind direction per minute(deg)</th>\n",
       "    </tr>\n",
       "  </thead>\n",
       "  <tbody>\n",
       "    <tr>\n",
       "      <th>0</th>\n",
       "      <td>2018-01-01 00:00:00</td>\n",
       "      <td>11</td>\n",
       "      <td>108.0</td>\n",
       "      <td>289.7</td>\n",
       "      <td>325.3</td>\n",
       "      <td>348.7</td>\n",
       "      <td>294.1</td>\n",
       "      <td>310.4</td>\n",
       "    </tr>\n",
       "    <tr>\n",
       "      <th>1</th>\n",
       "      <td>2018-01-01 01:00:00</td>\n",
       "      <td>36</td>\n",
       "      <td>350.4</td>\n",
       "      <td>333.9</td>\n",
       "      <td>348.5</td>\n",
       "      <td>348.5</td>\n",
       "      <td>274.7</td>\n",
       "      <td>298.7</td>\n",
       "    </tr>\n",
       "    <tr>\n",
       "      <th>2</th>\n",
       "      <td>2018-01-01 02:00:00</td>\n",
       "      <td>27</td>\n",
       "      <td>262.3</td>\n",
       "      <td>328.6</td>\n",
       "      <td>20.9</td>\n",
       "      <td>7.1</td>\n",
       "      <td>306.3</td>\n",
       "      <td>267.7</td>\n",
       "    </tr>\n",
       "    <tr>\n",
       "      <th>3</th>\n",
       "      <td>2018-01-01 03:00:00</td>\n",
       "      <td>29</td>\n",
       "      <td>293.0</td>\n",
       "      <td>283.8</td>\n",
       "      <td>351.2</td>\n",
       "      <td>352.9</td>\n",
       "      <td>265.5</td>\n",
       "      <td>266.4</td>\n",
       "    </tr>\n",
       "    <tr>\n",
       "      <th>4</th>\n",
       "      <td>2018-01-01 04:00:00</td>\n",
       "      <td>29</td>\n",
       "      <td>292.0</td>\n",
       "      <td>294.9</td>\n",
       "      <td>350.8</td>\n",
       "      <td>347.2</td>\n",
       "      <td>0.0</td>\n",
       "      <td>169.2</td>\n",
       "    </tr>\n",
       "  </tbody>\n",
       "</table>\n",
       "</div>"
      ],
      "text/plain": [
       "              Datetime  Wind Direction  108_Observed wind direction(deg)  \\\n",
       "0  2018-01-01 00:00:00              11                             108.0   \n",
       "1  2018-01-01 01:00:00              36                             350.4   \n",
       "2  2018-01-01 02:00:00              27                             262.3   \n",
       "3  2018-01-01 03:00:00              29                             293.0   \n",
       "4  2018-01-01 04:00:00              29                             292.0   \n",
       "\n",
       "   108_Maximum wind direction per minute(deg)  \\\n",
       "0                                       289.7   \n",
       "1                                       333.9   \n",
       "2                                       328.6   \n",
       "3                                       283.8   \n",
       "4                                       294.9   \n",
       "\n",
       "   112_Observed wind direction(deg)  \\\n",
       "0                             325.3   \n",
       "1                             348.5   \n",
       "2                              20.9   \n",
       "3                             351.2   \n",
       "4                             350.8   \n",
       "\n",
       "   112_Maximum wind direction per minute(deg)  \\\n",
       "0                                       348.7   \n",
       "1                                       348.5   \n",
       "2                                         7.1   \n",
       "3                                       352.9   \n",
       "4                                       347.2   \n",
       "\n",
       "   119_Observed wind direction(deg)  \\\n",
       "0                             294.1   \n",
       "1                             274.7   \n",
       "2                             306.3   \n",
       "3                             265.5   \n",
       "4                               0.0   \n",
       "\n",
       "   119_Maximum wind direction per minute(deg)  \n",
       "0                                       310.4  \n",
       "1                                       298.7  \n",
       "2                                       267.7  \n",
       "3                                       266.4  \n",
       "4                                       169.2  "
      ]
     },
     "execution_count": 363,
     "metadata": {},
     "output_type": "execute_result"
    }
   ],
   "source": [
    "df_fin[wd_cols].head()"
   ]
  },
  {
   "cell_type": "markdown",
   "metadata": {},
   "source": [
    "#### 4.2 \"Wind Direction\" 컬럼 값을 세자리 정수로 변경"
   ]
  },
  {
   "cell_type": "code",
   "execution_count": 364,
   "metadata": {},
   "outputs": [],
   "source": [
    "df_fin[\"Wind Direction\"] = df_fin[\"Wind Direction\"] * 10"
   ]
  },
  {
   "cell_type": "markdown",
   "metadata": {},
   "source": [
    "#### 4.3 \"Wind Direction\" 컬럼에 결측치가 0 이하인 행 확인"
   ]
  },
  {
   "cell_type": "code",
   "execution_count": 365,
   "metadata": {},
   "outputs": [
    {
     "name": "stdout",
     "output_type": "stream",
     "text": [
      "현재 결측값을 가지는 행의 개수는 48개 입니다.\n"
     ]
    }
   ],
   "source": [
    "# 결측치의 값으로 -9, -99의 값을 가지는 행 번호를 가지는 변수 생성\n",
    "missing_index = df_fin[df_fin[\"Wind Direction\"] < 0][wd_cols].index\n",
    "# 인덱스의 개수를 확인하기 위한 출력\n",
    "print(f\"현재 결측값을 가지는 행의 개수는 {len(missing_index)}개 입니다.\")"
   ]
  },
  {
   "cell_type": "code",
   "execution_count": 366,
   "metadata": {},
   "outputs": [
    {
     "name": "stdout",
     "output_type": "stream",
     "text": [
      "현재 결측값을 가지는 행의 개수는 0개 입니다\n"
     ]
    }
   ],
   "source": [
    "for index in missing_index:\n",
    "    if (df_fin.at[index, \"108_Observed wind direction(deg)\"] >= 0):\n",
    "        df_fin.at[index, \"Wind Direction\"] = df_fin.at[index, \"108_Observed wind direction(deg)\"]\n",
    "    # 서울 값이 결측값일 경우, 지점번호(112)인 인천 값을 사용\n",
    "    elif (df_fin.at[index, \"108_Observed wind direction(deg)\"] < 0) & (df_fin.at[index, \"112_Observed wind direction(deg)\"] >= 0):\n",
    "        df_fin.at[index, \"Wind Direction\"] = df_fin.at[index, \"112_Observed wind direction(deg)\"]\n",
    "    # 인천 값이 결측값일 경우, 지점번호(119) 수원 값을 사용\n",
    "    elif (df_fin.at[index, \"108_Observed wind direction(deg)\"] < 0 ) & (df_fin.at[index, \"112_Observed wind direction(deg)\"] < 0) & (df_fin.at[index, \"119_Observed wind direction(deg)\"] >= 0):\n",
    "        df_fin.at[index, \"Wind Direction\"] = df_fin.at[index, \"119_Observed wind direction(deg)\"]\n",
    "\n",
    "# 인덱스의 개수를 확인하기 위한 출력\n",
    "missing_index = df_fin[(df_fin[\"Wind Direction\"] < 0)][wd_cols].index\n",
    "print(f\"현재 결측값을 가지는 행의 개수는 {len(missing_index)}개 입니다\")"
   ]
  },
  {
   "cell_type": "markdown",
   "metadata": {},
   "source": [
    "#### 4.4 \"Maximum wind direction per minute(deg)\" 컬럼 생성을 위해 결측치 0 이하 확인"
   ]
  },
  {
   "cell_type": "code",
   "execution_count": 367,
   "metadata": {},
   "outputs": [
    {
     "name": "stdout",
     "output_type": "stream",
     "text": [
      "현재 결측값을 가지는 행의 개수는 95개 입니다.\n"
     ]
    }
   ],
   "source": [
    "# 결측치의 값으로 -9, -99의 값을 가지는 행 번호를 가지는 변수 생성\n",
    "missing_index = df_fin[df_fin[\"108_Maximum wind direction per minute(deg)\"] < 0][wd_cols].index\n",
    "# 인덱스의 개수를 확인하기 위한 출력\n",
    "print(f\"현재 결측값을 가지는 행의 개수는 {len(missing_index)}개 입니다.\")"
   ]
  },
  {
   "cell_type": "code",
   "execution_count": 368,
   "metadata": {},
   "outputs": [
    {
     "name": "stdout",
     "output_type": "stream",
     "text": [
      "현재 결측값을 가지는 행의 개수는 0개 입니다\n"
     ]
    }
   ],
   "source": [
    "for index in missing_index:\n",
    "    # 서울 값이 결측값일 경우, 지점번호(112)인 인천 값을 사용\n",
    "    if (df_fin.at[index, \"112_Maximum wind direction per minute(deg)\"] >= 0):\n",
    "        df_fin.at[index, \"108_Maximum wind direction per minute(deg)\"] = df_fin.at[index, \"112_Maximum wind direction per minute(deg)\"]\n",
    "    # 인천 값이 결측값일 경우, 지점번호(119) 수원 값을 사용\n",
    "    elif (df_fin.at[index, \"112_Observed wind direction(deg)\"] < 0) & (df_fin.at[index, \"119_Observed wind direction(deg)\"] >= 0):\n",
    "        df_fin.at[index, \"108_Maximum wind direction per minute(deg)\"] = df_fin.at[index, \"119_Maximum wind direction per minute(deg)\"]\n",
    "\n",
    "# 인덱스의 개수를 확인하기 위한 출력\n",
    "missing_index = df_fin[(df_fin[\"Wind Direction\"] < 0)][wd_cols].index\n",
    "print(f\"현재 결측값을 가지는 행의 개수는 {len(missing_index)}개 입니다\")\n",
    "\n",
    "# \"Maximum wind direction per minute(deg)\" 컬럼 생성\n",
    "if len(missing_index) == 0:\n",
    "    df_fin[\"Maximum wind direction per minute(deg)\"] = df_fin[\"108_Maximum wind direction per minute(deg)\"]\n",
    "else:\n",
    "    print(\"추가 전처리가 필요합니다.\")"
   ]
  },
  {
   "cell_type": "markdown",
   "metadata": {},
   "source": [
    "#### 4.5 풍향 관련 필요없는 컬럼 삭제"
   ]
  },
  {
   "cell_type": "code",
   "execution_count": 369,
   "metadata": {},
   "outputs": [],
   "source": [
    "df_fin.drop(columns=wd_cols[2:], axis=1, inplace=True)"
   ]
  },
  {
   "cell_type": "markdown",
   "metadata": {},
   "source": [
    "#### 4.6 풍속 관련 컬럼 추출"
   ]
  },
  {
   "cell_type": "code",
   "execution_count": 370,
   "metadata": {},
   "outputs": [],
   "source": [
    "ws_cols = [cols for cols in df_fin.columns if (\"wind speed\" in cols.lower())]\n",
    "ws_cols.insert(0, 'Datetime')"
   ]
  },
  {
   "cell_type": "markdown",
   "metadata": {},
   "source": [
    "#### 4.7 \"Wind Speed\" 컬럼에 결측치 0 이하 인 행 확인 "
   ]
  },
  {
   "cell_type": "code",
   "execution_count": 371,
   "metadata": {},
   "outputs": [
    {
     "name": "stdout",
     "output_type": "stream",
     "text": [
      "현재 결측값을 가지는 행의 개수는 48개 입니다.\n"
     ]
    }
   ],
   "source": [
    "# 결측치의 값으로 0 이하의 값을 가지는 행 번호를 가지는 변수 생성\n",
    "missing_index = df_fin[df_fin[\"Wind Speed(m/s)\"] < 0][ws_cols].index\n",
    "# 인덱스의 개수를 확인하기 위한 출력\n",
    "print(f\"현재 결측값을 가지는 행의 개수는 {len(missing_index)}개 입니다.\")"
   ]
  },
  {
   "cell_type": "code",
   "execution_count": 372,
   "metadata": {},
   "outputs": [
    {
     "name": "stdout",
     "output_type": "stream",
     "text": [
      "현재 결측값을 가지는 행의 개수는 0개 입니다\n"
     ]
    }
   ],
   "source": [
    "for index in missing_index:\n",
    "    # \"Wind Direction\" 컬럼에 결측값이 있을 경우, 지점번호(108)인 서울 값을 사용\n",
    "    if (df_fin.at[index, \"108_Observed wind speed(m/s)\"] >= 0):\n",
    "        df_fin.at[index, \"Wind Speed(m/s)\"] = df_fin.at[index, \"108_Observed wind speed(m/s)\"]\n",
    "    # 서울 값이 결측값일 경우, 지점번호(112)인 인천 값을 사용\n",
    "    elif (df_fin.at[index, \"108_Observed wind speed(m/s)\"] < 0) & (df_fin.at[index, \"112_Observed wind speed(m/s)\"] >= 0):\n",
    "        df_fin.at[index, \"Wind Speed(m/s)\"] = df_fin.at[index, \"112_Observed wind speed(m/s)\"]\n",
    "    # 인천 값이 결측값일 경우, 지점번호(119) 수원 값을 사용\n",
    "    elif (df_fin.at[index, \"108_Observed wind speed(m/s)\"] < 0) & (df_fin.at[index, \"112_Observed wind speed(m/s)\"] < 0) & (df_fin.at[index, \"119_Observed wind speed(m/s)\"] >= 0):\n",
    "        df_fin.at[index, \"Wind Speed(m/s)\"] = df_fin.at[index, \"119_Observed wind speed(m/s)\"]\n",
    "\n",
    "# 인덱스의 개수를 확인하기 위한 출력\n",
    "missing_index = df_fin[(df_fin[\"Wind Speed(m/s)\"] < 0)][ws_cols].index\n",
    "print(f\"현재 결측값을 가지는 행의 개수는 {len(missing_index)}개 입니다\")"
   ]
  },
  {
   "cell_type": "markdown",
   "metadata": {},
   "source": [
    "#### 4.8 \"Average wind speed per minute(m/s)\", \"Maximum wind speed per minute(m/s)\" 컬럼 생성을 위한 결측치 0이하인 행 확인"
   ]
  },
  {
   "cell_type": "markdown",
   "metadata": {},
   "source": [
    "##### 4.8.1 \"Average wind speed per minute(m/s)"
   ]
  },
  {
   "cell_type": "code",
   "execution_count": 373,
   "metadata": {},
   "outputs": [
    {
     "name": "stdout",
     "output_type": "stream",
     "text": [
      "현재 결측값을 가지는 행의 개수는 95개 입니다.\n"
     ]
    }
   ],
   "source": [
    "# 결측치의 값으로 -9의 값을 가지는 행 번호를 가지는 변수 생성\n",
    "missing_index = df_fin[df_fin[\"108_Average wind speed per minute(m/s)\"] < 0][ws_cols].index\n",
    "# 인덱스의 개수를 확인하기 위한 출력\n",
    "print(f\"현재 결측값을 가지는 행의 개수는 {len(missing_index)}개 입니다.\")"
   ]
  },
  {
   "cell_type": "code",
   "execution_count": 374,
   "metadata": {},
   "outputs": [
    {
     "name": "stdout",
     "output_type": "stream",
     "text": [
      "현재 결측값을 가지는 행의 개수는 0개 입니다\n",
      "새로운 컬럼 생성하였습니다.\n"
     ]
    }
   ],
   "source": [
    "for index in missing_index:\n",
    "    # 서울 값이 결측값일 경우, 지점번호(112)인 인천 값을 사용\n",
    "    if (df_fin.at[index, \"112_Average wind speed per minute(m/s)\"] >= 0):\n",
    "        df_fin.at[index, \"108_Average wind speed per minute(m/s)\"] = df_fin.at[index, \"112_Average wind speed per minute(m/s)\"]\n",
    "    # 인천 값이 결측값일 경우, 지점번호(119) 수원 값을 사용\n",
    "    elif (df_fin.at[index, \"112_Average wind speed per minute(m/s)\"] < 0) & (df_fin.at[index, \"119_Average wind speed per minute(m/s)\"] >= 0):\n",
    "        df_fin.at[index, \"108_Average wind speed per minute(m/s)\"] = df_fin.at[index, \"119_Average wind speed per minute(m/s)\"]\n",
    "\n",
    "# 인덱스의 개수를 확인하기 위한 출력\n",
    "missing_index = df_fin[(df_fin[\"108_Average wind speed per minute(m/s)\"] < 0)][ws_cols].index\n",
    "print(f\"현재 결측값을 가지는 행의 개수는 {len(missing_index)}개 입니다\")\n",
    "\n",
    "# \"Miximum wind speed per minute(m/s)\" 컬럼 생성\n",
    "if len(missing_index) == 0:\n",
    "    df_fin[\"Average wind speed per minute(m/s)\"] = df_fin[\"108_Average wind speed per minute(m/s)\"]\n",
    "    print(\"새로운 컬럼 생성하였습니다.\")\n",
    "else:\n",
    "    print(\"추가 전처리가 필요합니다.\")"
   ]
  },
  {
   "cell_type": "markdown",
   "metadata": {},
   "source": [
    "##### 4.8.2 \"Maximum wind speed per minute(m/s)\""
   ]
  },
  {
   "cell_type": "code",
   "execution_count": 375,
   "metadata": {},
   "outputs": [
    {
     "name": "stdout",
     "output_type": "stream",
     "text": [
      "현재 결측값을 가지는 행의 개수는 95개 입니다.\n"
     ]
    }
   ],
   "source": [
    "# 결측치의 값으로 -9의 값을 가지는 행 번호를 가지는 변수 생성\n",
    "missing_index = df_fin[df_fin[\"108_Maximum wind speed per minute(m/s)\"] < 0][ws_cols].index\n",
    "# 인덱스의 개수를 확인하기 위한 출력\n",
    "print(f\"현재 결측값을 가지는 행의 개수는 {len(missing_index)}개 입니다.\")"
   ]
  },
  {
   "cell_type": "code",
   "execution_count": 376,
   "metadata": {},
   "outputs": [
    {
     "name": "stdout",
     "output_type": "stream",
     "text": [
      "현재 결측값을 가지는 행의 개수는 0개 입니다\n",
      "새로운 컬럼 생성하였습니다.\n"
     ]
    }
   ],
   "source": [
    "for index in missing_index:\n",
    "    # 서울 값이 결측값일 경우, 지점번호(112)인 인천 값을 사용\n",
    "    if (df_fin.at[index, \"112_Maximum wind speed per minute(m/s)\"] >= 0):\n",
    "        df_fin.at[index, \"108_Maximum wind speed per minute(m/s)\"] = df_fin.at[index, \"112_Maximum wind speed per minute(m/s)\"]\n",
    "    # 인천 값이 결측값일 경우, 지점번호(119) 수원 값을 사용\n",
    "    elif (df_fin.at[index, \"112_Maximum wind speed per minute(m/s)\"] < 0) & (df_fin.at[index, \"119_Maximum wind speed per minute(m/s)\"] >= 0):\n",
    "        df_fin.at[index, \"108_Maximum wind speed per minute(m/s)\"] = df_fin.at[index, \"119_Maximum wind speed per minute(m/s)\"]\n",
    "\n",
    "# 인덱스의 개수를 확인하기 위한 출력\n",
    "missing_index = df_fin[(df_fin[\"108_Maximum wind speed per minute(m/s)\"] < 0)][ws_cols].index\n",
    "print(f\"현재 결측값을 가지는 행의 개수는 {len(missing_index)}개 입니다\")\n",
    "\n",
    "# \"Miximum wind speed per minute(m/s)\" 컬럼 생성\n",
    "if len(missing_index) == 0:\n",
    "    df_fin[\"Maximum wind speed per minute(m/s)\"] = df_fin[\"108_Maximum wind speed per minute(m/s)\"]\n",
    "    print(\"새로운 컬럼 생성하였습니다.\")\n",
    "else:\n",
    "    print(\"추가 전처리가 필요합니다.\")"
   ]
  },
  {
   "cell_type": "markdown",
   "metadata": {},
   "source": [
    "#### 4.9 풍속 관련 필요없는 컬럼 삭제"
   ]
  },
  {
   "cell_type": "code",
   "execution_count": 377,
   "metadata": {},
   "outputs": [
    {
     "data": {
      "text/plain": [
       "Index(['Datetime', 'Wind Speed(m/s)', '108_Observed wind speed(m/s)',\n",
       "       '108_Average wind speed per minute(m/s)',\n",
       "       '108_Maximum wind speed per minute(m/s)',\n",
       "       '112_Observed wind speed(m/s)',\n",
       "       '112_Average wind speed per minute(m/s)',\n",
       "       '112_Maximum wind speed per minute(m/s)',\n",
       "       '119_Observed wind speed(m/s)',\n",
       "       '119_Average wind speed per minute(m/s)',\n",
       "       '119_Maximum wind speed per minute(m/s)'],\n",
       "      dtype='object')"
      ]
     },
     "execution_count": 377,
     "metadata": {},
     "output_type": "execute_result"
    }
   ],
   "source": [
    "df_fin[ws_cols].columns"
   ]
  },
  {
   "cell_type": "code",
   "execution_count": 378,
   "metadata": {},
   "outputs": [],
   "source": [
    "df_fin.drop(columns=ws_cols[2:], axis=1, inplace=True)"
   ]
  },
  {
   "cell_type": "markdown",
   "metadata": {},
   "source": [
    "### 5.습도 데이터 결측치 채우기"
   ]
  },
  {
   "cell_type": "markdown",
   "metadata": {},
   "source": [
    "#### 5.1 습도 관련 컬럼 추출"
   ]
  },
  {
   "cell_type": "code",
   "execution_count": 379,
   "metadata": {},
   "outputs": [],
   "source": [
    "hum_cols = [cols for cols in df_fin.columns if (\"humidity\" in cols.lower())]\n",
    "hum_cols.insert(0, 'Datetime')"
   ]
  },
  {
   "cell_type": "markdown",
   "metadata": {},
   "source": [
    "#### 5.2 \"Relative Humidity(%)\" 컬럼 값에 결측치 -9인 행 확인"
   ]
  },
  {
   "cell_type": "code",
   "execution_count": 380,
   "metadata": {},
   "outputs": [
    {
     "name": "stdout",
     "output_type": "stream",
     "text": [
      "현재 결측값을 가지는 행의 개수는 19개 입니다.\n"
     ]
    }
   ],
   "source": [
    "# 결측치의 값으로 -9 의 값을 가지는 행 번호를 가지는 변수 생성\n",
    "missing_index = df_fin[df_fin[\"Relative Humidity(%)\"] < 0][hum_cols].index\n",
    "# 인덱스의 개수를 확인하기 위한 출력\n",
    "print(f\"현재 결측값을 가지는 행의 개수는 {len(missing_index)}개 입니다.\")"
   ]
  },
  {
   "cell_type": "code",
   "execution_count": 381,
   "metadata": {},
   "outputs": [
    {
     "name": "stdout",
     "output_type": "stream",
     "text": [
      "현재 결측값을 가지는 행의 개수는 0개 입니다\n"
     ]
    }
   ],
   "source": [
    "for index in missing_index:\n",
    "    # \"Relative Humidity\" 컬럼에 결측값이 있을 경우, 지점번호(108)인 서울 값을 사용\n",
    "    if df_fin.at[index, \"108_Observed humidity(%)\"] not in [-9]:\n",
    "        df_fin.at[index, \"Relative Humidity(%)\"] = df_fin.at[index, \"108_Observed humidity(%)\"]\n",
    "    # 서울 값이 결측값일 경우, 지점번호(112)인 인천 값을 사용\n",
    "    elif (df_fin.at[index, \"108_Observed humidity(%)\"] in [-9]) & (df_fin.at[index, \"112_Observed humidity(%)\"] not in [-9]):\n",
    "        df_fin.at[index, \"Relative Humidity(%)\"] = df_fin.at[index, \"112_Observed humidity(%)\"]\n",
    "    # 인천 값이 결측값일 경우, 지점번호(119) 수원 값을 사용\n",
    "    elif (df_fin.at[index, \"108_Observed humidity(%)\"] in [-9]) & (df_fin.at[index, \"112_Observed humidity(%)\"] in [-9]) & (df_fin.at[index, \"119_Observed humidity(%)\"] not in [-9]):\n",
    "        df_fin.at[index, \"Relative Humidity(%)\"] = df_fin.at[index, \"119_Observed humidity(%)\"]\n",
    "\n",
    "# 인덱스의 개수를 확인하기 위한 출력\n",
    "missing_index = df_fin[(df_fin[\"Relative Humidity(%)\"] == -9)][hum_cols].index\n",
    "print(f\"현재 결측값을 가지는 행의 개수는 {len(missing_index)}개 입니다\")"
   ]
  },
  {
   "cell_type": "markdown",
   "metadata": {},
   "source": [
    "#### 5.3 \"Average humidity per minute(%)\", \"Maximum humidity per minute(%)\", \"Minimum humidity per minute(%)"
   ]
  },
  {
   "cell_type": "markdown",
   "metadata": {},
   "source": [
    "##### 5.3.1 \"Average humidity per minute(%)\""
   ]
  },
  {
   "cell_type": "code",
   "execution_count": 382,
   "metadata": {},
   "outputs": [
    {
     "name": "stdout",
     "output_type": "stream",
     "text": [
      "현재 결측값을 가지는 행의 개수는 10개 입니다.\n"
     ]
    }
   ],
   "source": [
    "# 결측치의 값으로 -9의 값을 가지는 행 번호를 가지는 변수 생성\n",
    "missing_index = df_fin[df_fin[\"108_Average humidity per minute(%)\"] < 0][hum_cols].index\n",
    "# 인덱스의 개수를 확인하기 위한 출력\n",
    "print(f\"현재 결측값을 가지는 행의 개수는 {len(missing_index)}개 입니다.\")"
   ]
  },
  {
   "cell_type": "code",
   "execution_count": 383,
   "metadata": {},
   "outputs": [
    {
     "name": "stdout",
     "output_type": "stream",
     "text": [
      "현재 결측값을 가지는 행의 개수는 0개 입니다\n"
     ]
    }
   ],
   "source": [
    "for index in missing_index:\n",
    "    # 서울 값이 결측값일 경우, 지점번호(112)인 인천 값을 사용\n",
    "    if (df_fin.at[index, \"112_Average humidity per minute(%)\"] not in [-9]):\n",
    "        df_fin.at[index, \"108_Average humidity per minute(%)\"] = df_fin.at[index, \"112_Average humidity per minute(%)\"]\n",
    "    # 인천 값이 결측값일 경우, 지점번호(119) 수원 값을 사용\n",
    "    elif (df_fin.at[index, \"112_Average humidity per minute(%)\"] in [-9]) & (df_fin.at[index, \"119_Average humidity per minute(%)\"] not in [-9]):\n",
    "        df_fin.at[index, \"108_Average humidity per minute(%))\"] = df_fin.at[index, \"119_Average humidity per minute(%)\"]\n",
    "\n",
    "# 인덱스의 개수를 확인하기 위한 출력\n",
    "missing_index = df_fin[(df_fin[\"108_Average humidity per minute(%)\"] == -9)][hum_cols].index\n",
    "print(f\"현재 결측값을 가지는 행의 개수는 {len(missing_index)}개 입니다\")\n",
    "\n",
    "# \"Average humidity per minute(%)\" 컬럼 생성\n",
    "if len(missing_index) == 0:\n",
    "    df_fin[\"Average humidity per minute(%)\"] = df_fin[\"108_Average humidity per minute(%)\"]\n",
    "else:\n",
    "    print(\"추가 전처리가 필요합니다.\")"
   ]
  },
  {
   "cell_type": "markdown",
   "metadata": {},
   "source": [
    "##### 5.3.2 \"Maximum humidity per minute(%)\""
   ]
  },
  {
   "cell_type": "code",
   "execution_count": 384,
   "metadata": {},
   "outputs": [
    {
     "name": "stdout",
     "output_type": "stream",
     "text": [
      "현재 결측값을 가지는 행의 개수는 10개 입니다.\n"
     ]
    }
   ],
   "source": [
    "# 결측치의 값으로 -9의 값을 가지는 행 번호를 가지는 변수 생성\n",
    "missing_index = df_fin[df_fin[\"108_Maximum humidity per minute(%)\"] < 0][hum_cols].index\n",
    "# 인덱스의 개수를 확인하기 위한 출력\n",
    "print(f\"현재 결측값을 가지는 행의 개수는 {len(missing_index)}개 입니다.\")"
   ]
  },
  {
   "cell_type": "code",
   "execution_count": 385,
   "metadata": {},
   "outputs": [
    {
     "name": "stdout",
     "output_type": "stream",
     "text": [
      "현재 결측값을 가지는 행의 개수는 0개 입니다\n"
     ]
    }
   ],
   "source": [
    "for index in missing_index:\n",
    "    # 서울 값이 결측값일 경우, 지점번호(112)인 인천 값을 사용\n",
    "    if (df_fin.at[index, \"112_Maximum humidity per minute(%)\"] not in [-9]):\n",
    "        df_fin.at[index, \"108_Maximum humidity per minute(%)\"] = df_fin.at[index, \"112_Maximum humidity per minute(%)\"]\n",
    "    # 인천 값이 결측값일 경우, 지점번호(119) 수원 값을 사용\n",
    "    elif (df_fin.at[index, \"112_Maximum humidity per minute(%)\"] in [-9]) & (df_fin.at[index, \"119_Maximum humidity per minute(%)\"] not in [-9]):\n",
    "        df_fin.at[index, \"108_Maximum humidity per minute(%))\"] = df_fin.at[index, \"119_Maximum humidity per minute(%)\"]\n",
    "\n",
    "# 인덱스의 개수를 확인하기 위한 출력\n",
    "missing_index = df_fin[(df_fin[\"108_Maximum humidity per minute(%)\"] == -9)][hum_cols].index\n",
    "print(f\"현재 결측값을 가지는 행의 개수는 {len(missing_index)}개 입니다\")\n",
    "\n",
    "# \"Maximum humidity per minute(%)\" 컬럼 생성\n",
    "if len(missing_index) == 0:\n",
    "    df_fin[\"Maximum humidity per minute(%)\"] = df_fin[\"108_Maximum humidity per minute(%)\"]\n",
    "else:\n",
    "    print(\"추가 전처리가 필요합니다.\")"
   ]
  },
  {
   "cell_type": "markdown",
   "metadata": {},
   "source": [
    "##### 5.3.3 \"Minimum humidity per minute(%)\""
   ]
  },
  {
   "cell_type": "code",
   "execution_count": 386,
   "metadata": {},
   "outputs": [
    {
     "name": "stdout",
     "output_type": "stream",
     "text": [
      "현재 결측값을 가지는 행의 개수는 11개 입니다.\n"
     ]
    }
   ],
   "source": [
    "# 결측치의 값으로 -9의 값을 가지는 행 번호를 가지는 변수 생성\n",
    "missing_index = df_fin[df_fin[\"108_Minimum humidity per minute(%)\"] < 0][hum_cols].index\n",
    "# 인덱스의 개수를 확인하기 위한 출력\n",
    "print(f\"현재 결측값을 가지는 행의 개수는 {len(missing_index)}개 입니다.\")"
   ]
  },
  {
   "cell_type": "code",
   "execution_count": 387,
   "metadata": {},
   "outputs": [
    {
     "name": "stdout",
     "output_type": "stream",
     "text": [
      "현재 결측값을 가지는 행의 개수는 0개 입니다\n"
     ]
    }
   ],
   "source": [
    "for index in missing_index:\n",
    "    # 서울 값이 결측값일 경우, 지점번호(112)인 인천 값을 사용\n",
    "    if (df_fin.at[index, \"112_Minimum humidity per minute(%)\"] not in [-9]):\n",
    "        df_fin.at[index, \"108_Minimum humidity per minute(%)\"] = df_fin.at[index, \"112_Minimum humidity per minute(%)\"]\n",
    "    # 인천 값이 결측값일 경우, 지점번호(119) 수원 값을 사용\n",
    "    elif (df_fin.at[index, \"112_Minimum humidity per minute(%)\"] in [-9]) & (df_fin.at[index, \"119_Minimum humidity per minute(%)\"] not in [-9]):\n",
    "        df_fin.at[index, \"108_Minimum humidity per minute(%))\"] = df_fin.at[index, \"119_Minimum humidity per minute(%)\"]\n",
    "\n",
    "# 인덱스의 개수를 확인하기 위한 출력\n",
    "missing_index = df_fin[(df_fin[\"108_Minimum humidity per minute(%)\"] == -9)][hum_cols].index\n",
    "print(f\"현재 결측값을 가지는 행의 개수는 {len(missing_index)}개 입니다\")\n",
    "\n",
    "# \"Minimum humidity per minute(%)\" 컬럼 생성\n",
    "if len(missing_index) == 0:\n",
    "    df_fin[\"Minimum humidity per minute(%)\"] = df_fin[\"108_Maximum humidity per minute(%)\"]\n",
    "else:\n",
    "    print(\"추가 전처리가 필요합니다.\")"
   ]
  },
  {
   "cell_type": "markdown",
   "metadata": {},
   "source": [
    "#### 5.4 습도 관련 필요없는 컬럼 삭제"
   ]
  },
  {
   "cell_type": "code",
   "execution_count": 388,
   "metadata": {},
   "outputs": [
    {
     "data": {
      "text/plain": [
       "Index(['Datetime', 'Relative Humidity(%)', '108_Observed humidity(%)',\n",
       "       '108_Average humidity per minute(%)',\n",
       "       '108_Maximum humidity per minute(%)',\n",
       "       '108_Minimum humidity per minute(%)', '112_Observed humidity(%)',\n",
       "       '112_Average humidity per minute(%)',\n",
       "       '112_Maximum humidity per minute(%)',\n",
       "       '112_Minimum humidity per minute(%)', '119_Observed humidity(%)',\n",
       "       '119_Average humidity per minute(%)',\n",
       "       '119_Maximum humidity per minute(%)',\n",
       "       '119_Minimum humidity per minute(%)'],\n",
       "      dtype='object')"
      ]
     },
     "execution_count": 388,
     "metadata": {},
     "output_type": "execute_result"
    }
   ],
   "source": [
    "df_fin[hum_cols].columns"
   ]
  },
  {
   "cell_type": "code",
   "execution_count": 389,
   "metadata": {},
   "outputs": [],
   "source": [
    "df_fin.drop(columns=hum_cols[2:], axis=1, inplace=True)"
   ]
  },
  {
   "cell_type": "markdown",
   "metadata": {},
   "source": [
    "### 6.기압 데이터 결측치 채우기"
   ]
  },
  {
   "cell_type": "markdown",
   "metadata": {},
   "source": [
    "#### 6.1 기압 관련 컬럼 추출"
   ]
  },
  {
   "cell_type": "code",
   "execution_count": 390,
   "metadata": {},
   "outputs": [],
   "source": [
    "ap_cols = [cols for cols in df_fin.columns if (\"atmospheric pressure\" in cols.lower())]\n",
    "ap_cols.insert(0, 'Datetime')"
   ]
  },
  {
   "cell_type": "code",
   "execution_count": 391,
   "metadata": {},
   "outputs": [
    {
     "data": {
      "text/plain": [
       "['Datetime',\n",
       " 'Atmospheric Pressure(hPa)',\n",
       " '108_Observed atmospheric pressure(hPa)',\n",
       " '108_Average atmospheric pressure(hPa)',\n",
       " '108_Highest atmospheric pressure(hPa)',\n",
       " '108_Minimum atmospheric pressure(hPa)',\n",
       " '112_Observed atmospheric pressure(hPa)',\n",
       " '112_Average atmospheric pressure(hPa)',\n",
       " '112_Highest atmospheric pressure(hPa)',\n",
       " '112_Minimum atmospheric pressure(hPa)',\n",
       " '119_Observed atmospheric pressure(hPa)',\n",
       " '119_Average atmospheric pressure(hPa)',\n",
       " '119_Highest atmospheric pressure(hPa)',\n",
       " '119_Minimum atmospheric pressure(hPa)']"
      ]
     },
     "execution_count": 391,
     "metadata": {},
     "output_type": "execute_result"
    }
   ],
   "source": [
    "ap_cols"
   ]
  },
  {
   "cell_type": "markdown",
   "metadata": {},
   "source": [
    "#### 6.2 \"Atmospheric Pressure(hPa)\" 컬럼 값에 결측치 -9, -99인 행 확인"
   ]
  },
  {
   "cell_type": "code",
   "execution_count": 392,
   "metadata": {},
   "outputs": [
    {
     "name": "stdout",
     "output_type": "stream",
     "text": [
      "현재 결측값을 가지는 행의 개수는 29개 입니다.\n"
     ]
    }
   ],
   "source": [
    "# 결측치의 값으로 -9 의 값을 가지는 행 번호를 가지는 변수 생성\n",
    "missing_index = df_fin[df_fin[\"Atmospheric Pressure(hPa)\"] < 0][ap_cols].index\n",
    "# 인덱스의 개수를 확인하기 위한 출력\n",
    "print(f\"현재 결측값을 가지는 행의 개수는 {len(missing_index)}개 입니다.\")"
   ]
  },
  {
   "cell_type": "code",
   "execution_count": 393,
   "metadata": {},
   "outputs": [
    {
     "name": "stdout",
     "output_type": "stream",
     "text": [
      "현재 결측값을 가지는 행의 개수는 0개 입니다\n"
     ]
    }
   ],
   "source": [
    "for index in missing_index:\n",
    "    # \"Atmospheric Pressure(hPa)\" 컬럼에 결측값이 있을 경우, 지점번호(108)인 서울 값을 사용\n",
    "    if df_fin.at[index, \"108_Observed atmospheric pressure(hPa)\"] not in [-9, -99]:\n",
    "        df_fin.at[index, \"Atmospheric Pressure(hPa)\"] = df_fin.at[index, \"108_Observed atmospheric pressure(hPa)\"]\n",
    "    # 서울 값이 결측값일 경우, 지점번호(112)인 인천 값을 사용\n",
    "    elif (df_fin.at[index, \"108_Observed atmospheric pressure(hPa)\"] in [-9, -99]) & (df_fin.at[index, \"112_Observed atmospheric pressure(hPa)\"] not in [-9, -99]):\n",
    "        df_fin.at[index, \"Atmospheric Pressure(hPa)\"] = df_fin.at[index, \"112_Observed atmospheric pressure(hPa)\"]\n",
    "    # 인천 값이 결측값일 경우, 지점번호(119) 수원 값을 사용\n",
    "    elif (df_fin.at[index, \"108_Observed atmospheric pressure(hPa)\"] in [-9, -99]) & (df_fin.at[index, \"112_Observed atmospheric pressure(hPa)\"] in [-9, -99]) & (df_fin.at[index, \"119_Observed atmospheric pressure(hPa)\"] not in [-9, -99]):\n",
    "        df_fin.at[index, \"Atmospheric Pressure(hPa)\"] = df_fin.at[index, \"119_Observed atmospheric pressure(hPa)\"]\n",
    "\n",
    "# 인덱스의 개수를 확인하기 위한 출력\n",
    "missing_index = df_fin[(df_fin[\"Atmospheric Pressure(hPa)\"] < 0)][ap_cols].index\n",
    "print(f\"현재 결측값을 가지는 행의 개수는 {len(missing_index)}개 입니다\")"
   ]
  },
  {
   "cell_type": "markdown",
   "metadata": {},
   "source": [
    "#### 6.3 \"Average atmospheric pressure(hPa)\", \"Highest atmospheric pressure(hPa)\", \"Minimum atmospheric pressure(hPa)\""
   ]
  },
  {
   "cell_type": "markdown",
   "metadata": {},
   "source": [
    "##### 6.3.1 \"Average atmospheric pressure(hPa)\""
   ]
  },
  {
   "cell_type": "code",
   "execution_count": 394,
   "metadata": {},
   "outputs": [
    {
     "name": "stdout",
     "output_type": "stream",
     "text": [
      "현재 결측값을 가지는 행의 개수는 19개 입니다.\n"
     ]
    }
   ],
   "source": [
    "# 결측치의 값으로 -9 의 값을 가지는 행 번호를 가지는 변수 생성\n",
    "missing_index = df_fin[df_fin[\"108_Average atmospheric pressure(hPa)\"] < 0][ap_cols].index\n",
    "# 인덱스의 개수를 확인하기 위한 출력\n",
    "print(f\"현재 결측값을 가지는 행의 개수는 {len(missing_index)}개 입니다.\")"
   ]
  },
  {
   "cell_type": "code",
   "execution_count": 395,
   "metadata": {},
   "outputs": [
    {
     "name": "stdout",
     "output_type": "stream",
     "text": [
      "현재 결측값을 가지는 행의 개수는 0개 입니다\n",
      "새로운 컬럼을 생성하였습니다.\n"
     ]
    }
   ],
   "source": [
    "for index in missing_index:\n",
    "    # 서울 값이 결측값일 경우, 지점번호(112)인 인천 값을 사용\n",
    "    if (df_fin.at[index, \"112_Average atmospheric pressure(hPa)\"] not in [-9, -99]):\n",
    "        df_fin.at[index, \"108_Average atmospheric pressure(hPa)\"] = df_fin.at[index, \"112_Average atmospheric pressure(hPa)\"]\n",
    "    # 인천 값이 결측값일 경우, 지점번호(119) 수원 값을 사용\n",
    "    elif (df_fin.at[index, \"112_Average atmospheric pressure(hPa)\"] in [-9, -99]) & (df_fin.at[index, \"119_Average atmospheric pressure(hPa)\"] not in [-9, -99]):\n",
    "        df_fin.at[index, \"108_Average atmospheric pressure(hPa)\"] = df_fin.at[index, \"119_Average atmospheric pressure(hPa)\"]\n",
    "\n",
    "# 인덱스의 개수를 확인하기 위한 출력\n",
    "missing_index = df_fin[(df_fin[\"108_Average atmospheric pressure(hPa)\"] < 0)][ap_cols].index\n",
    "print(f\"현재 결측값을 가지는 행의 개수는 {len(missing_index)}개 입니다\")\n",
    "\n",
    "# \"Average atmospheric pressure(hPa)\" 컬럼 생성\n",
    "if len(missing_index) == 0:\n",
    "    df_fin[\"Average atmospheric pressure(hPa)\"] = df_fin[\"108_Average atmospheric pressure(hPa)\"]\n",
    "    print(\"새로운 컬럼을 생성하였습니다.\")\n",
    "else:\n",
    "    print(\"추가 전처리가 필요합니다.\")"
   ]
  },
  {
   "cell_type": "markdown",
   "metadata": {},
   "source": [
    "##### 6.3.2 \"Highest atmospheric pressure(hPa)\""
   ]
  },
  {
   "cell_type": "code",
   "execution_count": 396,
   "metadata": {},
   "outputs": [
    {
     "name": "stdout",
     "output_type": "stream",
     "text": [
      "현재 결측값을 가지는 행의 개수는 19개 입니다.\n"
     ]
    }
   ],
   "source": [
    "# 결측치의 값으로 -9 의 값을 가지는 행 번호를 가지는 변수 생성\n",
    "missing_index = df_fin[df_fin[\"108_Highest atmospheric pressure(hPa)\"] < 0][ap_cols].index\n",
    "# 인덱스의 개수를 확인하기 위한 출력\n",
    "print(f\"현재 결측값을 가지는 행의 개수는 {len(missing_index)}개 입니다.\")"
   ]
  },
  {
   "cell_type": "code",
   "execution_count": 397,
   "metadata": {},
   "outputs": [
    {
     "name": "stdout",
     "output_type": "stream",
     "text": [
      "현재 결측값을 가지는 행의 개수는 0개 입니다\n",
      "새로운 컬럼을 생성하였습니다.\n"
     ]
    }
   ],
   "source": [
    "for index in missing_index:\n",
    "    # 서울 값이 결측값일 경우, 지점번호(112)인 인천 값을 사용\n",
    "    if (df_fin.at[index, \"112_Highest atmospheric pressure(hPa)\"] not in [-9, -99]):\n",
    "        df_fin.at[index, \"108_Highest atmospheric pressure(hPa)\"] = df_fin.at[index, \"112_Highest atmospheric pressure(hPa)\"]\n",
    "    # 인천 값이 결측값일 경우, 지점번호(119) 수원 값을 사용\n",
    "    elif (df_fin.at[index, \"112_Highest atmospheric pressure(hPa)\"] in [-9, -99]) & (df_fin.at[index, \"119_Highest atmospheric pressure(hPa)\"] not in [-9, -99]):\n",
    "        df_fin.at[index, \"108_Highest atmospheric pressure(hPa)\"] = df_fin.at[index, \"119_Highest atmospheric pressure(hPa)\"]\n",
    "\n",
    "# 인덱스의 개수를 확인하기 위한 출력\n",
    "missing_index = df_fin[(df_fin[\"108_Highest atmospheric pressure(hPa)\"] < 0)][ap_cols].index\n",
    "print(f\"현재 결측값을 가지는 행의 개수는 {len(missing_index)}개 입니다\")\n",
    "\n",
    "# \"Average atmospheric pressure(hPa)\" 컬럼 생성\n",
    "if len(missing_index) == 0:\n",
    "    df_fin[\"Highest atmospheric pressure(hPa)\"] = df_fin[\"108_Highest atmospheric pressure(hPa)\"]\n",
    "    print(\"새로운 컬럼을 생성하였습니다.\")\n",
    "else:\n",
    "    print(\"추가 전처리가 필요합니다.\")"
   ]
  },
  {
   "cell_type": "markdown",
   "metadata": {},
   "source": [
    "##### 6.3.3 \"Minimum atmospheric pressure(hPa)\""
   ]
  },
  {
   "cell_type": "code",
   "execution_count": 398,
   "metadata": {},
   "outputs": [
    {
     "name": "stdout",
     "output_type": "stream",
     "text": [
      "현재 결측값을 가지는 행의 개수는 19개 입니다.\n"
     ]
    }
   ],
   "source": [
    "# 결측치의 값으로 -9 의 값을 가지는 행 번호를 가지는 변수 생성\n",
    "missing_index = df_fin[df_fin[\"108_Minimum atmospheric pressure(hPa)\"] < 0][ap_cols].index\n",
    "# 인덱스의 개수를 확인하기 위한 출력\n",
    "print(f\"현재 결측값을 가지는 행의 개수는 {len(missing_index)}개 입니다.\")"
   ]
  },
  {
   "cell_type": "code",
   "execution_count": 399,
   "metadata": {},
   "outputs": [
    {
     "name": "stdout",
     "output_type": "stream",
     "text": [
      "현재 결측값을 가지는 행의 개수는 0개 입니다\n",
      "새로운 컬럼을 생성하였습니다.\n"
     ]
    }
   ],
   "source": [
    "for index in missing_index:\n",
    "    # 서울 값이 결측값일 경우, 지점번호(112)인 인천 값을 사용\n",
    "    if (df_fin.at[index, \"112_Minimum atmospheric pressure(hPa)\"] not in [-9, -99]):\n",
    "        df_fin.at[index, \"108_Minimum atmospheric pressure(hPa)\"] = df_fin.at[index, \"112_Minimum atmospheric pressure(hPa)\"]\n",
    "    # 인천 값이 결측값일 경우, 지점번호(119) 수원 값을 사용\n",
    "    elif (df_fin.at[index, \"112_Minimum atmospheric pressure(hPa)\"] in [-9, -99]) & (df_fin.at[index, \"119_Minimum atmospheric pressure(hPa)\"] not in [-9, -99]):\n",
    "        df_fin.at[index, \"108_Minimum atmospheric pressure(hPa)\"] = df_fin.at[index, \"119_Minimum atmospheric pressure(hPa)\"]\n",
    "\n",
    "# 인덱스의 개수를 확인하기 위한 출력\n",
    "missing_index = df_fin[(df_fin[\"108_Minimum atmospheric pressure(hPa)\"] < 0)][ap_cols].index\n",
    "print(f\"현재 결측값을 가지는 행의 개수는 {len(missing_index)}개 입니다\")\n",
    "\n",
    "# \"Average atmospheric pressure(hPa)\" 컬럼 생성\n",
    "if len(missing_index) == 0:\n",
    "    df_fin[\"Minimum atmospheric pressure(hPa)\"] = df_fin[\"108_Minimum atmospheric pressure(hPa)\"]\n",
    "    print(\"새로운 컬럼을 생성하였습니다.\")\n",
    "else:\n",
    "    print(\"추가 전처리가 필요합니다.\")"
   ]
  },
  {
   "cell_type": "markdown",
   "metadata": {},
   "source": [
    "#### 6.4 기압 관련 필요없는 컬럼 삭제"
   ]
  },
  {
   "cell_type": "code",
   "execution_count": 400,
   "metadata": {},
   "outputs": [
    {
     "data": {
      "text/plain": [
       "Index(['Datetime', 'Atmospheric Pressure(hPa)',\n",
       "       '108_Observed atmospheric pressure(hPa)',\n",
       "       '108_Average atmospheric pressure(hPa)',\n",
       "       '108_Highest atmospheric pressure(hPa)',\n",
       "       '108_Minimum atmospheric pressure(hPa)',\n",
       "       '112_Observed atmospheric pressure(hPa)',\n",
       "       '112_Average atmospheric pressure(hPa)',\n",
       "       '112_Highest atmospheric pressure(hPa)',\n",
       "       '112_Minimum atmospheric pressure(hPa)',\n",
       "       '119_Observed atmospheric pressure(hPa)',\n",
       "       '119_Average atmospheric pressure(hPa)',\n",
       "       '119_Highest atmospheric pressure(hPa)',\n",
       "       '119_Minimum atmospheric pressure(hPa)'],\n",
       "      dtype='object')"
      ]
     },
     "execution_count": 400,
     "metadata": {},
     "output_type": "execute_result"
    }
   ],
   "source": [
    "df_fin[ap_cols].columns"
   ]
  },
  {
   "cell_type": "code",
   "execution_count": 401,
   "metadata": {},
   "outputs": [],
   "source": [
    "df_fin.drop(columns=ap_cols[2:], axis=1, inplace=True)"
   ]
  },
  {
   "cell_type": "markdown",
   "metadata": {},
   "source": [
    "### 7.그 외 데이터 결측치 채우기\n",
    "- 'Dew point Temperature(°C)'\n",
    "- '3hr Snowfall(mm)', 'Daily Snowfall(mm)', 'Daily Sonwfall2(mm)'"
   ]
  },
  {
   "cell_type": "code",
   "execution_count": 402,
   "metadata": {},
   "outputs": [
    {
     "data": {
      "text/plain": [
       "Index(['Datetime', 'Date', 'Hour', 'Wind Direction', 'Wind Speed(m/s)',\n",
       "       'Atmospheric Pressure(hPa)', 'Temperature(°C)',\n",
       "       'Dew point Temperature(°C)', 'Relative Humidity(%)', 'Rainfall(mm)',\n",
       "       '3hr Snowfall(mm)', 'Daily Snowfall(mm)', 'Daily Sonwfall2(mm)',\n",
       "       'Average temperature per minute(°C)',\n",
       "       'Highest temperature per minute(°C)',\n",
       "       'Lowest temperature per minute(°C)',\n",
       "       'Maximum wind direction per minute(deg)',\n",
       "       'Average wind speed per minute(m/s)',\n",
       "       'Maximum wind speed per minute(m/s)', 'Average humidity per minute(%)',\n",
       "       'Maximum humidity per minute(%)', 'Minimum humidity per minute(%)',\n",
       "       'Average atmospheric pressure(hPa)',\n",
       "       'Highest atmospheric pressure(hPa)',\n",
       "       'Minimum atmospheric pressure(hPa)'],\n",
       "      dtype='object')"
      ]
     },
     "execution_count": 402,
     "metadata": {},
     "output_type": "execute_result"
    }
   ],
   "source": [
    "df_fin.columns"
   ]
  },
  {
   "cell_type": "markdown",
   "metadata": {},
   "source": [
    "#### 7.1 컬럼 추출"
   ]
  },
  {
   "cell_type": "code",
   "execution_count": 403,
   "metadata": {},
   "outputs": [
    {
     "name": "stdout",
     "output_type": "stream",
     "text": [
      "(116, 25)\n",
      "(52442, 25)\n",
      "(51987, 25)\n",
      "(50902, 25)\n"
     ]
    }
   ],
   "source": [
    "print(df_fin[df_fin[\"Dew point Temperature(°C)\"] == -9].shape)\n",
    "print(df_fin[df_fin[\"3hr Snowfall(mm)\"] == -9].shape)\n",
    "print(df_fin[df_fin[\"Daily Snowfall(mm)\"] == -9].shape)\n",
    "print(df_fin[df_fin[\"Daily Sonwfall2(mm)\"] == -9].shape)"
   ]
  },
  {
   "cell_type": "markdown",
   "metadata": {},
   "source": [
    "#### 7.2 필요없는 컬럼 삭제"
   ]
  },
  {
   "cell_type": "code",
   "execution_count": 404,
   "metadata": {},
   "outputs": [],
   "source": [
    "df_fin.drop([\"Dew point Temperature(°C)\", \"3hr Snowfall(mm)\", \n",
    "             \"Daily Snowfall(mm)\", \"Daily Sonwfall2(mm)\"], axis=1, inplace=True)"
   ]
  },
  {
   "cell_type": "code",
   "execution_count": 405,
   "metadata": {},
   "outputs": [
    {
     "name": "stdout",
     "output_type": "stream",
     "text": [
      "Index(['Datetime', 'Date', 'Hour', 'Wind Direction', 'Wind Speed(m/s)',\n",
      "       'Atmospheric Pressure(hPa)', 'Temperature(°C)', 'Relative Humidity(%)',\n",
      "       'Rainfall(mm)', 'Average temperature per minute(°C)',\n",
      "       'Highest temperature per minute(°C)',\n",
      "       'Lowest temperature per minute(°C)',\n",
      "       'Maximum wind direction per minute(deg)',\n",
      "       'Average wind speed per minute(m/s)',\n",
      "       'Maximum wind speed per minute(m/s)', 'Average humidity per minute(%)',\n",
      "       'Maximum humidity per minute(%)', 'Minimum humidity per minute(%)',\n",
      "       'Average atmospheric pressure(hPa)',\n",
      "       'Highest atmospheric pressure(hPa)',\n",
      "       'Minimum atmospheric pressure(hPa)'],\n",
      "      dtype='object')\n",
      "(52584, 21)\n"
     ]
    }
   ],
   "source": [
    "print(df_fin.columns)\n",
    "print(df_fin.shape)"
   ]
  },
  {
   "cell_type": "markdown",
   "metadata": {},
   "source": [
    "### 8.대여건수 데이터와 요일 데이터 추가하기 "
   ]
  },
  {
   "cell_type": "markdown",
   "metadata": {},
   "source": [
    "#### 8.1 대여건수 데이터 불러오기"
   ]
  },
  {
   "cell_type": "code",
   "execution_count": 406,
   "metadata": {},
   "outputs": [
    {
     "data": {
      "text/html": [
       "<div>\n",
       "<style scoped>\n",
       "    .dataframe tbody tr th:only-of-type {\n",
       "        vertical-align: middle;\n",
       "    }\n",
       "\n",
       "    .dataframe tbody tr th {\n",
       "        vertical-align: top;\n",
       "    }\n",
       "\n",
       "    .dataframe thead th {\n",
       "        text-align: right;\n",
       "    }\n",
       "</style>\n",
       "<table border=\"1\" class=\"dataframe\">\n",
       "  <thead>\n",
       "    <tr style=\"text-align: right;\">\n",
       "      <th></th>\n",
       "      <th>Date</th>\n",
       "      <th>Hour</th>\n",
       "      <th>Rent Bike Count</th>\n",
       "    </tr>\n",
       "  </thead>\n",
       "  <tbody>\n",
       "    <tr>\n",
       "      <th>0</th>\n",
       "      <td>2018-01-01</td>\n",
       "      <td>0</td>\n",
       "      <td>268</td>\n",
       "    </tr>\n",
       "    <tr>\n",
       "      <th>1</th>\n",
       "      <td>2018-01-01</td>\n",
       "      <td>1</td>\n",
       "      <td>304</td>\n",
       "    </tr>\n",
       "    <tr>\n",
       "      <th>2</th>\n",
       "      <td>2018-01-01</td>\n",
       "      <td>2</td>\n",
       "      <td>228</td>\n",
       "    </tr>\n",
       "    <tr>\n",
       "      <th>3</th>\n",
       "      <td>2018-01-01</td>\n",
       "      <td>3</td>\n",
       "      <td>148</td>\n",
       "    </tr>\n",
       "    <tr>\n",
       "      <th>4</th>\n",
       "      <td>2018-01-01</td>\n",
       "      <td>4</td>\n",
       "      <td>85</td>\n",
       "    </tr>\n",
       "    <tr>\n",
       "      <th>...</th>\n",
       "      <td>...</td>\n",
       "      <td>...</td>\n",
       "      <td>...</td>\n",
       "    </tr>\n",
       "    <tr>\n",
       "      <th>52579</th>\n",
       "      <td>2023-12-31</td>\n",
       "      <td>19</td>\n",
       "      <td>799</td>\n",
       "    </tr>\n",
       "    <tr>\n",
       "      <th>52580</th>\n",
       "      <td>2023-12-31</td>\n",
       "      <td>20</td>\n",
       "      <td>844</td>\n",
       "    </tr>\n",
       "    <tr>\n",
       "      <th>52581</th>\n",
       "      <td>2023-12-31</td>\n",
       "      <td>21</td>\n",
       "      <td>850</td>\n",
       "    </tr>\n",
       "    <tr>\n",
       "      <th>52582</th>\n",
       "      <td>2023-12-31</td>\n",
       "      <td>22</td>\n",
       "      <td>818</td>\n",
       "    </tr>\n",
       "    <tr>\n",
       "      <th>52583</th>\n",
       "      <td>2023-12-31</td>\n",
       "      <td>23</td>\n",
       "      <td>875</td>\n",
       "    </tr>\n",
       "  </tbody>\n",
       "</table>\n",
       "<p>52584 rows × 3 columns</p>\n",
       "</div>"
      ],
      "text/plain": [
       "             Date  Hour  Rent Bike Count\n",
       "0      2018-01-01     0              268\n",
       "1      2018-01-01     1              304\n",
       "2      2018-01-01     2              228\n",
       "3      2018-01-01     3              148\n",
       "4      2018-01-01     4               85\n",
       "...           ...   ...              ...\n",
       "52579  2023-12-31    19              799\n",
       "52580  2023-12-31    20              844\n",
       "52581  2023-12-31    21              850\n",
       "52582  2023-12-31    22              818\n",
       "52583  2023-12-31    23              875\n",
       "\n",
       "[52584 rows x 3 columns]"
      ]
     },
     "execution_count": 406,
     "metadata": {},
     "output_type": "execute_result"
    }
   ],
   "source": [
    "# rental_history_data.csv 파일 불러오기\n",
    "rental_df = pd.read_csv(\"../data/rental_history_data.csv\", index_col=0)\n",
    "rental_df"
   ]
  },
  {
   "cell_type": "code",
   "execution_count": 407,
   "metadata": {},
   "outputs": [
    {
     "data": {
      "text/html": [
       "<div>\n",
       "<style scoped>\n",
       "    .dataframe tbody tr th:only-of-type {\n",
       "        vertical-align: middle;\n",
       "    }\n",
       "\n",
       "    .dataframe tbody tr th {\n",
       "        vertical-align: top;\n",
       "    }\n",
       "\n",
       "    .dataframe thead th {\n",
       "        text-align: right;\n",
       "    }\n",
       "</style>\n",
       "<table border=\"1\" class=\"dataframe\">\n",
       "  <thead>\n",
       "    <tr style=\"text-align: right;\">\n",
       "      <th></th>\n",
       "      <th>Datetime</th>\n",
       "      <th>Date</th>\n",
       "      <th>Hour</th>\n",
       "      <th>Wind Direction</th>\n",
       "      <th>Wind Speed(m/s)</th>\n",
       "      <th>Atmospheric Pressure(hPa)</th>\n",
       "      <th>Temperature(°C)</th>\n",
       "      <th>Relative Humidity(%)</th>\n",
       "      <th>Rainfall(mm)</th>\n",
       "      <th>Average temperature per minute(°C)</th>\n",
       "      <th>...</th>\n",
       "      <th>Maximum wind direction per minute(deg)</th>\n",
       "      <th>Average wind speed per minute(m/s)</th>\n",
       "      <th>Maximum wind speed per minute(m/s)</th>\n",
       "      <th>Average humidity per minute(%)</th>\n",
       "      <th>Maximum humidity per minute(%)</th>\n",
       "      <th>Minimum humidity per minute(%)</th>\n",
       "      <th>Average atmospheric pressure(hPa)</th>\n",
       "      <th>Highest atmospheric pressure(hPa)</th>\n",
       "      <th>Minimum atmospheric pressure(hPa)</th>\n",
       "      <th>Rent Bike Count</th>\n",
       "    </tr>\n",
       "  </thead>\n",
       "  <tbody>\n",
       "    <tr>\n",
       "      <th>0</th>\n",
       "      <td>2018-01-01 00:00:00</td>\n",
       "      <td>2018-01-01</td>\n",
       "      <td>0</td>\n",
       "      <td>110.0</td>\n",
       "      <td>0.5</td>\n",
       "      <td>1015.4</td>\n",
       "      <td>-3.2</td>\n",
       "      <td>40.0</td>\n",
       "      <td>0.0</td>\n",
       "      <td>-2.9</td>\n",
       "      <td>...</td>\n",
       "      <td>289.7</td>\n",
       "      <td>0.5</td>\n",
       "      <td>1.4</td>\n",
       "      <td>39.9</td>\n",
       "      <td>41.6</td>\n",
       "      <td>41.6</td>\n",
       "      <td>1015.2</td>\n",
       "      <td>1015.4</td>\n",
       "      <td>1015.1</td>\n",
       "      <td>268</td>\n",
       "    </tr>\n",
       "    <tr>\n",
       "      <th>1</th>\n",
       "      <td>2018-01-01 01:00:00</td>\n",
       "      <td>2018-01-01</td>\n",
       "      <td>1</td>\n",
       "      <td>360.0</td>\n",
       "      <td>0.7</td>\n",
       "      <td>1015.1</td>\n",
       "      <td>-3.3</td>\n",
       "      <td>41.0</td>\n",
       "      <td>0.0</td>\n",
       "      <td>-3.3</td>\n",
       "      <td>...</td>\n",
       "      <td>333.9</td>\n",
       "      <td>0.6</td>\n",
       "      <td>1.7</td>\n",
       "      <td>40.3</td>\n",
       "      <td>41.6</td>\n",
       "      <td>41.6</td>\n",
       "      <td>1015.3</td>\n",
       "      <td>1015.5</td>\n",
       "      <td>1015.1</td>\n",
       "      <td>304</td>\n",
       "    </tr>\n",
       "    <tr>\n",
       "      <th>2</th>\n",
       "      <td>2018-01-01 02:00:00</td>\n",
       "      <td>2018-01-01</td>\n",
       "      <td>2</td>\n",
       "      <td>270.0</td>\n",
       "      <td>0.9</td>\n",
       "      <td>1015.2</td>\n",
       "      <td>-3.7</td>\n",
       "      <td>42.0</td>\n",
       "      <td>0.0</td>\n",
       "      <td>-3.4</td>\n",
       "      <td>...</td>\n",
       "      <td>328.6</td>\n",
       "      <td>0.7</td>\n",
       "      <td>1.6</td>\n",
       "      <td>41.4</td>\n",
       "      <td>45.9</td>\n",
       "      <td>45.9</td>\n",
       "      <td>1015.0</td>\n",
       "      <td>1015.2</td>\n",
       "      <td>1014.9</td>\n",
       "      <td>228</td>\n",
       "    </tr>\n",
       "    <tr>\n",
       "      <th>3</th>\n",
       "      <td>2018-01-01 03:00:00</td>\n",
       "      <td>2018-01-01</td>\n",
       "      <td>3</td>\n",
       "      <td>290.0</td>\n",
       "      <td>1.0</td>\n",
       "      <td>1015.5</td>\n",
       "      <td>-4.0</td>\n",
       "      <td>44.0</td>\n",
       "      <td>0.0</td>\n",
       "      <td>-3.8</td>\n",
       "      <td>...</td>\n",
       "      <td>283.8</td>\n",
       "      <td>0.8</td>\n",
       "      <td>1.4</td>\n",
       "      <td>44.0</td>\n",
       "      <td>46.6</td>\n",
       "      <td>46.6</td>\n",
       "      <td>1015.4</td>\n",
       "      <td>1015.6</td>\n",
       "      <td>1015.2</td>\n",
       "      <td>148</td>\n",
       "    </tr>\n",
       "    <tr>\n",
       "      <th>4</th>\n",
       "      <td>2018-01-01 04:00:00</td>\n",
       "      <td>2018-01-01</td>\n",
       "      <td>4</td>\n",
       "      <td>290.0</td>\n",
       "      <td>1.1</td>\n",
       "      <td>1015.5</td>\n",
       "      <td>-4.2</td>\n",
       "      <td>53.0</td>\n",
       "      <td>0.0</td>\n",
       "      <td>-4.0</td>\n",
       "      <td>...</td>\n",
       "      <td>294.9</td>\n",
       "      <td>0.8</td>\n",
       "      <td>1.2</td>\n",
       "      <td>49.3</td>\n",
       "      <td>52.7</td>\n",
       "      <td>52.7</td>\n",
       "      <td>1015.5</td>\n",
       "      <td>1015.5</td>\n",
       "      <td>1015.5</td>\n",
       "      <td>85</td>\n",
       "    </tr>\n",
       "  </tbody>\n",
       "</table>\n",
       "<p>5 rows × 22 columns</p>\n",
       "</div>"
      ],
      "text/plain": [
       "              Datetime        Date  Hour  Wind Direction  Wind Speed(m/s)  \\\n",
       "0  2018-01-01 00:00:00  2018-01-01     0           110.0              0.5   \n",
       "1  2018-01-01 01:00:00  2018-01-01     1           360.0              0.7   \n",
       "2  2018-01-01 02:00:00  2018-01-01     2           270.0              0.9   \n",
       "3  2018-01-01 03:00:00  2018-01-01     3           290.0              1.0   \n",
       "4  2018-01-01 04:00:00  2018-01-01     4           290.0              1.1   \n",
       "\n",
       "   Atmospheric Pressure(hPa)  Temperature(°C)  Relative Humidity(%)  \\\n",
       "0                     1015.4             -3.2                  40.0   \n",
       "1                     1015.1             -3.3                  41.0   \n",
       "2                     1015.2             -3.7                  42.0   \n",
       "3                     1015.5             -4.0                  44.0   \n",
       "4                     1015.5             -4.2                  53.0   \n",
       "\n",
       "   Rainfall(mm)  Average temperature per minute(°C)  ...  \\\n",
       "0           0.0                                -2.9  ...   \n",
       "1           0.0                                -3.3  ...   \n",
       "2           0.0                                -3.4  ...   \n",
       "3           0.0                                -3.8  ...   \n",
       "4           0.0                                -4.0  ...   \n",
       "\n",
       "   Maximum wind direction per minute(deg)  Average wind speed per minute(m/s)  \\\n",
       "0                                   289.7                                 0.5   \n",
       "1                                   333.9                                 0.6   \n",
       "2                                   328.6                                 0.7   \n",
       "3                                   283.8                                 0.8   \n",
       "4                                   294.9                                 0.8   \n",
       "\n",
       "   Maximum wind speed per minute(m/s)  Average humidity per minute(%)  \\\n",
       "0                                 1.4                            39.9   \n",
       "1                                 1.7                            40.3   \n",
       "2                                 1.6                            41.4   \n",
       "3                                 1.4                            44.0   \n",
       "4                                 1.2                            49.3   \n",
       "\n",
       "   Maximum humidity per minute(%)  Minimum humidity per minute(%)  \\\n",
       "0                            41.6                            41.6   \n",
       "1                            41.6                            41.6   \n",
       "2                            45.9                            45.9   \n",
       "3                            46.6                            46.6   \n",
       "4                            52.7                            52.7   \n",
       "\n",
       "   Average atmospheric pressure(hPa)  Highest atmospheric pressure(hPa)  \\\n",
       "0                             1015.2                             1015.4   \n",
       "1                             1015.3                             1015.5   \n",
       "2                             1015.0                             1015.2   \n",
       "3                             1015.4                             1015.6   \n",
       "4                             1015.5                             1015.5   \n",
       "\n",
       "   Minimum atmospheric pressure(hPa)  Rent Bike Count  \n",
       "0                             1015.1              268  \n",
       "1                             1015.1              304  \n",
       "2                             1014.9              228  \n",
       "3                             1015.2              148  \n",
       "4                             1015.5               85  \n",
       "\n",
       "[5 rows x 22 columns]"
      ]
     },
     "execution_count": 407,
     "metadata": {},
     "output_type": "execute_result"
    }
   ],
   "source": [
    "# 데이터프레임 합치기\n",
    "df_fin = pd.concat([df_fin, rental_df[\"Rent Bike Count\"]], axis=1)\n",
    "df_fin.head()"
   ]
  },
  {
   "cell_type": "code",
   "execution_count": 408,
   "metadata": {},
   "outputs": [
    {
     "data": {
      "text/plain": [
       "Index(['Datetime', 'Date', 'Hour', 'Wind Direction', 'Wind Speed(m/s)',\n",
       "       'Atmospheric Pressure(hPa)', 'Temperature(°C)', 'Relative Humidity(%)',\n",
       "       'Rainfall(mm)', 'Average temperature per minute(°C)',\n",
       "       'Highest temperature per minute(°C)',\n",
       "       'Lowest temperature per minute(°C)',\n",
       "       'Maximum wind direction per minute(deg)',\n",
       "       'Average wind speed per minute(m/s)',\n",
       "       'Maximum wind speed per minute(m/s)', 'Average humidity per minute(%)',\n",
       "       'Maximum humidity per minute(%)', 'Minimum humidity per minute(%)',\n",
       "       'Average atmospheric pressure(hPa)',\n",
       "       'Highest atmospheric pressure(hPa)',\n",
       "       'Minimum atmospheric pressure(hPa)', 'Rent Bike Count'],\n",
       "      dtype='object')"
      ]
     },
     "execution_count": 408,
     "metadata": {},
     "output_type": "execute_result"
    }
   ],
   "source": [
    "df_fin.columns"
   ]
  },
  {
   "cell_type": "markdown",
   "metadata": {},
   "source": [
    "#### 8.2 계절, 요일 데이터 추가하기 - \"Seasons\", \"Day of the week\", \"Weekend\", \"Holiday\""
   ]
  },
  {
   "cell_type": "markdown",
   "metadata": {},
   "source": [
    "##### 8.2.1 \"Datetime\" 컬럼을 \"Year\", \"Month\", \"Day\" 컬럼으로 나누기"
   ]
  },
  {
   "cell_type": "code",
   "execution_count": 409,
   "metadata": {},
   "outputs": [],
   "source": [
    "date_split = df_fin[\"Date\"].str.split(\"-\")\n",
    "\n",
    "df_fin[\"Year\"] = date_split.str.get(0)\n",
    "df_fin[\"Month\"] = date_split.str.get(1)\n",
    "df_fin[\"Day\"] = date_split.str.get(2)"
   ]
  },
  {
   "cell_type": "code",
   "execution_count": 410,
   "metadata": {},
   "outputs": [
    {
     "data": {
      "text/html": [
       "<div>\n",
       "<style scoped>\n",
       "    .dataframe tbody tr th:only-of-type {\n",
       "        vertical-align: middle;\n",
       "    }\n",
       "\n",
       "    .dataframe tbody tr th {\n",
       "        vertical-align: top;\n",
       "    }\n",
       "\n",
       "    .dataframe thead th {\n",
       "        text-align: right;\n",
       "    }\n",
       "</style>\n",
       "<table border=\"1\" class=\"dataframe\">\n",
       "  <thead>\n",
       "    <tr style=\"text-align: right;\">\n",
       "      <th></th>\n",
       "      <th>Datetime</th>\n",
       "      <th>Date</th>\n",
       "      <th>Hour</th>\n",
       "      <th>Wind Direction</th>\n",
       "      <th>Wind Speed(m/s)</th>\n",
       "      <th>Atmospheric Pressure(hPa)</th>\n",
       "      <th>Temperature(°C)</th>\n",
       "      <th>Relative Humidity(%)</th>\n",
       "      <th>Rainfall(mm)</th>\n",
       "      <th>Average temperature per minute(°C)</th>\n",
       "      <th>...</th>\n",
       "      <th>Average humidity per minute(%)</th>\n",
       "      <th>Maximum humidity per minute(%)</th>\n",
       "      <th>Minimum humidity per minute(%)</th>\n",
       "      <th>Average atmospheric pressure(hPa)</th>\n",
       "      <th>Highest atmospheric pressure(hPa)</th>\n",
       "      <th>Minimum atmospheric pressure(hPa)</th>\n",
       "      <th>Rent Bike Count</th>\n",
       "      <th>Year</th>\n",
       "      <th>Month</th>\n",
       "      <th>Day</th>\n",
       "    </tr>\n",
       "  </thead>\n",
       "  <tbody>\n",
       "    <tr>\n",
       "      <th>52579</th>\n",
       "      <td>2023-12-31 19:00:00</td>\n",
       "      <td>2023-12-31</td>\n",
       "      <td>19</td>\n",
       "      <td>250.0</td>\n",
       "      <td>0.8</td>\n",
       "      <td>1012.0</td>\n",
       "      <td>2.6</td>\n",
       "      <td>90.0</td>\n",
       "      <td>0.0</td>\n",
       "      <td>2.8</td>\n",
       "      <td>...</td>\n",
       "      <td>89.7</td>\n",
       "      <td>91.3</td>\n",
       "      <td>91.3</td>\n",
       "      <td>1011.6</td>\n",
       "      <td>1012.0</td>\n",
       "      <td>1011.2</td>\n",
       "      <td>799</td>\n",
       "      <td>2023</td>\n",
       "      <td>12</td>\n",
       "      <td>31</td>\n",
       "    </tr>\n",
       "    <tr>\n",
       "      <th>52580</th>\n",
       "      <td>2023-12-31 20:00:00</td>\n",
       "      <td>2023-12-31</td>\n",
       "      <td>20</td>\n",
       "      <td>250.0</td>\n",
       "      <td>2.2</td>\n",
       "      <td>1013.0</td>\n",
       "      <td>1.9</td>\n",
       "      <td>94.0</td>\n",
       "      <td>0.0</td>\n",
       "      <td>2.1</td>\n",
       "      <td>...</td>\n",
       "      <td>91.5</td>\n",
       "      <td>94.3</td>\n",
       "      <td>94.3</td>\n",
       "      <td>1012.4</td>\n",
       "      <td>1013.0</td>\n",
       "      <td>1012.0</td>\n",
       "      <td>844</td>\n",
       "      <td>2023</td>\n",
       "      <td>12</td>\n",
       "      <td>31</td>\n",
       "    </tr>\n",
       "    <tr>\n",
       "      <th>52581</th>\n",
       "      <td>2023-12-31 21:00:00</td>\n",
       "      <td>2023-12-31</td>\n",
       "      <td>21</td>\n",
       "      <td>250.0</td>\n",
       "      <td>2.4</td>\n",
       "      <td>1013.7</td>\n",
       "      <td>1.7</td>\n",
       "      <td>96.0</td>\n",
       "      <td>0.0</td>\n",
       "      <td>1.7</td>\n",
       "      <td>...</td>\n",
       "      <td>94.2</td>\n",
       "      <td>96.1</td>\n",
       "      <td>96.1</td>\n",
       "      <td>1013.3</td>\n",
       "      <td>1013.7</td>\n",
       "      <td>1013.0</td>\n",
       "      <td>850</td>\n",
       "      <td>2023</td>\n",
       "      <td>12</td>\n",
       "      <td>31</td>\n",
       "    </tr>\n",
       "    <tr>\n",
       "      <th>52582</th>\n",
       "      <td>2023-12-31 22:00:00</td>\n",
       "      <td>2023-12-31</td>\n",
       "      <td>22</td>\n",
       "      <td>340.0</td>\n",
       "      <td>0.6</td>\n",
       "      <td>1014.1</td>\n",
       "      <td>1.3</td>\n",
       "      <td>95.0</td>\n",
       "      <td>0.0</td>\n",
       "      <td>1.5</td>\n",
       "      <td>...</td>\n",
       "      <td>95.6</td>\n",
       "      <td>96.8</td>\n",
       "      <td>96.8</td>\n",
       "      <td>1013.8</td>\n",
       "      <td>1014.1</td>\n",
       "      <td>1013.6</td>\n",
       "      <td>818</td>\n",
       "      <td>2023</td>\n",
       "      <td>12</td>\n",
       "      <td>31</td>\n",
       "    </tr>\n",
       "    <tr>\n",
       "      <th>52583</th>\n",
       "      <td>2023-12-31 23:00:00</td>\n",
       "      <td>2023-12-31</td>\n",
       "      <td>23</td>\n",
       "      <td>70.0</td>\n",
       "      <td>0.8</td>\n",
       "      <td>1014.9</td>\n",
       "      <td>0.9</td>\n",
       "      <td>96.0</td>\n",
       "      <td>0.0</td>\n",
       "      <td>1.0</td>\n",
       "      <td>...</td>\n",
       "      <td>95.4</td>\n",
       "      <td>96.6</td>\n",
       "      <td>96.6</td>\n",
       "      <td>1014.5</td>\n",
       "      <td>1014.9</td>\n",
       "      <td>1014.1</td>\n",
       "      <td>875</td>\n",
       "      <td>2023</td>\n",
       "      <td>12</td>\n",
       "      <td>31</td>\n",
       "    </tr>\n",
       "  </tbody>\n",
       "</table>\n",
       "<p>5 rows × 25 columns</p>\n",
       "</div>"
      ],
      "text/plain": [
       "                  Datetime        Date  Hour  Wind Direction  Wind Speed(m/s)  \\\n",
       "52579  2023-12-31 19:00:00  2023-12-31    19           250.0              0.8   \n",
       "52580  2023-12-31 20:00:00  2023-12-31    20           250.0              2.2   \n",
       "52581  2023-12-31 21:00:00  2023-12-31    21           250.0              2.4   \n",
       "52582  2023-12-31 22:00:00  2023-12-31    22           340.0              0.6   \n",
       "52583  2023-12-31 23:00:00  2023-12-31    23            70.0              0.8   \n",
       "\n",
       "       Atmospheric Pressure(hPa)  Temperature(°C)  Relative Humidity(%)  \\\n",
       "52579                     1012.0              2.6                  90.0   \n",
       "52580                     1013.0              1.9                  94.0   \n",
       "52581                     1013.7              1.7                  96.0   \n",
       "52582                     1014.1              1.3                  95.0   \n",
       "52583                     1014.9              0.9                  96.0   \n",
       "\n",
       "       Rainfall(mm)  Average temperature per minute(°C)  ...  \\\n",
       "52579           0.0                                 2.8  ...   \n",
       "52580           0.0                                 2.1  ...   \n",
       "52581           0.0                                 1.7  ...   \n",
       "52582           0.0                                 1.5  ...   \n",
       "52583           0.0                                 1.0  ...   \n",
       "\n",
       "       Average humidity per minute(%)  Maximum humidity per minute(%)  \\\n",
       "52579                            89.7                            91.3   \n",
       "52580                            91.5                            94.3   \n",
       "52581                            94.2                            96.1   \n",
       "52582                            95.6                            96.8   \n",
       "52583                            95.4                            96.6   \n",
       "\n",
       "       Minimum humidity per minute(%)  Average atmospheric pressure(hPa)  \\\n",
       "52579                            91.3                             1011.6   \n",
       "52580                            94.3                             1012.4   \n",
       "52581                            96.1                             1013.3   \n",
       "52582                            96.8                             1013.8   \n",
       "52583                            96.6                             1014.5   \n",
       "\n",
       "       Highest atmospheric pressure(hPa)  Minimum atmospheric pressure(hPa)  \\\n",
       "52579                             1012.0                             1011.2   \n",
       "52580                             1013.0                             1012.0   \n",
       "52581                             1013.7                             1013.0   \n",
       "52582                             1014.1                             1013.6   \n",
       "52583                             1014.9                             1014.1   \n",
       "\n",
       "       Rent Bike Count  Year  Month  Day  \n",
       "52579              799  2023     12   31  \n",
       "52580              844  2023     12   31  \n",
       "52581              850  2023     12   31  \n",
       "52582              818  2023     12   31  \n",
       "52583              875  2023     12   31  \n",
       "\n",
       "[5 rows x 25 columns]"
      ]
     },
     "execution_count": 410,
     "metadata": {},
     "output_type": "execute_result"
    }
   ],
   "source": [
    "df_fin.tail()"
   ]
  },
  {
   "cell_type": "markdown",
   "metadata": {},
   "source": [
    "##### 8.2.2 \"Seasons\" 컬럼 생성"
   ]
  },
  {
   "cell_type": "code",
   "execution_count": 411,
   "metadata": {},
   "outputs": [],
   "source": [
    "df_fin['Seasons'] = df_fin['Month'].astype(int)\n",
    "\n",
    "def map_season(month):\n",
    "    if 3 <= month < 6:\n",
    "        return 'Spring'\n",
    "    elif 6 <= month < 9:\n",
    "        return 'Summer'\n",
    "    elif 9 <= month < 12:\n",
    "        return 'Autumn'\n",
    "    else:\n",
    "        return 'Winter'"
   ]
  },
  {
   "cell_type": "code",
   "execution_count": 412,
   "metadata": {},
   "outputs": [
    {
     "data": {
      "text/html": [
       "<div>\n",
       "<style scoped>\n",
       "    .dataframe tbody tr th:only-of-type {\n",
       "        vertical-align: middle;\n",
       "    }\n",
       "\n",
       "    .dataframe tbody tr th {\n",
       "        vertical-align: top;\n",
       "    }\n",
       "\n",
       "    .dataframe thead th {\n",
       "        text-align: right;\n",
       "    }\n",
       "</style>\n",
       "<table border=\"1\" class=\"dataframe\">\n",
       "  <thead>\n",
       "    <tr style=\"text-align: right;\">\n",
       "      <th></th>\n",
       "      <th>Datetime</th>\n",
       "      <th>Date</th>\n",
       "      <th>Hour</th>\n",
       "      <th>Wind Direction</th>\n",
       "      <th>Wind Speed(m/s)</th>\n",
       "      <th>Atmospheric Pressure(hPa)</th>\n",
       "      <th>Temperature(°C)</th>\n",
       "      <th>Relative Humidity(%)</th>\n",
       "      <th>Rainfall(mm)</th>\n",
       "      <th>Average temperature per minute(°C)</th>\n",
       "      <th>...</th>\n",
       "      <th>Maximum humidity per minute(%)</th>\n",
       "      <th>Minimum humidity per minute(%)</th>\n",
       "      <th>Average atmospheric pressure(hPa)</th>\n",
       "      <th>Highest atmospheric pressure(hPa)</th>\n",
       "      <th>Minimum atmospheric pressure(hPa)</th>\n",
       "      <th>Rent Bike Count</th>\n",
       "      <th>Year</th>\n",
       "      <th>Month</th>\n",
       "      <th>Day</th>\n",
       "      <th>Seasons</th>\n",
       "    </tr>\n",
       "  </thead>\n",
       "  <tbody>\n",
       "    <tr>\n",
       "      <th>0</th>\n",
       "      <td>2018-01-01 00:00:00</td>\n",
       "      <td>2018-01-01</td>\n",
       "      <td>0</td>\n",
       "      <td>110.0</td>\n",
       "      <td>0.5</td>\n",
       "      <td>1015.4</td>\n",
       "      <td>-3.2</td>\n",
       "      <td>40.0</td>\n",
       "      <td>0.0</td>\n",
       "      <td>-2.9</td>\n",
       "      <td>...</td>\n",
       "      <td>41.6</td>\n",
       "      <td>41.6</td>\n",
       "      <td>1015.2</td>\n",
       "      <td>1015.4</td>\n",
       "      <td>1015.1</td>\n",
       "      <td>268</td>\n",
       "      <td>2018</td>\n",
       "      <td>01</td>\n",
       "      <td>01</td>\n",
       "      <td>Winter</td>\n",
       "    </tr>\n",
       "    <tr>\n",
       "      <th>1</th>\n",
       "      <td>2018-01-01 01:00:00</td>\n",
       "      <td>2018-01-01</td>\n",
       "      <td>1</td>\n",
       "      <td>360.0</td>\n",
       "      <td>0.7</td>\n",
       "      <td>1015.1</td>\n",
       "      <td>-3.3</td>\n",
       "      <td>41.0</td>\n",
       "      <td>0.0</td>\n",
       "      <td>-3.3</td>\n",
       "      <td>...</td>\n",
       "      <td>41.6</td>\n",
       "      <td>41.6</td>\n",
       "      <td>1015.3</td>\n",
       "      <td>1015.5</td>\n",
       "      <td>1015.1</td>\n",
       "      <td>304</td>\n",
       "      <td>2018</td>\n",
       "      <td>01</td>\n",
       "      <td>01</td>\n",
       "      <td>Winter</td>\n",
       "    </tr>\n",
       "    <tr>\n",
       "      <th>2</th>\n",
       "      <td>2018-01-01 02:00:00</td>\n",
       "      <td>2018-01-01</td>\n",
       "      <td>2</td>\n",
       "      <td>270.0</td>\n",
       "      <td>0.9</td>\n",
       "      <td>1015.2</td>\n",
       "      <td>-3.7</td>\n",
       "      <td>42.0</td>\n",
       "      <td>0.0</td>\n",
       "      <td>-3.4</td>\n",
       "      <td>...</td>\n",
       "      <td>45.9</td>\n",
       "      <td>45.9</td>\n",
       "      <td>1015.0</td>\n",
       "      <td>1015.2</td>\n",
       "      <td>1014.9</td>\n",
       "      <td>228</td>\n",
       "      <td>2018</td>\n",
       "      <td>01</td>\n",
       "      <td>01</td>\n",
       "      <td>Winter</td>\n",
       "    </tr>\n",
       "    <tr>\n",
       "      <th>3</th>\n",
       "      <td>2018-01-01 03:00:00</td>\n",
       "      <td>2018-01-01</td>\n",
       "      <td>3</td>\n",
       "      <td>290.0</td>\n",
       "      <td>1.0</td>\n",
       "      <td>1015.5</td>\n",
       "      <td>-4.0</td>\n",
       "      <td>44.0</td>\n",
       "      <td>0.0</td>\n",
       "      <td>-3.8</td>\n",
       "      <td>...</td>\n",
       "      <td>46.6</td>\n",
       "      <td>46.6</td>\n",
       "      <td>1015.4</td>\n",
       "      <td>1015.6</td>\n",
       "      <td>1015.2</td>\n",
       "      <td>148</td>\n",
       "      <td>2018</td>\n",
       "      <td>01</td>\n",
       "      <td>01</td>\n",
       "      <td>Winter</td>\n",
       "    </tr>\n",
       "    <tr>\n",
       "      <th>4</th>\n",
       "      <td>2018-01-01 04:00:00</td>\n",
       "      <td>2018-01-01</td>\n",
       "      <td>4</td>\n",
       "      <td>290.0</td>\n",
       "      <td>1.1</td>\n",
       "      <td>1015.5</td>\n",
       "      <td>-4.2</td>\n",
       "      <td>53.0</td>\n",
       "      <td>0.0</td>\n",
       "      <td>-4.0</td>\n",
       "      <td>...</td>\n",
       "      <td>52.7</td>\n",
       "      <td>52.7</td>\n",
       "      <td>1015.5</td>\n",
       "      <td>1015.5</td>\n",
       "      <td>1015.5</td>\n",
       "      <td>85</td>\n",
       "      <td>2018</td>\n",
       "      <td>01</td>\n",
       "      <td>01</td>\n",
       "      <td>Winter</td>\n",
       "    </tr>\n",
       "  </tbody>\n",
       "</table>\n",
       "<p>5 rows × 26 columns</p>\n",
       "</div>"
      ],
      "text/plain": [
       "              Datetime        Date  Hour  Wind Direction  Wind Speed(m/s)  \\\n",
       "0  2018-01-01 00:00:00  2018-01-01     0           110.0              0.5   \n",
       "1  2018-01-01 01:00:00  2018-01-01     1           360.0              0.7   \n",
       "2  2018-01-01 02:00:00  2018-01-01     2           270.0              0.9   \n",
       "3  2018-01-01 03:00:00  2018-01-01     3           290.0              1.0   \n",
       "4  2018-01-01 04:00:00  2018-01-01     4           290.0              1.1   \n",
       "\n",
       "   Atmospheric Pressure(hPa)  Temperature(°C)  Relative Humidity(%)  \\\n",
       "0                     1015.4             -3.2                  40.0   \n",
       "1                     1015.1             -3.3                  41.0   \n",
       "2                     1015.2             -3.7                  42.0   \n",
       "3                     1015.5             -4.0                  44.0   \n",
       "4                     1015.5             -4.2                  53.0   \n",
       "\n",
       "   Rainfall(mm)  Average temperature per minute(°C)  ...  \\\n",
       "0           0.0                                -2.9  ...   \n",
       "1           0.0                                -3.3  ...   \n",
       "2           0.0                                -3.4  ...   \n",
       "3           0.0                                -3.8  ...   \n",
       "4           0.0                                -4.0  ...   \n",
       "\n",
       "   Maximum humidity per minute(%)  Minimum humidity per minute(%)  \\\n",
       "0                            41.6                            41.6   \n",
       "1                            41.6                            41.6   \n",
       "2                            45.9                            45.9   \n",
       "3                            46.6                            46.6   \n",
       "4                            52.7                            52.7   \n",
       "\n",
       "   Average atmospheric pressure(hPa)  Highest atmospheric pressure(hPa)  \\\n",
       "0                             1015.2                             1015.4   \n",
       "1                             1015.3                             1015.5   \n",
       "2                             1015.0                             1015.2   \n",
       "3                             1015.4                             1015.6   \n",
       "4                             1015.5                             1015.5   \n",
       "\n",
       "   Minimum atmospheric pressure(hPa)  Rent Bike Count  Year  Month  Day  \\\n",
       "0                             1015.1              268  2018     01   01   \n",
       "1                             1015.1              304  2018     01   01   \n",
       "2                             1014.9              228  2018     01   01   \n",
       "3                             1015.2              148  2018     01   01   \n",
       "4                             1015.5               85  2018     01   01   \n",
       "\n",
       "   Seasons  \n",
       "0   Winter  \n",
       "1   Winter  \n",
       "2   Winter  \n",
       "3   Winter  \n",
       "4   Winter  \n",
       "\n",
       "[5 rows x 26 columns]"
      ]
     },
     "execution_count": 412,
     "metadata": {},
     "output_type": "execute_result"
    }
   ],
   "source": [
    "df_fin['Seasons'] = df_fin['Seasons'].apply(map_season)\n",
    "df_fin.head()"
   ]
  },
  {
   "cell_type": "markdown",
   "metadata": {},
   "source": [
    "##### 8.2.3 \"Day of the week\" 컬럼 생성"
   ]
  },
  {
   "cell_type": "code",
   "execution_count": 413,
   "metadata": {},
   "outputs": [
    {
     "data": {
      "text/html": [
       "<div>\n",
       "<style scoped>\n",
       "    .dataframe tbody tr th:only-of-type {\n",
       "        vertical-align: middle;\n",
       "    }\n",
       "\n",
       "    .dataframe tbody tr th {\n",
       "        vertical-align: top;\n",
       "    }\n",
       "\n",
       "    .dataframe thead th {\n",
       "        text-align: right;\n",
       "    }\n",
       "</style>\n",
       "<table border=\"1\" class=\"dataframe\">\n",
       "  <thead>\n",
       "    <tr style=\"text-align: right;\">\n",
       "      <th></th>\n",
       "      <th>Datetime</th>\n",
       "      <th>Date</th>\n",
       "      <th>Hour</th>\n",
       "      <th>Wind Direction</th>\n",
       "      <th>Wind Speed(m/s)</th>\n",
       "      <th>Atmospheric Pressure(hPa)</th>\n",
       "      <th>Temperature(°C)</th>\n",
       "      <th>Relative Humidity(%)</th>\n",
       "      <th>Rainfall(mm)</th>\n",
       "      <th>Average temperature per minute(°C)</th>\n",
       "      <th>...</th>\n",
       "      <th>Minimum humidity per minute(%)</th>\n",
       "      <th>Average atmospheric pressure(hPa)</th>\n",
       "      <th>Highest atmospheric pressure(hPa)</th>\n",
       "      <th>Minimum atmospheric pressure(hPa)</th>\n",
       "      <th>Rent Bike Count</th>\n",
       "      <th>Year</th>\n",
       "      <th>Month</th>\n",
       "      <th>Day</th>\n",
       "      <th>Seasons</th>\n",
       "      <th>Day of Week</th>\n",
       "    </tr>\n",
       "  </thead>\n",
       "  <tbody>\n",
       "    <tr>\n",
       "      <th>0</th>\n",
       "      <td>2018-01-01 00:00:00</td>\n",
       "      <td>2018-01-01</td>\n",
       "      <td>0</td>\n",
       "      <td>110.0</td>\n",
       "      <td>0.5</td>\n",
       "      <td>1015.4</td>\n",
       "      <td>-3.2</td>\n",
       "      <td>40.0</td>\n",
       "      <td>0.0</td>\n",
       "      <td>-2.9</td>\n",
       "      <td>...</td>\n",
       "      <td>41.6</td>\n",
       "      <td>1015.2</td>\n",
       "      <td>1015.4</td>\n",
       "      <td>1015.1</td>\n",
       "      <td>268</td>\n",
       "      <td>2018</td>\n",
       "      <td>01</td>\n",
       "      <td>01</td>\n",
       "      <td>Winter</td>\n",
       "      <td>Monday</td>\n",
       "    </tr>\n",
       "    <tr>\n",
       "      <th>1</th>\n",
       "      <td>2018-01-01 01:00:00</td>\n",
       "      <td>2018-01-01</td>\n",
       "      <td>1</td>\n",
       "      <td>360.0</td>\n",
       "      <td>0.7</td>\n",
       "      <td>1015.1</td>\n",
       "      <td>-3.3</td>\n",
       "      <td>41.0</td>\n",
       "      <td>0.0</td>\n",
       "      <td>-3.3</td>\n",
       "      <td>...</td>\n",
       "      <td>41.6</td>\n",
       "      <td>1015.3</td>\n",
       "      <td>1015.5</td>\n",
       "      <td>1015.1</td>\n",
       "      <td>304</td>\n",
       "      <td>2018</td>\n",
       "      <td>01</td>\n",
       "      <td>01</td>\n",
       "      <td>Winter</td>\n",
       "      <td>Monday</td>\n",
       "    </tr>\n",
       "    <tr>\n",
       "      <th>2</th>\n",
       "      <td>2018-01-01 02:00:00</td>\n",
       "      <td>2018-01-01</td>\n",
       "      <td>2</td>\n",
       "      <td>270.0</td>\n",
       "      <td>0.9</td>\n",
       "      <td>1015.2</td>\n",
       "      <td>-3.7</td>\n",
       "      <td>42.0</td>\n",
       "      <td>0.0</td>\n",
       "      <td>-3.4</td>\n",
       "      <td>...</td>\n",
       "      <td>45.9</td>\n",
       "      <td>1015.0</td>\n",
       "      <td>1015.2</td>\n",
       "      <td>1014.9</td>\n",
       "      <td>228</td>\n",
       "      <td>2018</td>\n",
       "      <td>01</td>\n",
       "      <td>01</td>\n",
       "      <td>Winter</td>\n",
       "      <td>Monday</td>\n",
       "    </tr>\n",
       "    <tr>\n",
       "      <th>3</th>\n",
       "      <td>2018-01-01 03:00:00</td>\n",
       "      <td>2018-01-01</td>\n",
       "      <td>3</td>\n",
       "      <td>290.0</td>\n",
       "      <td>1.0</td>\n",
       "      <td>1015.5</td>\n",
       "      <td>-4.0</td>\n",
       "      <td>44.0</td>\n",
       "      <td>0.0</td>\n",
       "      <td>-3.8</td>\n",
       "      <td>...</td>\n",
       "      <td>46.6</td>\n",
       "      <td>1015.4</td>\n",
       "      <td>1015.6</td>\n",
       "      <td>1015.2</td>\n",
       "      <td>148</td>\n",
       "      <td>2018</td>\n",
       "      <td>01</td>\n",
       "      <td>01</td>\n",
       "      <td>Winter</td>\n",
       "      <td>Monday</td>\n",
       "    </tr>\n",
       "    <tr>\n",
       "      <th>4</th>\n",
       "      <td>2018-01-01 04:00:00</td>\n",
       "      <td>2018-01-01</td>\n",
       "      <td>4</td>\n",
       "      <td>290.0</td>\n",
       "      <td>1.1</td>\n",
       "      <td>1015.5</td>\n",
       "      <td>-4.2</td>\n",
       "      <td>53.0</td>\n",
       "      <td>0.0</td>\n",
       "      <td>-4.0</td>\n",
       "      <td>...</td>\n",
       "      <td>52.7</td>\n",
       "      <td>1015.5</td>\n",
       "      <td>1015.5</td>\n",
       "      <td>1015.5</td>\n",
       "      <td>85</td>\n",
       "      <td>2018</td>\n",
       "      <td>01</td>\n",
       "      <td>01</td>\n",
       "      <td>Winter</td>\n",
       "      <td>Monday</td>\n",
       "    </tr>\n",
       "  </tbody>\n",
       "</table>\n",
       "<p>5 rows × 27 columns</p>\n",
       "</div>"
      ],
      "text/plain": [
       "              Datetime        Date  Hour  Wind Direction  Wind Speed(m/s)  \\\n",
       "0  2018-01-01 00:00:00  2018-01-01     0           110.0              0.5   \n",
       "1  2018-01-01 01:00:00  2018-01-01     1           360.0              0.7   \n",
       "2  2018-01-01 02:00:00  2018-01-01     2           270.0              0.9   \n",
       "3  2018-01-01 03:00:00  2018-01-01     3           290.0              1.0   \n",
       "4  2018-01-01 04:00:00  2018-01-01     4           290.0              1.1   \n",
       "\n",
       "   Atmospheric Pressure(hPa)  Temperature(°C)  Relative Humidity(%)  \\\n",
       "0                     1015.4             -3.2                  40.0   \n",
       "1                     1015.1             -3.3                  41.0   \n",
       "2                     1015.2             -3.7                  42.0   \n",
       "3                     1015.5             -4.0                  44.0   \n",
       "4                     1015.5             -4.2                  53.0   \n",
       "\n",
       "   Rainfall(mm)  Average temperature per minute(°C)  ...  \\\n",
       "0           0.0                                -2.9  ...   \n",
       "1           0.0                                -3.3  ...   \n",
       "2           0.0                                -3.4  ...   \n",
       "3           0.0                                -3.8  ...   \n",
       "4           0.0                                -4.0  ...   \n",
       "\n",
       "   Minimum humidity per minute(%)  Average atmospheric pressure(hPa)  \\\n",
       "0                            41.6                             1015.2   \n",
       "1                            41.6                             1015.3   \n",
       "2                            45.9                             1015.0   \n",
       "3                            46.6                             1015.4   \n",
       "4                            52.7                             1015.5   \n",
       "\n",
       "   Highest atmospheric pressure(hPa)  Minimum atmospheric pressure(hPa)  \\\n",
       "0                             1015.4                             1015.1   \n",
       "1                             1015.5                             1015.1   \n",
       "2                             1015.2                             1014.9   \n",
       "3                             1015.6                             1015.2   \n",
       "4                             1015.5                             1015.5   \n",
       "\n",
       "   Rent Bike Count  Year  Month  Day  Seasons  Day of Week  \n",
       "0              268  2018     01   01   Winter       Monday  \n",
       "1              304  2018     01   01   Winter       Monday  \n",
       "2              228  2018     01   01   Winter       Monday  \n",
       "3              148  2018     01   01   Winter       Monday  \n",
       "4               85  2018     01   01   Winter       Monday  \n",
       "\n",
       "[5 rows x 27 columns]"
      ]
     },
     "execution_count": 413,
     "metadata": {},
     "output_type": "execute_result"
    }
   ],
   "source": [
    "df_fin['Day of Week'] = pd.to_datetime(df_fin['Date']).dt.day_name()\n",
    "df_fin.head()"
   ]
  },
  {
   "cell_type": "markdown",
   "metadata": {},
   "source": [
    "##### 8.2.4 \"Weekend\" 컬럼 생성"
   ]
  },
  {
   "cell_type": "code",
   "execution_count": 414,
   "metadata": {},
   "outputs": [],
   "source": [
    "def map_weekend(x):\n",
    "    if x in ['Saturday', 'Sunday']:\n",
    "        return 'Weekend'\n",
    "    else:\n",
    "        return 'Weekdays'"
   ]
  },
  {
   "cell_type": "code",
   "execution_count": 415,
   "metadata": {},
   "outputs": [
    {
     "data": {
      "text/html": [
       "<div>\n",
       "<style scoped>\n",
       "    .dataframe tbody tr th:only-of-type {\n",
       "        vertical-align: middle;\n",
       "    }\n",
       "\n",
       "    .dataframe tbody tr th {\n",
       "        vertical-align: top;\n",
       "    }\n",
       "\n",
       "    .dataframe thead th {\n",
       "        text-align: right;\n",
       "    }\n",
       "</style>\n",
       "<table border=\"1\" class=\"dataframe\">\n",
       "  <thead>\n",
       "    <tr style=\"text-align: right;\">\n",
       "      <th></th>\n",
       "      <th>Datetime</th>\n",
       "      <th>Date</th>\n",
       "      <th>Hour</th>\n",
       "      <th>Wind Direction</th>\n",
       "      <th>Wind Speed(m/s)</th>\n",
       "      <th>Atmospheric Pressure(hPa)</th>\n",
       "      <th>Temperature(°C)</th>\n",
       "      <th>Relative Humidity(%)</th>\n",
       "      <th>Rainfall(mm)</th>\n",
       "      <th>Average temperature per minute(°C)</th>\n",
       "      <th>...</th>\n",
       "      <th>Average atmospheric pressure(hPa)</th>\n",
       "      <th>Highest atmospheric pressure(hPa)</th>\n",
       "      <th>Minimum atmospheric pressure(hPa)</th>\n",
       "      <th>Rent Bike Count</th>\n",
       "      <th>Year</th>\n",
       "      <th>Month</th>\n",
       "      <th>Day</th>\n",
       "      <th>Seasons</th>\n",
       "      <th>Day of Week</th>\n",
       "      <th>Weekend</th>\n",
       "    </tr>\n",
       "  </thead>\n",
       "  <tbody>\n",
       "    <tr>\n",
       "      <th>0</th>\n",
       "      <td>2018-01-01 00:00:00</td>\n",
       "      <td>2018-01-01</td>\n",
       "      <td>0</td>\n",
       "      <td>110.0</td>\n",
       "      <td>0.5</td>\n",
       "      <td>1015.4</td>\n",
       "      <td>-3.2</td>\n",
       "      <td>40.0</td>\n",
       "      <td>0.0</td>\n",
       "      <td>-2.9</td>\n",
       "      <td>...</td>\n",
       "      <td>1015.2</td>\n",
       "      <td>1015.4</td>\n",
       "      <td>1015.1</td>\n",
       "      <td>268</td>\n",
       "      <td>2018</td>\n",
       "      <td>01</td>\n",
       "      <td>01</td>\n",
       "      <td>Winter</td>\n",
       "      <td>Monday</td>\n",
       "      <td>Weekdays</td>\n",
       "    </tr>\n",
       "    <tr>\n",
       "      <th>1</th>\n",
       "      <td>2018-01-01 01:00:00</td>\n",
       "      <td>2018-01-01</td>\n",
       "      <td>1</td>\n",
       "      <td>360.0</td>\n",
       "      <td>0.7</td>\n",
       "      <td>1015.1</td>\n",
       "      <td>-3.3</td>\n",
       "      <td>41.0</td>\n",
       "      <td>0.0</td>\n",
       "      <td>-3.3</td>\n",
       "      <td>...</td>\n",
       "      <td>1015.3</td>\n",
       "      <td>1015.5</td>\n",
       "      <td>1015.1</td>\n",
       "      <td>304</td>\n",
       "      <td>2018</td>\n",
       "      <td>01</td>\n",
       "      <td>01</td>\n",
       "      <td>Winter</td>\n",
       "      <td>Monday</td>\n",
       "      <td>Weekdays</td>\n",
       "    </tr>\n",
       "    <tr>\n",
       "      <th>2</th>\n",
       "      <td>2018-01-01 02:00:00</td>\n",
       "      <td>2018-01-01</td>\n",
       "      <td>2</td>\n",
       "      <td>270.0</td>\n",
       "      <td>0.9</td>\n",
       "      <td>1015.2</td>\n",
       "      <td>-3.7</td>\n",
       "      <td>42.0</td>\n",
       "      <td>0.0</td>\n",
       "      <td>-3.4</td>\n",
       "      <td>...</td>\n",
       "      <td>1015.0</td>\n",
       "      <td>1015.2</td>\n",
       "      <td>1014.9</td>\n",
       "      <td>228</td>\n",
       "      <td>2018</td>\n",
       "      <td>01</td>\n",
       "      <td>01</td>\n",
       "      <td>Winter</td>\n",
       "      <td>Monday</td>\n",
       "      <td>Weekdays</td>\n",
       "    </tr>\n",
       "    <tr>\n",
       "      <th>3</th>\n",
       "      <td>2018-01-01 03:00:00</td>\n",
       "      <td>2018-01-01</td>\n",
       "      <td>3</td>\n",
       "      <td>290.0</td>\n",
       "      <td>1.0</td>\n",
       "      <td>1015.5</td>\n",
       "      <td>-4.0</td>\n",
       "      <td>44.0</td>\n",
       "      <td>0.0</td>\n",
       "      <td>-3.8</td>\n",
       "      <td>...</td>\n",
       "      <td>1015.4</td>\n",
       "      <td>1015.6</td>\n",
       "      <td>1015.2</td>\n",
       "      <td>148</td>\n",
       "      <td>2018</td>\n",
       "      <td>01</td>\n",
       "      <td>01</td>\n",
       "      <td>Winter</td>\n",
       "      <td>Monday</td>\n",
       "      <td>Weekdays</td>\n",
       "    </tr>\n",
       "    <tr>\n",
       "      <th>4</th>\n",
       "      <td>2018-01-01 04:00:00</td>\n",
       "      <td>2018-01-01</td>\n",
       "      <td>4</td>\n",
       "      <td>290.0</td>\n",
       "      <td>1.1</td>\n",
       "      <td>1015.5</td>\n",
       "      <td>-4.2</td>\n",
       "      <td>53.0</td>\n",
       "      <td>0.0</td>\n",
       "      <td>-4.0</td>\n",
       "      <td>...</td>\n",
       "      <td>1015.5</td>\n",
       "      <td>1015.5</td>\n",
       "      <td>1015.5</td>\n",
       "      <td>85</td>\n",
       "      <td>2018</td>\n",
       "      <td>01</td>\n",
       "      <td>01</td>\n",
       "      <td>Winter</td>\n",
       "      <td>Monday</td>\n",
       "      <td>Weekdays</td>\n",
       "    </tr>\n",
       "  </tbody>\n",
       "</table>\n",
       "<p>5 rows × 28 columns</p>\n",
       "</div>"
      ],
      "text/plain": [
       "              Datetime        Date  Hour  Wind Direction  Wind Speed(m/s)  \\\n",
       "0  2018-01-01 00:00:00  2018-01-01     0           110.0              0.5   \n",
       "1  2018-01-01 01:00:00  2018-01-01     1           360.0              0.7   \n",
       "2  2018-01-01 02:00:00  2018-01-01     2           270.0              0.9   \n",
       "3  2018-01-01 03:00:00  2018-01-01     3           290.0              1.0   \n",
       "4  2018-01-01 04:00:00  2018-01-01     4           290.0              1.1   \n",
       "\n",
       "   Atmospheric Pressure(hPa)  Temperature(°C)  Relative Humidity(%)  \\\n",
       "0                     1015.4             -3.2                  40.0   \n",
       "1                     1015.1             -3.3                  41.0   \n",
       "2                     1015.2             -3.7                  42.0   \n",
       "3                     1015.5             -4.0                  44.0   \n",
       "4                     1015.5             -4.2                  53.0   \n",
       "\n",
       "   Rainfall(mm)  Average temperature per minute(°C)  ...  \\\n",
       "0           0.0                                -2.9  ...   \n",
       "1           0.0                                -3.3  ...   \n",
       "2           0.0                                -3.4  ...   \n",
       "3           0.0                                -3.8  ...   \n",
       "4           0.0                                -4.0  ...   \n",
       "\n",
       "   Average atmospheric pressure(hPa)  Highest atmospheric pressure(hPa)  \\\n",
       "0                             1015.2                             1015.4   \n",
       "1                             1015.3                             1015.5   \n",
       "2                             1015.0                             1015.2   \n",
       "3                             1015.4                             1015.6   \n",
       "4                             1015.5                             1015.5   \n",
       "\n",
       "   Minimum atmospheric pressure(hPa)  Rent Bike Count  Year  Month  Day  \\\n",
       "0                             1015.1              268  2018     01   01   \n",
       "1                             1015.1              304  2018     01   01   \n",
       "2                             1014.9              228  2018     01   01   \n",
       "3                             1015.2              148  2018     01   01   \n",
       "4                             1015.5               85  2018     01   01   \n",
       "\n",
       "   Seasons  Day of Week   Weekend  \n",
       "0   Winter       Monday  Weekdays  \n",
       "1   Winter       Monday  Weekdays  \n",
       "2   Winter       Monday  Weekdays  \n",
       "3   Winter       Monday  Weekdays  \n",
       "4   Winter       Monday  Weekdays  \n",
       "\n",
       "[5 rows x 28 columns]"
      ]
     },
     "execution_count": 415,
     "metadata": {},
     "output_type": "execute_result"
    }
   ],
   "source": [
    "df_fin['Weekend'] = df_fin['Day of Week'].apply(lambda x: map_weekend(x))\n",
    "df_fin.head()"
   ]
  },
  {
   "cell_type": "markdown",
   "metadata": {},
   "source": [
    "##### 8.2.5 \"Holiday\" 컬럼 생성"
   ]
  },
  {
   "cell_type": "code",
   "execution_count": 416,
   "metadata": {},
   "outputs": [
    {
     "data": {
      "text/html": [
       "<div>\n",
       "<style scoped>\n",
       "    .dataframe tbody tr th:only-of-type {\n",
       "        vertical-align: middle;\n",
       "    }\n",
       "\n",
       "    .dataframe tbody tr th {\n",
       "        vertical-align: top;\n",
       "    }\n",
       "\n",
       "    .dataframe thead th {\n",
       "        text-align: right;\n",
       "    }\n",
       "</style>\n",
       "<table border=\"1\" class=\"dataframe\">\n",
       "  <thead>\n",
       "    <tr style=\"text-align: right;\">\n",
       "      <th></th>\n",
       "      <th>Datetime</th>\n",
       "      <th>Date</th>\n",
       "      <th>Hour</th>\n",
       "      <th>Wind Direction</th>\n",
       "      <th>Wind Speed(m/s)</th>\n",
       "      <th>Atmospheric Pressure(hPa)</th>\n",
       "      <th>Temperature(°C)</th>\n",
       "      <th>Relative Humidity(%)</th>\n",
       "      <th>Rainfall(mm)</th>\n",
       "      <th>Average temperature per minute(°C)</th>\n",
       "      <th>...</th>\n",
       "      <th>Highest atmospheric pressure(hPa)</th>\n",
       "      <th>Minimum atmospheric pressure(hPa)</th>\n",
       "      <th>Rent Bike Count</th>\n",
       "      <th>Year</th>\n",
       "      <th>Month</th>\n",
       "      <th>Day</th>\n",
       "      <th>Seasons</th>\n",
       "      <th>Day of Week</th>\n",
       "      <th>Weekend</th>\n",
       "      <th>Holiday</th>\n",
       "    </tr>\n",
       "  </thead>\n",
       "  <tbody>\n",
       "    <tr>\n",
       "      <th>0</th>\n",
       "      <td>2018-01-01 00:00:00</td>\n",
       "      <td>2018-01-01</td>\n",
       "      <td>0</td>\n",
       "      <td>110.0</td>\n",
       "      <td>0.5</td>\n",
       "      <td>1015.4</td>\n",
       "      <td>-3.2</td>\n",
       "      <td>40.0</td>\n",
       "      <td>0.0</td>\n",
       "      <td>-2.9</td>\n",
       "      <td>...</td>\n",
       "      <td>1015.4</td>\n",
       "      <td>1015.1</td>\n",
       "      <td>268</td>\n",
       "      <td>2018</td>\n",
       "      <td>01</td>\n",
       "      <td>01</td>\n",
       "      <td>Winter</td>\n",
       "      <td>Monday</td>\n",
       "      <td>Weekdays</td>\n",
       "      <td>Holiday</td>\n",
       "    </tr>\n",
       "    <tr>\n",
       "      <th>1</th>\n",
       "      <td>2018-01-01 01:00:00</td>\n",
       "      <td>2018-01-01</td>\n",
       "      <td>1</td>\n",
       "      <td>360.0</td>\n",
       "      <td>0.7</td>\n",
       "      <td>1015.1</td>\n",
       "      <td>-3.3</td>\n",
       "      <td>41.0</td>\n",
       "      <td>0.0</td>\n",
       "      <td>-3.3</td>\n",
       "      <td>...</td>\n",
       "      <td>1015.5</td>\n",
       "      <td>1015.1</td>\n",
       "      <td>304</td>\n",
       "      <td>2018</td>\n",
       "      <td>01</td>\n",
       "      <td>01</td>\n",
       "      <td>Winter</td>\n",
       "      <td>Monday</td>\n",
       "      <td>Weekdays</td>\n",
       "      <td>Holiday</td>\n",
       "    </tr>\n",
       "    <tr>\n",
       "      <th>2</th>\n",
       "      <td>2018-01-01 02:00:00</td>\n",
       "      <td>2018-01-01</td>\n",
       "      <td>2</td>\n",
       "      <td>270.0</td>\n",
       "      <td>0.9</td>\n",
       "      <td>1015.2</td>\n",
       "      <td>-3.7</td>\n",
       "      <td>42.0</td>\n",
       "      <td>0.0</td>\n",
       "      <td>-3.4</td>\n",
       "      <td>...</td>\n",
       "      <td>1015.2</td>\n",
       "      <td>1014.9</td>\n",
       "      <td>228</td>\n",
       "      <td>2018</td>\n",
       "      <td>01</td>\n",
       "      <td>01</td>\n",
       "      <td>Winter</td>\n",
       "      <td>Monday</td>\n",
       "      <td>Weekdays</td>\n",
       "      <td>Holiday</td>\n",
       "    </tr>\n",
       "    <tr>\n",
       "      <th>3</th>\n",
       "      <td>2018-01-01 03:00:00</td>\n",
       "      <td>2018-01-01</td>\n",
       "      <td>3</td>\n",
       "      <td>290.0</td>\n",
       "      <td>1.0</td>\n",
       "      <td>1015.5</td>\n",
       "      <td>-4.0</td>\n",
       "      <td>44.0</td>\n",
       "      <td>0.0</td>\n",
       "      <td>-3.8</td>\n",
       "      <td>...</td>\n",
       "      <td>1015.6</td>\n",
       "      <td>1015.2</td>\n",
       "      <td>148</td>\n",
       "      <td>2018</td>\n",
       "      <td>01</td>\n",
       "      <td>01</td>\n",
       "      <td>Winter</td>\n",
       "      <td>Monday</td>\n",
       "      <td>Weekdays</td>\n",
       "      <td>Holiday</td>\n",
       "    </tr>\n",
       "    <tr>\n",
       "      <th>4</th>\n",
       "      <td>2018-01-01 04:00:00</td>\n",
       "      <td>2018-01-01</td>\n",
       "      <td>4</td>\n",
       "      <td>290.0</td>\n",
       "      <td>1.1</td>\n",
       "      <td>1015.5</td>\n",
       "      <td>-4.2</td>\n",
       "      <td>53.0</td>\n",
       "      <td>0.0</td>\n",
       "      <td>-4.0</td>\n",
       "      <td>...</td>\n",
       "      <td>1015.5</td>\n",
       "      <td>1015.5</td>\n",
       "      <td>85</td>\n",
       "      <td>2018</td>\n",
       "      <td>01</td>\n",
       "      <td>01</td>\n",
       "      <td>Winter</td>\n",
       "      <td>Monday</td>\n",
       "      <td>Weekdays</td>\n",
       "      <td>Holiday</td>\n",
       "    </tr>\n",
       "  </tbody>\n",
       "</table>\n",
       "<p>5 rows × 29 columns</p>\n",
       "</div>"
      ],
      "text/plain": [
       "              Datetime        Date  Hour  Wind Direction  Wind Speed(m/s)  \\\n",
       "0  2018-01-01 00:00:00  2018-01-01     0           110.0              0.5   \n",
       "1  2018-01-01 01:00:00  2018-01-01     1           360.0              0.7   \n",
       "2  2018-01-01 02:00:00  2018-01-01     2           270.0              0.9   \n",
       "3  2018-01-01 03:00:00  2018-01-01     3           290.0              1.0   \n",
       "4  2018-01-01 04:00:00  2018-01-01     4           290.0              1.1   \n",
       "\n",
       "   Atmospheric Pressure(hPa)  Temperature(°C)  Relative Humidity(%)  \\\n",
       "0                     1015.4             -3.2                  40.0   \n",
       "1                     1015.1             -3.3                  41.0   \n",
       "2                     1015.2             -3.7                  42.0   \n",
       "3                     1015.5             -4.0                  44.0   \n",
       "4                     1015.5             -4.2                  53.0   \n",
       "\n",
       "   Rainfall(mm)  Average temperature per minute(°C)  ...  \\\n",
       "0           0.0                                -2.9  ...   \n",
       "1           0.0                                -3.3  ...   \n",
       "2           0.0                                -3.4  ...   \n",
       "3           0.0                                -3.8  ...   \n",
       "4           0.0                                -4.0  ...   \n",
       "\n",
       "   Highest atmospheric pressure(hPa)  Minimum atmospheric pressure(hPa)  \\\n",
       "0                             1015.4                             1015.1   \n",
       "1                             1015.5                             1015.1   \n",
       "2                             1015.2                             1014.9   \n",
       "3                             1015.6                             1015.2   \n",
       "4                             1015.5                             1015.5   \n",
       "\n",
       "   Rent Bike Count  Year  Month  Day  Seasons  Day of Week   Weekend  Holiday  \n",
       "0              268  2018     01   01   Winter       Monday  Weekdays  Holiday  \n",
       "1              304  2018     01   01   Winter       Monday  Weekdays  Holiday  \n",
       "2              228  2018     01   01   Winter       Monday  Weekdays  Holiday  \n",
       "3              148  2018     01   01   Winter       Monday  Weekdays  Holiday  \n",
       "4               85  2018     01   01   Winter       Monday  Weekdays  Holiday  \n",
       "\n",
       "[5 rows x 29 columns]"
      ]
     },
     "execution_count": 416,
     "metadata": {},
     "output_type": "execute_result"
    }
   ],
   "source": [
    "import holidays\n",
    "\n",
    "hol = holidays.KR()\n",
    "\n",
    "df_fin['Holiday'] = df_fin['Date'].apply(lambda x: 'Holiday' if x in hol else 'No Holiday')\n",
    "df_fin.head()"
   ]
  },
  {
   "cell_type": "markdown",
   "metadata": {},
   "source": [
    "##### 8.2.5 컬럼 순서 변경"
   ]
  },
  {
   "cell_type": "code",
   "execution_count": 417,
   "metadata": {},
   "outputs": [
    {
     "data": {
      "text/plain": [
       "Index(['Datetime', 'Date', 'Hour', 'Wind Direction', 'Wind Speed(m/s)',\n",
       "       'Atmospheric Pressure(hPa)', 'Temperature(°C)', 'Relative Humidity(%)',\n",
       "       'Rainfall(mm)', 'Average temperature per minute(°C)',\n",
       "       'Highest temperature per minute(°C)',\n",
       "       'Lowest temperature per minute(°C)',\n",
       "       'Maximum wind direction per minute(deg)',\n",
       "       'Average wind speed per minute(m/s)',\n",
       "       'Maximum wind speed per minute(m/s)', 'Average humidity per minute(%)',\n",
       "       'Maximum humidity per minute(%)', 'Minimum humidity per minute(%)',\n",
       "       'Average atmospheric pressure(hPa)',\n",
       "       'Highest atmospheric pressure(hPa)',\n",
       "       'Minimum atmospheric pressure(hPa)', 'Rent Bike Count', 'Year', 'Month',\n",
       "       'Day', 'Seasons', 'Day of Week', 'Weekend', 'Holiday'],\n",
       "      dtype='object')"
      ]
     },
     "execution_count": 417,
     "metadata": {},
     "output_type": "execute_result"
    }
   ],
   "source": [
    "df_fin.columns"
   ]
  },
  {
   "cell_type": "code",
   "execution_count": 418,
   "metadata": {},
   "outputs": [],
   "source": [
    "# 컬럼 순서 변경\n",
    "df_fin = df_fin[['Datetime', 'Date', 'Year', 'Month', 'Day', 'Hour', 'Rent Bike Count',\n",
    "                 'Temperature(°C)', 'Average temperature per minute(°C)', \n",
    "                 'Highest temperature per minute(°C)', 'Lowest temperature per minute(°C)',\n",
    "                 'Rainfall(mm)', 'Wind Direction', 'Maximum wind direction per minute(deg)', \n",
    "                 'Wind Speed(m/s)', 'Average wind speed per minute(m/s)', 'Maximum wind speed per minute(m/s)',\n",
    "                 'Relative Humidity(%)', 'Average humidity per minute(%)',\n",
    "                 'Maximum humidity per minute(%)', 'Minimum humidity per minute(%)',\n",
    "                 'Atmospheric Pressure(hPa)', 'Average atmospheric pressure(hPa)', \n",
    "                 'Highest atmospheric pressure(hPa)', 'Minimum atmospheric pressure(hPa)',\n",
    "                 'Seasons', 'Day of Week', 'Weekend', 'Holiday']]"
   ]
  },
  {
   "cell_type": "code",
   "execution_count": 419,
   "metadata": {},
   "outputs": [
    {
     "data": {
      "text/html": [
       "<div>\n",
       "<style scoped>\n",
       "    .dataframe tbody tr th:only-of-type {\n",
       "        vertical-align: middle;\n",
       "    }\n",
       "\n",
       "    .dataframe tbody tr th {\n",
       "        vertical-align: top;\n",
       "    }\n",
       "\n",
       "    .dataframe thead th {\n",
       "        text-align: right;\n",
       "    }\n",
       "</style>\n",
       "<table border=\"1\" class=\"dataframe\">\n",
       "  <thead>\n",
       "    <tr style=\"text-align: right;\">\n",
       "      <th></th>\n",
       "      <th>Datetime</th>\n",
       "      <th>Date</th>\n",
       "      <th>Year</th>\n",
       "      <th>Month</th>\n",
       "      <th>Day</th>\n",
       "      <th>Hour</th>\n",
       "      <th>Rent Bike Count</th>\n",
       "      <th>Temperature(°C)</th>\n",
       "      <th>Average temperature per minute(°C)</th>\n",
       "      <th>Highest temperature per minute(°C)</th>\n",
       "      <th>...</th>\n",
       "      <th>Maximum humidity per minute(%)</th>\n",
       "      <th>Minimum humidity per minute(%)</th>\n",
       "      <th>Atmospheric Pressure(hPa)</th>\n",
       "      <th>Average atmospheric pressure(hPa)</th>\n",
       "      <th>Highest atmospheric pressure(hPa)</th>\n",
       "      <th>Minimum atmospheric pressure(hPa)</th>\n",
       "      <th>Seasons</th>\n",
       "      <th>Day of Week</th>\n",
       "      <th>Weekend</th>\n",
       "      <th>Holiday</th>\n",
       "    </tr>\n",
       "  </thead>\n",
       "  <tbody>\n",
       "    <tr>\n",
       "      <th>0</th>\n",
       "      <td>2018-01-01 00:00:00</td>\n",
       "      <td>2018-01-01</td>\n",
       "      <td>2018</td>\n",
       "      <td>01</td>\n",
       "      <td>01</td>\n",
       "      <td>0</td>\n",
       "      <td>268</td>\n",
       "      <td>-3.2</td>\n",
       "      <td>-2.9</td>\n",
       "      <td>-2.6</td>\n",
       "      <td>...</td>\n",
       "      <td>41.6</td>\n",
       "      <td>41.6</td>\n",
       "      <td>1015.4</td>\n",
       "      <td>1015.2</td>\n",
       "      <td>1015.4</td>\n",
       "      <td>1015.1</td>\n",
       "      <td>Winter</td>\n",
       "      <td>Monday</td>\n",
       "      <td>Weekdays</td>\n",
       "      <td>Holiday</td>\n",
       "    </tr>\n",
       "    <tr>\n",
       "      <th>1</th>\n",
       "      <td>2018-01-01 01:00:00</td>\n",
       "      <td>2018-01-01</td>\n",
       "      <td>2018</td>\n",
       "      <td>01</td>\n",
       "      <td>01</td>\n",
       "      <td>1</td>\n",
       "      <td>304</td>\n",
       "      <td>-3.3</td>\n",
       "      <td>-3.3</td>\n",
       "      <td>-3.2</td>\n",
       "      <td>...</td>\n",
       "      <td>41.6</td>\n",
       "      <td>41.6</td>\n",
       "      <td>1015.1</td>\n",
       "      <td>1015.3</td>\n",
       "      <td>1015.5</td>\n",
       "      <td>1015.1</td>\n",
       "      <td>Winter</td>\n",
       "      <td>Monday</td>\n",
       "      <td>Weekdays</td>\n",
       "      <td>Holiday</td>\n",
       "    </tr>\n",
       "    <tr>\n",
       "      <th>2</th>\n",
       "      <td>2018-01-01 02:00:00</td>\n",
       "      <td>2018-01-01</td>\n",
       "      <td>2018</td>\n",
       "      <td>01</td>\n",
       "      <td>01</td>\n",
       "      <td>2</td>\n",
       "      <td>228</td>\n",
       "      <td>-3.7</td>\n",
       "      <td>-3.4</td>\n",
       "      <td>-3.2</td>\n",
       "      <td>...</td>\n",
       "      <td>45.9</td>\n",
       "      <td>45.9</td>\n",
       "      <td>1015.2</td>\n",
       "      <td>1015.0</td>\n",
       "      <td>1015.2</td>\n",
       "      <td>1014.9</td>\n",
       "      <td>Winter</td>\n",
       "      <td>Monday</td>\n",
       "      <td>Weekdays</td>\n",
       "      <td>Holiday</td>\n",
       "    </tr>\n",
       "    <tr>\n",
       "      <th>3</th>\n",
       "      <td>2018-01-01 03:00:00</td>\n",
       "      <td>2018-01-01</td>\n",
       "      <td>2018</td>\n",
       "      <td>01</td>\n",
       "      <td>01</td>\n",
       "      <td>3</td>\n",
       "      <td>148</td>\n",
       "      <td>-4.0</td>\n",
       "      <td>-3.8</td>\n",
       "      <td>-3.8</td>\n",
       "      <td>...</td>\n",
       "      <td>46.6</td>\n",
       "      <td>46.6</td>\n",
       "      <td>1015.5</td>\n",
       "      <td>1015.4</td>\n",
       "      <td>1015.6</td>\n",
       "      <td>1015.2</td>\n",
       "      <td>Winter</td>\n",
       "      <td>Monday</td>\n",
       "      <td>Weekdays</td>\n",
       "      <td>Holiday</td>\n",
       "    </tr>\n",
       "    <tr>\n",
       "      <th>4</th>\n",
       "      <td>2018-01-01 04:00:00</td>\n",
       "      <td>2018-01-01</td>\n",
       "      <td>2018</td>\n",
       "      <td>01</td>\n",
       "      <td>01</td>\n",
       "      <td>4</td>\n",
       "      <td>85</td>\n",
       "      <td>-4.2</td>\n",
       "      <td>-4.0</td>\n",
       "      <td>-3.9</td>\n",
       "      <td>...</td>\n",
       "      <td>52.7</td>\n",
       "      <td>52.7</td>\n",
       "      <td>1015.5</td>\n",
       "      <td>1015.5</td>\n",
       "      <td>1015.5</td>\n",
       "      <td>1015.5</td>\n",
       "      <td>Winter</td>\n",
       "      <td>Monday</td>\n",
       "      <td>Weekdays</td>\n",
       "      <td>Holiday</td>\n",
       "    </tr>\n",
       "  </tbody>\n",
       "</table>\n",
       "<p>5 rows × 29 columns</p>\n",
       "</div>"
      ],
      "text/plain": [
       "              Datetime        Date  Year Month Day  Hour  Rent Bike Count  \\\n",
       "0  2018-01-01 00:00:00  2018-01-01  2018    01  01     0              268   \n",
       "1  2018-01-01 01:00:00  2018-01-01  2018    01  01     1              304   \n",
       "2  2018-01-01 02:00:00  2018-01-01  2018    01  01     2              228   \n",
       "3  2018-01-01 03:00:00  2018-01-01  2018    01  01     3              148   \n",
       "4  2018-01-01 04:00:00  2018-01-01  2018    01  01     4               85   \n",
       "\n",
       "   Temperature(°C)  Average temperature per minute(°C)  \\\n",
       "0             -3.2                                -2.9   \n",
       "1             -3.3                                -3.3   \n",
       "2             -3.7                                -3.4   \n",
       "3             -4.0                                -3.8   \n",
       "4             -4.2                                -4.0   \n",
       "\n",
       "   Highest temperature per minute(°C)  ...  Maximum humidity per minute(%)  \\\n",
       "0                                -2.6  ...                            41.6   \n",
       "1                                -3.2  ...                            41.6   \n",
       "2                                -3.2  ...                            45.9   \n",
       "3                                -3.8  ...                            46.6   \n",
       "4                                -3.9  ...                            52.7   \n",
       "\n",
       "   Minimum humidity per minute(%)  Atmospheric Pressure(hPa)  \\\n",
       "0                            41.6                     1015.4   \n",
       "1                            41.6                     1015.1   \n",
       "2                            45.9                     1015.2   \n",
       "3                            46.6                     1015.5   \n",
       "4                            52.7                     1015.5   \n",
       "\n",
       "   Average atmospheric pressure(hPa)  Highest atmospheric pressure(hPa)  \\\n",
       "0                             1015.2                             1015.4   \n",
       "1                             1015.3                             1015.5   \n",
       "2                             1015.0                             1015.2   \n",
       "3                             1015.4                             1015.6   \n",
       "4                             1015.5                             1015.5   \n",
       "\n",
       "   Minimum atmospheric pressure(hPa)  Seasons  Day of Week   Weekend  Holiday  \n",
       "0                             1015.1   Winter       Monday  Weekdays  Holiday  \n",
       "1                             1015.1   Winter       Monday  Weekdays  Holiday  \n",
       "2                             1014.9   Winter       Monday  Weekdays  Holiday  \n",
       "3                             1015.2   Winter       Monday  Weekdays  Holiday  \n",
       "4                             1015.5   Winter       Monday  Weekdays  Holiday  \n",
       "\n",
       "[5 rows x 29 columns]"
      ]
     },
     "execution_count": 419,
     "metadata": {},
     "output_type": "execute_result"
    }
   ],
   "source": [
    "df_fin.head()"
   ]
  },
  {
   "cell_type": "markdown",
   "metadata": {},
   "source": [
    "### 9.데이터프레임을 csv 파일로 저장하기"
   ]
  },
  {
   "cell_type": "markdown",
   "metadata": {},
   "source": [
    "#### 9.1 전체 데이터프레임을 csv 파일로 저장"
   ]
  },
  {
   "cell_type": "code",
   "execution_count": 420,
   "metadata": {},
   "outputs": [],
   "source": [
    "df_fin.to_csv(\"../data/data_fin.csv\")"
   ]
  },
  {
   "cell_type": "markdown",
   "metadata": {},
   "source": [
    "#### 9.2 train, test dataset 분류\n",
    "- 조건 1 : 대여건수가 0인 데이터만 test_data\n",
    "- 조건 2 : 대여건수가 200 이하인 데이터만 test_data"
   ]
  },
  {
   "cell_type": "code",
   "execution_count": 421,
   "metadata": {},
   "outputs": [
    {
     "name": "stdout",
     "output_type": "stream",
     "text": [
      "08    1117\n",
      "03     506\n",
      "04     478\n",
      "01     466\n",
      "06     227\n",
      "09      45\n",
      "10       7\n",
      "07       1\n",
      "Name: Month, dtype: int64\n",
      "08    1262\n",
      "01    1103\n",
      "03     787\n",
      "04     744\n",
      "02     535\n",
      "06     337\n",
      "05     244\n",
      "12     180\n",
      "09     177\n",
      "07     159\n",
      "11     107\n",
      "10      87\n",
      "Name: Month, dtype: int64\n"
     ]
    }
   ],
   "source": [
    "print(df_fin[df_fin[\"Rent Bike Count\"] == 0][\"Month\"].value_counts())\n",
    "print(df_fin[df_fin[\"Rent Bike Count\"] <= 200][\"Month\"].value_counts())"
   ]
  },
  {
   "cell_type": "code",
   "execution_count": 422,
   "metadata": {},
   "outputs": [
    {
     "name": "stdout",
     "output_type": "stream",
     "text": [
      "2847\n",
      "5722\n"
     ]
    }
   ],
   "source": [
    "print(len(df_fin[df_fin[\"Rent Bike Count\"] == 0][\"Month\"]))\n",
    "print(len(df_fin[df_fin[\"Rent Bike Count\"] <= 200][\"Month\"]))"
   ]
  },
  {
   "cell_type": "markdown",
   "metadata": {},
   "source": [
    "##### 9.2.1 대여건수가 0인 조건을 통해 train, test dataset 분류"
   ]
  },
  {
   "cell_type": "code",
   "execution_count": 423,
   "metadata": {},
   "outputs": [],
   "source": [
    "test_data = df_fin[df_fin[\"Rent Bike Count\"] == 0]\n",
    "train_data = df_fin[df_fin[\"Rent Bike Count\"] != 0]\n",
    "\n",
    "test_data.to_csv(\"../data/test_data/test_data(0).csv\", index=False)\n",
    "train_data.to_csv(\"../data/train_data/train_data(0).csv\", index=False)"
   ]
  },
  {
   "cell_type": "markdown",
   "metadata": {},
   "source": [
    "##### 9.2.2 대여건수가 200 이하인 조건을 통해 train, test dataset 분류"
   ]
  },
  {
   "cell_type": "code",
   "execution_count": 424,
   "metadata": {},
   "outputs": [],
   "source": [
    "test_data = df_fin[df_fin[\"Rent Bike Count\"] <=200]\n",
    "train_data = df_fin[df_fin[\"Rent Bike Count\"] > 200]\n",
    "\n",
    "test_data.to_csv(\"../data/test_data/test_data(200).csv\", index=False)\n",
    "train_data.to_csv(\"../data/train_data/train_data(200).csv\", index=False)"
   ]
  }
 ],
 "metadata": {
  "kernelspec": {
   "display_name": "Python 3",
   "language": "python",
   "name": "python3"
  },
  "language_info": {
   "codemirror_mode": {
    "name": "ipython",
    "version": 3
   },
   "file_extension": ".py",
   "mimetype": "text/x-python",
   "name": "python",
   "nbconvert_exporter": "python",
   "pygments_lexer": "ipython3",
   "version": "3.9.6"
  }
 },
 "nbformat": 4,
 "nbformat_minor": 2
}
