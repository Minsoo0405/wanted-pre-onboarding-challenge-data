{
 "cells": [
  {
   "cell_type": "markdown",
   "metadata": {},
   "source": [
    "# 📌 기상청 api 데이터 전처리 "
   ]
  },
  {
   "cell_type": "code",
   "execution_count": 72,
   "metadata": {},
   "outputs": [],
   "source": [
    "import numpy as np\n",
    "import pandas as pd"
   ]
  },
  {
   "cell_type": "markdown",
   "metadata": {},
   "source": [
    "### 1.데이터 불러오기"
   ]
  },
  {
   "cell_type": "code",
   "execution_count": 117,
   "metadata": {},
   "outputs": [],
   "source": [
    "asos_df = pd.read_csv(\"../weather_data/weather_data.csv\", index_col=0)"
   ]
  },
  {
   "cell_type": "markdown",
   "metadata": {},
   "source": [
    "### 2.ASOS 데이터프레임 전처리"
   ]
  },
  {
   "cell_type": "code",
   "execution_count": 118,
   "metadata": {},
   "outputs": [
    {
     "data": {
      "text/html": [
       "<div>\n",
       "<style scoped>\n",
       "    .dataframe tbody tr th:only-of-type {\n",
       "        vertical-align: middle;\n",
       "    }\n",
       "\n",
       "    .dataframe tbody tr th {\n",
       "        vertical-align: top;\n",
       "    }\n",
       "\n",
       "    .dataframe thead th {\n",
       "        text-align: right;\n",
       "    }\n",
       "</style>\n",
       "<table border=\"1\" class=\"dataframe\">\n",
       "  <thead>\n",
       "    <tr style=\"text-align: right;\">\n",
       "      <th></th>\n",
       "      <th>YYMMDDHHMI</th>\n",
       "      <th>STN</th>\n",
       "      <th>WD</th>\n",
       "      <th>WS</th>\n",
       "      <th>GST</th>\n",
       "      <th>GST.1</th>\n",
       "      <th>GST.2</th>\n",
       "      <th>PA</th>\n",
       "      <th>PS</th>\n",
       "      <th>PT</th>\n",
       "      <th>...</th>\n",
       "      <th>TS</th>\n",
       "      <th>TE</th>\n",
       "      <th>TE.1</th>\n",
       "      <th>TE.2</th>\n",
       "      <th>TE.3</th>\n",
       "      <th>ST.1</th>\n",
       "      <th>WH</th>\n",
       "      <th>BF</th>\n",
       "      <th>IR</th>\n",
       "      <th>IX</th>\n",
       "    </tr>\n",
       "  </thead>\n",
       "  <tbody>\n",
       "    <tr>\n",
       "      <th>0</th>\n",
       "      <td>201801010000</td>\n",
       "      <td>108</td>\n",
       "      <td>11</td>\n",
       "      <td>0.5</td>\n",
       "      <td>-9</td>\n",
       "      <td>-9.0</td>\n",
       "      <td>-9</td>\n",
       "      <td>1015.4</td>\n",
       "      <td>1026.4</td>\n",
       "      <td>2</td>\n",
       "      <td>...</td>\n",
       "      <td>-2.2</td>\n",
       "      <td>0.0</td>\n",
       "      <td>0.3</td>\n",
       "      <td>1.0</td>\n",
       "      <td>1.5</td>\n",
       "      <td>-9</td>\n",
       "      <td>-9.0</td>\n",
       "      <td>-9</td>\n",
       "      <td>3.0</td>\n",
       "      <td>2.0</td>\n",
       "    </tr>\n",
       "    <tr>\n",
       "      <th>1</th>\n",
       "      <td>201801010100</td>\n",
       "      <td>108</td>\n",
       "      <td>36</td>\n",
       "      <td>0.7</td>\n",
       "      <td>-9</td>\n",
       "      <td>-9.0</td>\n",
       "      <td>-9</td>\n",
       "      <td>1015.1</td>\n",
       "      <td>1026.1</td>\n",
       "      <td>-9</td>\n",
       "      <td>...</td>\n",
       "      <td>-2.7</td>\n",
       "      <td>-0.1</td>\n",
       "      <td>0.3</td>\n",
       "      <td>0.9</td>\n",
       "      <td>1.5</td>\n",
       "      <td>-9</td>\n",
       "      <td>-9.0</td>\n",
       "      <td>-9</td>\n",
       "      <td>3.0</td>\n",
       "      <td>-9.0</td>\n",
       "    </tr>\n",
       "    <tr>\n",
       "      <th>2</th>\n",
       "      <td>201801010200</td>\n",
       "      <td>108</td>\n",
       "      <td>27</td>\n",
       "      <td>0.9</td>\n",
       "      <td>-9</td>\n",
       "      <td>-9.0</td>\n",
       "      <td>-9</td>\n",
       "      <td>1015.2</td>\n",
       "      <td>1026.3</td>\n",
       "      <td>-9</td>\n",
       "      <td>...</td>\n",
       "      <td>-3.0</td>\n",
       "      <td>-0.2</td>\n",
       "      <td>0.3</td>\n",
       "      <td>0.9</td>\n",
       "      <td>1.6</td>\n",
       "      <td>-9</td>\n",
       "      <td>-9.0</td>\n",
       "      <td>-9</td>\n",
       "      <td>3.0</td>\n",
       "      <td>-9.0</td>\n",
       "    </tr>\n",
       "    <tr>\n",
       "      <th>3</th>\n",
       "      <td>201801010300</td>\n",
       "      <td>108</td>\n",
       "      <td>29</td>\n",
       "      <td>1.0</td>\n",
       "      <td>-9</td>\n",
       "      <td>-9.0</td>\n",
       "      <td>-9</td>\n",
       "      <td>1015.5</td>\n",
       "      <td>1026.6</td>\n",
       "      <td>3</td>\n",
       "      <td>...</td>\n",
       "      <td>-3.5</td>\n",
       "      <td>-0.2</td>\n",
       "      <td>0.3</td>\n",
       "      <td>1.0</td>\n",
       "      <td>1.5</td>\n",
       "      <td>-9</td>\n",
       "      <td>-9.0</td>\n",
       "      <td>-9</td>\n",
       "      <td>3.0</td>\n",
       "      <td>2.0</td>\n",
       "    </tr>\n",
       "    <tr>\n",
       "      <th>4</th>\n",
       "      <td>201801010400</td>\n",
       "      <td>108</td>\n",
       "      <td>29</td>\n",
       "      <td>1.1</td>\n",
       "      <td>-9</td>\n",
       "      <td>-9.0</td>\n",
       "      <td>-9</td>\n",
       "      <td>1015.5</td>\n",
       "      <td>1026.6</td>\n",
       "      <td>-9</td>\n",
       "      <td>...</td>\n",
       "      <td>-3.8</td>\n",
       "      <td>-0.3</td>\n",
       "      <td>0.3</td>\n",
       "      <td>0.9</td>\n",
       "      <td>1.6</td>\n",
       "      <td>-9</td>\n",
       "      <td>-9.0</td>\n",
       "      <td>-9</td>\n",
       "      <td>3.0</td>\n",
       "      <td>2.0</td>\n",
       "    </tr>\n",
       "  </tbody>\n",
       "</table>\n",
       "<p>5 rows × 46 columns</p>\n",
       "</div>"
      ],
      "text/plain": [
       "     YYMMDDHHMI  STN  WD   WS  GST  GST.1  GST.2      PA      PS  PT  ...  \\\n",
       "0  201801010000  108  11  0.5   -9   -9.0     -9  1015.4  1026.4   2  ...   \n",
       "1  201801010100  108  36  0.7   -9   -9.0     -9  1015.1  1026.1  -9  ...   \n",
       "2  201801010200  108  27  0.9   -9   -9.0     -9  1015.2  1026.3  -9  ...   \n",
       "3  201801010300  108  29  1.0   -9   -9.0     -9  1015.5  1026.6   3  ...   \n",
       "4  201801010400  108  29  1.1   -9   -9.0     -9  1015.5  1026.6  -9  ...   \n",
       "\n",
       "    TS   TE  TE.1  TE.2  TE.3  ST.1   WH  BF   IR   IX  \n",
       "0 -2.2  0.0   0.3   1.0   1.5    -9 -9.0  -9  3.0  2.0  \n",
       "1 -2.7 -0.1   0.3   0.9   1.5    -9 -9.0  -9  3.0 -9.0  \n",
       "2 -3.0 -0.2   0.3   0.9   1.6    -9 -9.0  -9  3.0 -9.0  \n",
       "3 -3.5 -0.2   0.3   1.0   1.5    -9 -9.0  -9  3.0  2.0  \n",
       "4 -3.8 -0.3   0.3   0.9   1.6    -9 -9.0  -9  3.0  2.0  \n",
       "\n",
       "[5 rows x 46 columns]"
      ]
     },
     "execution_count": 118,
     "metadata": {},
     "output_type": "execute_result"
    }
   ],
   "source": [
    "asos_df.head()"
   ]
  },
  {
   "cell_type": "markdown",
   "metadata": {},
   "source": [
    "#### 2.1 \"YYMMDDHHMI\" 컬럼을 \"Date\", \"Hour\" 컬럼으로 나누기"
   ]
  },
  {
   "cell_type": "code",
   "execution_count": 119,
   "metadata": {},
   "outputs": [],
   "source": [
    "# \"YYMMDDHHMI\"컬럼 데이터타입 변환\n",
    "asos_df[\"YYMMDDHHMI\"] = pd.to_datetime(asos_df[\"YYMMDDHHMI\"], format=\"%Y%m%d%H%M\")\n",
    "\n",
    "# \"Date\", \"Hour\" 컬럼 생성\n",
    "asos_df[\"Date\"] = asos_df[\"YYMMDDHHMI\"].dt.strftime(\"%Y-%m-%d\")\n",
    "asos_df[\"Hour\"] = asos_df[\"YYMMDDHHMI\"].dt.strftime(\"%H\")"
   ]
  },
  {
   "cell_type": "markdown",
   "metadata": {},
   "source": [
    "#### 2.2 필요없는 컬럼 삭제"
   ]
  },
  {
   "cell_type": "code",
   "execution_count": 120,
   "metadata": {},
   "outputs": [],
   "source": [
    "asos_df = asos_df.drop(['STN', 'GST', 'GST.1', 'GST.2',\n",
    "                        'PS','PT', 'PR','PV','RN.3',\n",
    "                        'WC', 'WP', 'WW', 'CA', 'CA.1',\n",
    "                        'CH', 'CT', 'CT.1', 'CT.2', 'CT.3',\n",
    "                        'VS', 'SS', 'SI', 'ST', 'TS',\n",
    "                        'TE', 'TE.1', 'TE.2', 'TE.3', 'ST.1',\n",
    "                        'WH', 'BF', 'IR', 'IX',], axis=1)"
   ]
  },
  {
   "cell_type": "markdown",
   "metadata": {},
   "source": [
    "#### 2.3 컬럼 순서 변경"
   ]
  },
  {
   "cell_type": "code",
   "execution_count": 121,
   "metadata": {},
   "outputs": [],
   "source": [
    "asos_df = asos_df[[\"YYMMDDHHMI\", 'Date', 'Hour', 'WD', 'WS',\n",
    "                   'PA', 'TA', 'TD', 'HM', 'RN',\n",
    "                   'RN.1', 'RN.2', 'SD', 'SD.1','SD.2']]"
   ]
  },
  {
   "cell_type": "markdown",
   "metadata": {},
   "source": [
    "#### 2.4 컬럼명 수정"
   ]
  },
  {
   "cell_type": "code",
   "execution_count": 122,
   "metadata": {},
   "outputs": [],
   "source": [
    "asos_df = asos_df.rename(columns={\"YYMMDDHHMI\":\"Datetime\",\n",
    "                                  \"WD\":\"Wind Direction\",\n",
    "                                  \"WS\":\"Wind Speed(m/s)\",\n",
    "                                  \"PA\":\"Atmospheric Pressure(hPa)\",\n",
    "                                  \"TA\":\"Temperature(°C)\",\n",
    "                                  \"TD\":\"Dew point Temperature(°C)\",\n",
    "                                  \"HM\":\"Relative Humidity(%)\",\n",
    "                                  \"RN\":\"Rainfall(mm)\",\n",
    "                                  \"RN.1\":\"Daily Rainfall(mm)\",\n",
    "                                  \"RN.2\":\"Daily Rainfall2(mm)\",\n",
    "                                  \"SD\":\"3hr Snowfall(mm)\",\n",
    "                                  \"SD.1\":\"Daily Snowfall(mm)\",\n",
    "                                  \"SD.2\":\"Daily Sonwfall2(mm)\"})"
   ]
  },
  {
   "cell_type": "markdown",
   "metadata": {},
   "source": [
    "#### 2.5 \"Date_time\", \"Date\", \"Hour\" 컬럼에 없는 날짜 추가\n",
    "- 2019-12-12 21, 22\n",
    "- 2023-12-11 00 ~ 07\n",
    "- 2023-12-10 04 ~ 07, 19 ~ 23"
   ]
  },
  {
   "cell_type": "code",
   "execution_count": 123,
   "metadata": {},
   "outputs": [],
   "source": [
    "# 데이터 생성\n",
    "columns = asos_df.columns\n",
    "dates = [\"2019-12-12\",\"2023-12-11\",\"2023-12-10\"]\n",
    "hours = [[str(i) for i in range(21,23)],\n",
    "         [str(i).zfill(2) for i in range(0,8)],\n",
    "         [str(i).zfill(2) for i in range(4,8)] + [str(i) for i in range(19, 24)]]\n",
    "default_values = [-9] * (len(columns) - 3)"
   ]
  },
  {
   "cell_type": "code",
   "execution_count": 124,
   "metadata": {},
   "outputs": [],
   "source": [
    "data = []\n",
    "for date, hour_list in zip(dates, hours):\n",
    "    for hour in hour_list:\n",
    "        date_time = f\"{date} {hour}:00:00\"\n",
    "        data.append([date_time, date, hour] + default_values)"
   ]
  },
  {
   "cell_type": "code",
   "execution_count": 125,
   "metadata": {},
   "outputs": [],
   "source": [
    "df = pd.DataFrame(data, columns=columns)"
   ]
  },
  {
   "cell_type": "code",
   "execution_count": 126,
   "metadata": {},
   "outputs": [],
   "source": [
    "# asos_df와 합치기\n",
    "asos_df_fin = pd.concat([asos_df, df], axis=0)"
   ]
  },
  {
   "cell_type": "code",
   "execution_count": 127,
   "metadata": {},
   "outputs": [],
   "source": [
    "# asos_df_fin 데이터프레임을 생성한 후 \"Datetime\" 열을 타임스탬프로 변환\n",
    "asos_df_fin['Datetime'] = pd.to_datetime(asos_df_fin['Datetime'])\n",
    "\n",
    "# \"Datetime\" 기준 오름차순 정렬\n",
    "asos_df_fin.sort_values(by=[\"Date\",\"Hour\"], ascending=True, ignore_index=True, inplace=True)"
   ]
  },
  {
   "cell_type": "markdown",
   "metadata": {},
   "source": [
    "#### 2.6 데이터프레임을 csv 파일로 저장하기"
   ]
  },
  {
   "cell_type": "code",
   "execution_count": 128,
   "metadata": {},
   "outputs": [],
   "source": [
    "asos_df_fin.to_csv(\"../weather_data/asos_data_fin.csv\")"
   ]
  },
  {
   "cell_type": "markdown",
   "metadata": {},
   "source": [
    "### 3.AWS(강수) 데이터프레임 전처리"
   ]
  },
  {
   "cell_type": "code",
   "execution_count": 129,
   "metadata": {},
   "outputs": [
    {
     "data": {
      "text/html": [
       "<div>\n",
       "<style scoped>\n",
       "    .dataframe tbody tr th:only-of-type {\n",
       "        vertical-align: middle;\n",
       "    }\n",
       "\n",
       "    .dataframe tbody tr th {\n",
       "        vertical-align: top;\n",
       "    }\n",
       "\n",
       "    .dataframe thead th {\n",
       "        text-align: right;\n",
       "    }\n",
       "</style>\n",
       "<table border=\"1\" class=\"dataframe\">\n",
       "  <thead>\n",
       "    <tr style=\"text-align: right;\">\n",
       "      <th></th>\n",
       "      <th>Date</th>\n",
       "      <th>Hour</th>\n",
       "      <th>108_Daily Rainfall(mm)</th>\n",
       "      <th>108_Minute of Daily Rainfall</th>\n",
       "      <th>108_Hourly Rainfall(mm)</th>\n",
       "      <th>108_Minute of Hourly Rainfall</th>\n",
       "      <th>108_Accumulated Rainfall(mm) for max 60min</th>\n",
       "      <th>108_Minute of Accumulated Rainfall</th>\n",
       "      <th>112_Daily Rainfall(mm)</th>\n",
       "      <th>112_Minute of Daily Rainfall</th>\n",
       "      <th>...</th>\n",
       "      <th>119_Hourly Rainfall(mm)</th>\n",
       "      <th>119_Minute of Hourly Rainfall</th>\n",
       "      <th>119_Accumulated Rainfall(mm) for max 60min</th>\n",
       "      <th>119_Minute of Accumulated Rainfall</th>\n",
       "      <th>Average Daily Rainfall(mm)</th>\n",
       "      <th>Average Minute of Daily Rainfall</th>\n",
       "      <th>Average Hourly Rainfall(mm)</th>\n",
       "      <th>Average Minute of Hourly Rainfall</th>\n",
       "      <th>Average Accumulated Rainfall(mm) for max 60min</th>\n",
       "      <th>Average Minute of Accumulated Rainfall</th>\n",
       "    </tr>\n",
       "  </thead>\n",
       "  <tbody>\n",
       "    <tr>\n",
       "      <th>0</th>\n",
       "      <td>2018-01-01</td>\n",
       "      <td>0</td>\n",
       "      <td>-99.0</td>\n",
       "      <td>-99</td>\n",
       "      <td>-99.0</td>\n",
       "      <td>-59</td>\n",
       "      <td>-99.0</td>\n",
       "      <td>-99</td>\n",
       "      <td>0.1</td>\n",
       "      <td>0</td>\n",
       "      <td>...</td>\n",
       "      <td>0.0</td>\n",
       "      <td>-60</td>\n",
       "      <td>0.0</td>\n",
       "      <td>-59</td>\n",
       "      <td>-32.8</td>\n",
       "      <td>-33.0</td>\n",
       "      <td>-33.0</td>\n",
       "      <td>-59.666667</td>\n",
       "      <td>-33.0</td>\n",
       "      <td>-72.333333</td>\n",
       "    </tr>\n",
       "    <tr>\n",
       "      <th>1</th>\n",
       "      <td>2018-01-01</td>\n",
       "      <td>1</td>\n",
       "      <td>0.0</td>\n",
       "      <td>0</td>\n",
       "      <td>0.0</td>\n",
       "      <td>-60</td>\n",
       "      <td>0.0</td>\n",
       "      <td>-2</td>\n",
       "      <td>0.0</td>\n",
       "      <td>0</td>\n",
       "      <td>...</td>\n",
       "      <td>0.0</td>\n",
       "      <td>-60</td>\n",
       "      <td>0.0</td>\n",
       "      <td>-59</td>\n",
       "      <td>0.0</td>\n",
       "      <td>0.0</td>\n",
       "      <td>0.0</td>\n",
       "      <td>-60.000000</td>\n",
       "      <td>0.0</td>\n",
       "      <td>-40.000000</td>\n",
       "    </tr>\n",
       "    <tr>\n",
       "      <th>2</th>\n",
       "      <td>2018-01-01</td>\n",
       "      <td>2</td>\n",
       "      <td>0.0</td>\n",
       "      <td>0</td>\n",
       "      <td>0.0</td>\n",
       "      <td>-60</td>\n",
       "      <td>0.0</td>\n",
       "      <td>-59</td>\n",
       "      <td>0.0</td>\n",
       "      <td>0</td>\n",
       "      <td>...</td>\n",
       "      <td>0.0</td>\n",
       "      <td>-60</td>\n",
       "      <td>0.0</td>\n",
       "      <td>-59</td>\n",
       "      <td>0.0</td>\n",
       "      <td>0.0</td>\n",
       "      <td>0.0</td>\n",
       "      <td>-60.000000</td>\n",
       "      <td>0.0</td>\n",
       "      <td>-59.000000</td>\n",
       "    </tr>\n",
       "    <tr>\n",
       "      <th>3</th>\n",
       "      <td>2018-01-01</td>\n",
       "      <td>3</td>\n",
       "      <td>0.0</td>\n",
       "      <td>0</td>\n",
       "      <td>0.0</td>\n",
       "      <td>-60</td>\n",
       "      <td>0.0</td>\n",
       "      <td>-59</td>\n",
       "      <td>0.0</td>\n",
       "      <td>0</td>\n",
       "      <td>...</td>\n",
       "      <td>0.0</td>\n",
       "      <td>-60</td>\n",
       "      <td>0.0</td>\n",
       "      <td>-59</td>\n",
       "      <td>0.0</td>\n",
       "      <td>0.0</td>\n",
       "      <td>0.0</td>\n",
       "      <td>-60.000000</td>\n",
       "      <td>0.0</td>\n",
       "      <td>-59.000000</td>\n",
       "    </tr>\n",
       "    <tr>\n",
       "      <th>4</th>\n",
       "      <td>2018-01-01</td>\n",
       "      <td>4</td>\n",
       "      <td>0.0</td>\n",
       "      <td>0</td>\n",
       "      <td>0.0</td>\n",
       "      <td>-60</td>\n",
       "      <td>0.0</td>\n",
       "      <td>-59</td>\n",
       "      <td>0.0</td>\n",
       "      <td>0</td>\n",
       "      <td>...</td>\n",
       "      <td>0.0</td>\n",
       "      <td>-60</td>\n",
       "      <td>0.0</td>\n",
       "      <td>-59</td>\n",
       "      <td>0.0</td>\n",
       "      <td>0.0</td>\n",
       "      <td>0.0</td>\n",
       "      <td>-60.000000</td>\n",
       "      <td>0.0</td>\n",
       "      <td>-59.000000</td>\n",
       "    </tr>\n",
       "  </tbody>\n",
       "</table>\n",
       "<p>5 rows × 26 columns</p>\n",
       "</div>"
      ],
      "text/plain": [
       "         Date  Hour  108_Daily Rainfall(mm)  108_Minute of Daily Rainfall  \\\n",
       "0  2018-01-01     0                   -99.0                           -99   \n",
       "1  2018-01-01     1                     0.0                             0   \n",
       "2  2018-01-01     2                     0.0                             0   \n",
       "3  2018-01-01     3                     0.0                             0   \n",
       "4  2018-01-01     4                     0.0                             0   \n",
       "\n",
       "   108_Hourly Rainfall(mm)  108_Minute of Hourly Rainfall  \\\n",
       "0                    -99.0                            -59   \n",
       "1                      0.0                            -60   \n",
       "2                      0.0                            -60   \n",
       "3                      0.0                            -60   \n",
       "4                      0.0                            -60   \n",
       "\n",
       "   108_Accumulated Rainfall(mm) for max 60min  \\\n",
       "0                                       -99.0   \n",
       "1                                         0.0   \n",
       "2                                         0.0   \n",
       "3                                         0.0   \n",
       "4                                         0.0   \n",
       "\n",
       "   108_Minute of Accumulated Rainfall  112_Daily Rainfall(mm)  \\\n",
       "0                                 -99                     0.1   \n",
       "1                                  -2                     0.0   \n",
       "2                                 -59                     0.0   \n",
       "3                                 -59                     0.0   \n",
       "4                                 -59                     0.0   \n",
       "\n",
       "   112_Minute of Daily Rainfall  ...  119_Hourly Rainfall(mm)  \\\n",
       "0                             0  ...                      0.0   \n",
       "1                             0  ...                      0.0   \n",
       "2                             0  ...                      0.0   \n",
       "3                             0  ...                      0.0   \n",
       "4                             0  ...                      0.0   \n",
       "\n",
       "   119_Minute of Hourly Rainfall  119_Accumulated Rainfall(mm) for max 60min  \\\n",
       "0                            -60                                         0.0   \n",
       "1                            -60                                         0.0   \n",
       "2                            -60                                         0.0   \n",
       "3                            -60                                         0.0   \n",
       "4                            -60                                         0.0   \n",
       "\n",
       "   119_Minute of Accumulated Rainfall  Average Daily Rainfall(mm)  \\\n",
       "0                                 -59                       -32.8   \n",
       "1                                 -59                         0.0   \n",
       "2                                 -59                         0.0   \n",
       "3                                 -59                         0.0   \n",
       "4                                 -59                         0.0   \n",
       "\n",
       "   Average Minute of Daily Rainfall  Average Hourly Rainfall(mm)  \\\n",
       "0                             -33.0                        -33.0   \n",
       "1                               0.0                          0.0   \n",
       "2                               0.0                          0.0   \n",
       "3                               0.0                          0.0   \n",
       "4                               0.0                          0.0   \n",
       "\n",
       "   Average Minute of Hourly Rainfall  \\\n",
       "0                         -59.666667   \n",
       "1                         -60.000000   \n",
       "2                         -60.000000   \n",
       "3                         -60.000000   \n",
       "4                         -60.000000   \n",
       "\n",
       "   Average Accumulated Rainfall(mm) for max 60min  \\\n",
       "0                                           -33.0   \n",
       "1                                             0.0   \n",
       "2                                             0.0   \n",
       "3                                             0.0   \n",
       "4                                             0.0   \n",
       "\n",
       "   Average Minute of Accumulated Rainfall  \n",
       "0                              -72.333333  \n",
       "1                              -40.000000  \n",
       "2                              -59.000000  \n",
       "3                              -59.000000  \n",
       "4                              -59.000000  \n",
       "\n",
       "[5 rows x 26 columns]"
      ]
     },
     "execution_count": 129,
     "metadata": {},
     "output_type": "execute_result"
    }
   ],
   "source": [
    "rf_df = pd.read_csv(\"../weather_data/rainfall_data.csv\", index_col=0)\n",
    "rf_df.head()"
   ]
  },
  {
   "cell_type": "markdown",
   "metadata": {},
   "source": [
    "#### 3.1 필요없는 컬럼 삭제"
   ]
  },
  {
   "cell_type": "code",
   "execution_count": null,
   "metadata": {},
   "outputs": [],
   "source": [
    "rf_df.columns[3:20:2] + rf_df.columns[21:]"
   ]
  },
  {
   "cell_type": "code",
   "execution_count": 39,
   "metadata": {},
   "outputs": [],
   "source": [
    "# 필요없는 컬럼 찾기\n",
    "drop_cols = rf_df.columns[3::2].to_list() + rf_df.columns[20::2].to_list()\n",
    "\n",
    "# 필요없는 컬럼 삭제\n",
    "rf_df.drop(columns=drop_cols, axis=1, inplace=True)\n"
   ]
  },
  {
   "cell_type": "code",
   "execution_count": 42,
   "metadata": {},
   "outputs": [
    {
     "data": {
      "text/html": [
       "<div>\n",
       "<style scoped>\n",
       "    .dataframe tbody tr th:only-of-type {\n",
       "        vertical-align: middle;\n",
       "    }\n",
       "\n",
       "    .dataframe tbody tr th {\n",
       "        vertical-align: top;\n",
       "    }\n",
       "\n",
       "    .dataframe thead th {\n",
       "        text-align: right;\n",
       "    }\n",
       "</style>\n",
       "<table border=\"1\" class=\"dataframe\">\n",
       "  <thead>\n",
       "    <tr style=\"text-align: right;\">\n",
       "      <th></th>\n",
       "      <th>Date</th>\n",
       "      <th>Hour</th>\n",
       "      <th>108_Daily Rainfall(mm)</th>\n",
       "      <th>108_Hourly Rainfall(mm)</th>\n",
       "      <th>108_Accumulated Rainfall(mm) for max 60min</th>\n",
       "      <th>112_Daily Rainfall(mm)</th>\n",
       "      <th>112_Hourly Rainfall(mm)</th>\n",
       "      <th>112_Accumulated Rainfall(mm) for max 60min</th>\n",
       "      <th>119_Daily Rainfall(mm)</th>\n",
       "      <th>119_Hourly Rainfall(mm)</th>\n",
       "      <th>119_Accumulated Rainfall(mm) for max 60min</th>\n",
       "    </tr>\n",
       "  </thead>\n",
       "  <tbody>\n",
       "    <tr>\n",
       "      <th>0</th>\n",
       "      <td>2018-01-01</td>\n",
       "      <td>0</td>\n",
       "      <td>-99.0</td>\n",
       "      <td>-99.0</td>\n",
       "      <td>-99.0</td>\n",
       "      <td>0.1</td>\n",
       "      <td>0.0</td>\n",
       "      <td>0.0</td>\n",
       "      <td>0.5</td>\n",
       "      <td>0.0</td>\n",
       "      <td>0.0</td>\n",
       "    </tr>\n",
       "    <tr>\n",
       "      <th>1</th>\n",
       "      <td>2018-01-01</td>\n",
       "      <td>1</td>\n",
       "      <td>0.0</td>\n",
       "      <td>0.0</td>\n",
       "      <td>0.0</td>\n",
       "      <td>0.0</td>\n",
       "      <td>0.0</td>\n",
       "      <td>0.0</td>\n",
       "      <td>0.0</td>\n",
       "      <td>0.0</td>\n",
       "      <td>0.0</td>\n",
       "    </tr>\n",
       "    <tr>\n",
       "      <th>2</th>\n",
       "      <td>2018-01-01</td>\n",
       "      <td>2</td>\n",
       "      <td>0.0</td>\n",
       "      <td>0.0</td>\n",
       "      <td>0.0</td>\n",
       "      <td>0.0</td>\n",
       "      <td>0.0</td>\n",
       "      <td>0.0</td>\n",
       "      <td>0.0</td>\n",
       "      <td>0.0</td>\n",
       "      <td>0.0</td>\n",
       "    </tr>\n",
       "    <tr>\n",
       "      <th>3</th>\n",
       "      <td>2018-01-01</td>\n",
       "      <td>3</td>\n",
       "      <td>0.0</td>\n",
       "      <td>0.0</td>\n",
       "      <td>0.0</td>\n",
       "      <td>0.0</td>\n",
       "      <td>0.0</td>\n",
       "      <td>0.0</td>\n",
       "      <td>0.0</td>\n",
       "      <td>0.0</td>\n",
       "      <td>0.0</td>\n",
       "    </tr>\n",
       "    <tr>\n",
       "      <th>4</th>\n",
       "      <td>2018-01-01</td>\n",
       "      <td>4</td>\n",
       "      <td>0.0</td>\n",
       "      <td>0.0</td>\n",
       "      <td>0.0</td>\n",
       "      <td>0.0</td>\n",
       "      <td>0.0</td>\n",
       "      <td>0.0</td>\n",
       "      <td>0.0</td>\n",
       "      <td>0.0</td>\n",
       "      <td>0.0</td>\n",
       "    </tr>\n",
       "  </tbody>\n",
       "</table>\n",
       "</div>"
      ],
      "text/plain": [
       "         Date  Hour  108_Daily Rainfall(mm)  108_Hourly Rainfall(mm)  \\\n",
       "0  2018-01-01     0                   -99.0                    -99.0   \n",
       "1  2018-01-01     1                     0.0                      0.0   \n",
       "2  2018-01-01     2                     0.0                      0.0   \n",
       "3  2018-01-01     3                     0.0                      0.0   \n",
       "4  2018-01-01     4                     0.0                      0.0   \n",
       "\n",
       "   108_Accumulated Rainfall(mm) for max 60min  112_Daily Rainfall(mm)  \\\n",
       "0                                       -99.0                     0.1   \n",
       "1                                         0.0                     0.0   \n",
       "2                                         0.0                     0.0   \n",
       "3                                         0.0                     0.0   \n",
       "4                                         0.0                     0.0   \n",
       "\n",
       "   112_Hourly Rainfall(mm)  112_Accumulated Rainfall(mm) for max 60min  \\\n",
       "0                      0.0                                         0.0   \n",
       "1                      0.0                                         0.0   \n",
       "2                      0.0                                         0.0   \n",
       "3                      0.0                                         0.0   \n",
       "4                      0.0                                         0.0   \n",
       "\n",
       "   119_Daily Rainfall(mm)  119_Hourly Rainfall(mm)  \\\n",
       "0                     0.5                      0.0   \n",
       "1                     0.0                      0.0   \n",
       "2                     0.0                      0.0   \n",
       "3                     0.0                      0.0   \n",
       "4                     0.0                      0.0   \n",
       "\n",
       "   119_Accumulated Rainfall(mm) for max 60min  \n",
       "0                                         0.0  \n",
       "1                                         0.0  \n",
       "2                                         0.0  \n",
       "3                                         0.0  \n",
       "4                                         0.0  "
      ]
     },
     "execution_count": 42,
     "metadata": {},
     "output_type": "execute_result"
    }
   ],
   "source": [
    "rf_df.head()"
   ]
  },
  {
   "cell_type": "code",
   "execution_count": 43,
   "metadata": {},
   "outputs": [],
   "source": [
    "rf_df.to_csv(\"../weather_data/rainfall_data_fin.csv\")"
   ]
  },
  {
   "cell_type": "markdown",
   "metadata": {},
   "source": [
    "### 4.AWS(기온) 데이터프레임 전처리"
   ]
  },
  {
   "cell_type": "code",
   "execution_count": 2,
   "metadata": {},
   "outputs": [],
   "source": [
    "import pandas as pd"
   ]
  },
  {
   "cell_type": "markdown",
   "metadata": {},
   "source": [
    "#### 4.1 데이터 불러오기"
   ]
  },
  {
   "cell_type": "code",
   "execution_count": 136,
   "metadata": {},
   "outputs": [],
   "source": [
    "temp_108_df = pd.read_csv(\"../weather_data/temperature_data(108).csv\", index_col=0)\n",
    "temp_112_df = pd.read_csv(\"../weather_data/temperature_data(112).csv\", index_col=0)\n",
    "temp_119_df = pd.read_csv(\"../weather_data/temperature_data(119).csv\", index_col=0)"
   ]
  },
  {
   "cell_type": "code",
   "execution_count": 94,
   "metadata": {},
   "outputs": [],
   "source": [
    "# 중복 행 제거\n",
    "temp_108_df.drop_duplicates(inplace=True, ignore_index=True)\n",
    "temp_112_df.drop_duplicates(inplace=True, ignore_index=True)\n",
    "temp_119_df.drop_duplicates(inplace=True, ignore_index=True)"
   ]
  },
  {
   "cell_type": "markdown",
   "metadata": {},
   "source": [
    "#### 4.2 컬럼 순서 변경하기"
   ]
  },
  {
   "cell_type": "code",
   "execution_count": 138,
   "metadata": {},
   "outputs": [],
   "source": [
    "temp_108_df.columns = ['Datetime', 'ID', 'C', 'mi', 'C.1', 'mi.1', 'C.2', 'mi.2', 'C.3', 'mi.3', '#']\n",
    "temp_112_df.columns = ['KST', 'ID', 'C', 'mi', 'C.1', 'mi.1', 'C.2', 'mi.2', 'C.3', 'mi.3', '#']\n",
    "temp_119_df.columns = ['KST', 'ID', 'C', 'mi', 'C.1', 'mi.1', 'C.2', 'mi.2', 'C.3', 'mi.3', '#']"
   ]
  },
  {
   "cell_type": "code",
   "execution_count": 143,
   "metadata": {},
   "outputs": [],
   "source": [
    "# \"Datetime\"컬럼 데이터타입 변환\n",
    "temp_108_df[\"Datetime\"] = pd.to_datetime(temp_108_df[\"Datetime\"], format=\"%Y%m%d%H%M\")\n",
    "\n",
    "# \"Date\", \"Hour\" 컬럼 생성\n",
    "temp_108_df[\"Date\"] = temp_108_df[\"Datetime\"].dt.strftime(\"%Y-%m-%d\")\n",
    "temp_108_df[\"Hour\"] = temp_108_df[\"Datetime\"].dt.strftime(\"%H\")"
   ]
  },
  {
   "cell_type": "markdown",
   "metadata": {},
   "source": [
    "#### 4.3 필요없는 컬럼 삭제"
   ]
  },
  {
   "cell_type": "code",
   "execution_count": 144,
   "metadata": {},
   "outputs": [],
   "source": [
    "temp_108_df.drop(['ID','mi','mi.1','mi.2','mi.3', '#'], axis=1, inplace=True)\n",
    "temp_112_df.drop([\"KST\",'ID','mi','mi.1','mi.2','mi.3', '#'], axis=1, inplace=True)\n",
    "temp_119_df.drop([\"KST\",'ID','mi','mi.1','mi.2','mi.3', '#'], axis=1, inplace=True)"
   ]
  },
  {
   "cell_type": "markdown",
   "metadata": {},
   "source": [
    "#### 4.4 컬럼명 변경하기"
   ]
  },
  {
   "cell_type": "code",
   "execution_count": 145,
   "metadata": {},
   "outputs": [],
   "source": [
    "temp_108_df.rename(columns={'C':\"108_Observed temperature(°C)\",\n",
    "                            'C.1':\"108_Average temperature per minute(°C)\",\n",
    "                            'C.2':\"108_Highest temperature per minute(°C)\",\n",
    "                            'C.3':\"108_Lowest temperature per minute(°C)\"},\n",
    "                    inplace=True)\n",
    "temp_112_df.rename(columns={'C':\"112_Observed temperature(°C)\",\n",
    "                            'C.1':\"112_Average temperature per minute(°C)\",\n",
    "                            'C.2':\"112_Highest temperature per minute(°C)\",\n",
    "                            'C.3':\"112_Lowest temperature per minute(°C)\"},\n",
    "                    inplace=True)\n",
    "temp_119_df.rename(columns={'C':\"119_Observed temperature(°C)\",\n",
    "                            'C.1':\"119_Average temperature per minute(°C)\",\n",
    "                            'C.2':\"119_Highest temperature per minute(°C)\",\n",
    "                            'C.3':\"119_Lowest temperature per minute(°C)\"},\n",
    "                    inplace=True)"
   ]
  },
  {
   "cell_type": "markdown",
   "metadata": {},
   "source": [
    "#### 4.5 108,112,119 데이터프레임 합치기"
   ]
  },
  {
   "cell_type": "code",
   "execution_count": 146,
   "metadata": {},
   "outputs": [],
   "source": [
    "temp_df = pd.concat([temp_108_df,temp_112_df,temp_119_df], axis=1)"
   ]
  },
  {
   "cell_type": "markdown",
   "metadata": {},
   "source": [
    "#### 4.6 \"Datetime\" 컬럼 오름차순 정렬후, 인덱스 재설정하기"
   ]
  },
  {
   "cell_type": "code",
   "execution_count": 148,
   "metadata": {},
   "outputs": [],
   "source": [
    "# \"Datetime\" 컬럼 오름차순 정렬\n",
    "temp_df.sort_values(by=\"Datetime\", ignore_index=True, inplace=True)\n",
    "# 인덱스 재설정\n",
    "temp_df.reset_index(drop=True, inplace=True)"
   ]
  },
  {
   "cell_type": "code",
   "execution_count": 151,
   "metadata": {},
   "outputs": [],
   "source": [
    "# \"Datetime\", \"Date\", \"Hour\" 순서로 변경\n",
    "temp_df = temp_df[['Datetime', 'Date', 'Hour',\n",
    "                           '108_Observed temperature(°C)',\n",
    "                            '108_Average temperature per minute(°C)',\n",
    "                            '108_Highest temperature per minute(°C)',\n",
    "                            '108_Lowest temperature per minute(°C)',\n",
    "                            '112_Observed temperature(°C)',\n",
    "                            '112_Average temperature per minute(°C)',\n",
    "                            '112_Highest temperature per minute(°C)',\n",
    "                            '112_Lowest temperature per minute(°C)', '119_Observed temperature(°C)',\n",
    "                            '119_Average temperature per minute(°C)',\n",
    "                            '119_Highest temperature per minute(°C)',\n",
    "                            '119_Lowest temperature per minute(°C)']]"
   ]
  },
  {
   "cell_type": "markdown",
   "metadata": {},
   "source": [
    "#### 4.7 2018년 부터 2023년까지 데이터만 남기기"
   ]
  },
  {
   "cell_type": "code",
   "execution_count": 152,
   "metadata": {},
   "outputs": [],
   "source": [
    "temp_df = temp_df[temp_df[\"Date\"] < \"2024-01-01\"]"
   ]
  },
  {
   "cell_type": "markdown",
   "metadata": {},
   "source": [
    "#### 4.8 데이터프레임을 csv 파일로 저장하기"
   ]
  },
  {
   "cell_type": "code",
   "execution_count": 156,
   "metadata": {},
   "outputs": [],
   "source": [
    "temp_df.to_csv(\"../weather_data/temperature_data_fin.csv\")"
   ]
  },
  {
   "cell_type": "markdown",
   "metadata": {},
   "source": [
    "### 5.AWS(바람) 데이터프레임 전처리"
   ]
  },
  {
   "cell_type": "markdown",
   "metadata": {},
   "source": [
    "#### 5.1 데이터 불러오기"
   ]
  },
  {
   "cell_type": "code",
   "execution_count": 46,
   "metadata": {},
   "outputs": [],
   "source": [
    "wind_108_df = pd.read_csv(\"../weather_data/wind_data(108).csv\", index_col=0,low_memory=False)\n",
    "wind_112_df = pd.read_csv(\"../weather_data/wind_data(112).csv\", index_col=0,low_memory=False)\n",
    "wind_119_df = pd.read_csv(\"../weather_data/wind_data(119).csv\", index_col=0,low_memory=False)"
   ]
  },
  {
   "cell_type": "markdown",
   "metadata": {},
   "source": [
    "#### 5.2 컬럼 순서 변경하기"
   ]
  },
  {
   "cell_type": "code",
   "execution_count": 47,
   "metadata": {},
   "outputs": [],
   "source": [
    "wind_108_df.columns = ['KST', 'ID', 'deg', 'm/s', 'mi', \n",
    "                       'deg.1', 'm/s.1', 'mi.1', 'mi.2', 'm/s.2',\n",
    "                       'deg.2', 'm/s.3', 'mi.3', 'mi.4', 'deg.3',\n",
    "                       'm/s.4', 'mi.5', 'mi.6', '#']\n",
    "wind_112_df.columns = ['KST', 'ID', 'deg', 'm/s', 'mi', \n",
    "                       'deg.1', 'm/s.1', 'mi.1', 'mi.2', 'm/s.2',\n",
    "                       'deg.2', 'm/s.3', 'mi.3', 'mi.4', 'deg.3',\n",
    "                       'm/s.4', 'mi.5', 'mi.6', '#']\n",
    "wind_119_df.columns = ['KST', 'ID', 'deg', 'm/s', 'mi', \n",
    "                       'deg.1', 'm/s.1', 'mi.1', 'mi.2', 'm/s.2',\n",
    "                       'deg.2', 'm/s.3', 'mi.3', 'mi.4', 'deg.3',\n",
    "                       'm/s.4', 'mi.5', 'mi.6', '#']"
   ]
  },
  {
   "cell_type": "markdown",
   "metadata": {},
   "source": [
    "#### 5.3 필요없는 컬럼 삭제"
   ]
  },
  {
   "cell_type": "code",
   "execution_count": 48,
   "metadata": {},
   "outputs": [],
   "source": [
    "wind_108_df.drop(['ID',  'mi', 'deg.1', 'm/s.1',\n",
    "                  'mi.1', 'mi.2', 'mi.3', 'mi.4', 'deg.3',\n",
    "                  'm/s.4', 'mi.5', 'mi.6', '#'], axis=1, inplace=True)\n",
    "wind_112_df.drop(['KST', 'ID',  'mi', 'deg.1', 'm/s.1',\n",
    "                  'mi.1', 'mi.2', 'mi.3', 'mi.4', 'deg.3',\n",
    "                  'm/s.4', 'mi.5', 'mi.6', '#'], axis=1, inplace=True)\n",
    "wind_119_df.drop(['KST', 'ID',  'mi', 'deg.1', 'm/s.1',\n",
    "                  'mi.1', 'mi.2', 'mi.3', 'mi.4', 'deg.3',\n",
    "                  'm/s.4', 'mi.5', 'mi.6', '#'], axis=1, inplace=True)"
   ]
  },
  {
   "cell_type": "markdown",
   "metadata": {},
   "source": [
    "#### 5.4 컬럼명 변경하기"
   ]
  },
  {
   "cell_type": "code",
   "execution_count": 49,
   "metadata": {},
   "outputs": [],
   "source": [
    "wind_108_df.rename(columns={'KST':\"Datetime\",\n",
    "                            'deg':\"108_Observed wind direction(deg)\",\n",
    "                            'm/s':\"108_Observed wind speed(m/s)\",\n",
    "                            'm/s.2':\"108_Average wind speed per minute(m/s)\",\n",
    "                            'deg.2':\"108_Maximum wind direction per minute(deg)\",\n",
    "                            'm/s.3':\"108_Maximum wind speed per minute(m/s)\"},\n",
    "                    inplace=True)\n",
    "wind_112_df.rename(columns={'deg':\"112_Observed wind direction(deg)\",\n",
    "                            'm/s':\"112_Observed wind speed(m/s)\",\n",
    "                            'm/s.2':\"112_Average wind speed per minute(m/s)\",\n",
    "                            'deg.2':\"112_Maximum wind direction per minute(deg)\",\n",
    "                            'm/s.3':\"112_Maximum wind speed per minute(m/s)\"},\n",
    "                    inplace=True)\n",
    "wind_119_df.rename(columns={'deg':\"119_Observed wind direction(deg)\",\n",
    "                            'm/s':\"119_Observed wind speed(m/s)\",\n",
    "                            'm/s.2':\"119_Average wind speed per minute(m/s)\",\n",
    "                            'deg.2':\"119_Maximum wind direction per minute(deg)\",\n",
    "                            'm/s.3':\"119_Maximum wind speed per minute(m/s)\"},\n",
    "                    inplace=True)"
   ]
  },
  {
   "cell_type": "markdown",
   "metadata": {},
   "source": [
    "#### 5.5 108,112,119 데이터프레임 합치기"
   ]
  },
  {
   "cell_type": "code",
   "execution_count": 50,
   "metadata": {},
   "outputs": [],
   "source": [
    "wind_df = pd.concat([wind_108_df,wind_112_df,wind_119_df], axis=1)"
   ]
  },
  {
   "cell_type": "code",
   "execution_count": 52,
   "metadata": {},
   "outputs": [],
   "source": [
    "wind_df = wind_df[:-1]"
   ]
  },
  {
   "cell_type": "markdown",
   "metadata": {},
   "source": [
    "#### 5.6 2018년부터 2023년까지 데이터만 남기기"
   ]
  },
  {
   "cell_type": "code",
   "execution_count": 53,
   "metadata": {},
   "outputs": [
    {
     "name": "stderr",
     "output_type": "stream",
     "text": [
      "/var/folders/cy/sw8s66dd02l8b9dj7pqk2ljm0000gn/T/ipykernel_26897/4146877941.py:2: SettingWithCopyWarning: \n",
      "A value is trying to be set on a copy of a slice from a DataFrame.\n",
      "Try using .loc[row_indexer,col_indexer] = value instead\n",
      "\n",
      "See the caveats in the documentation: https://pandas.pydata.org/pandas-docs/stable/user_guide/indexing.html#returning-a-view-versus-a-copy\n",
      "  wind_df[\"Datetime\"] = pd.to_datetime(wind_df[\"Datetime\"], format=\"%Y%m%d%H%M\")\n",
      "/var/folders/cy/sw8s66dd02l8b9dj7pqk2ljm0000gn/T/ipykernel_26897/4146877941.py:5: SettingWithCopyWarning: \n",
      "A value is trying to be set on a copy of a slice from a DataFrame.\n",
      "Try using .loc[row_indexer,col_indexer] = value instead\n",
      "\n",
      "See the caveats in the documentation: https://pandas.pydata.org/pandas-docs/stable/user_guide/indexing.html#returning-a-view-versus-a-copy\n",
      "  wind_df[\"Date\"] = wind_df[\"Datetime\"].dt.strftime(\"%Y-%m-%d\")\n",
      "/var/folders/cy/sw8s66dd02l8b9dj7pqk2ljm0000gn/T/ipykernel_26897/4146877941.py:6: SettingWithCopyWarning: \n",
      "A value is trying to be set on a copy of a slice from a DataFrame.\n",
      "Try using .loc[row_indexer,col_indexer] = value instead\n",
      "\n",
      "See the caveats in the documentation: https://pandas.pydata.org/pandas-docs/stable/user_guide/indexing.html#returning-a-view-versus-a-copy\n",
      "  wind_df[\"Hour\"] = wind_df[\"Datetime\"].dt.strftime(\"%H\")\n"
     ]
    }
   ],
   "source": [
    "# \"Datetime\"컬럼 데이터타입 변환\n",
    "wind_df[\"Datetime\"] = pd.to_datetime(wind_df[\"Datetime\"], format=\"%Y%m%d%H%M\")\n",
    "\n",
    "# \"Date\", \"Hour\" 컬럼 생성\n",
    "wind_df[\"Date\"] = wind_df[\"Datetime\"].dt.strftime(\"%Y-%m-%d\")\n",
    "wind_df[\"Hour\"] = wind_df[\"Datetime\"].dt.strftime(\"%H\")"
   ]
  },
  {
   "cell_type": "markdown",
   "metadata": {},
   "source": [
    "#### 5.7 \"Datetime\" 컬럼 오름차순 정렬후, 인덱스 재설정하기"
   ]
  },
  {
   "cell_type": "code",
   "execution_count": 54,
   "metadata": {},
   "outputs": [
    {
     "name": "stderr",
     "output_type": "stream",
     "text": [
      "/var/folders/cy/sw8s66dd02l8b9dj7pqk2ljm0000gn/T/ipykernel_26897/2049578969.py:2: SettingWithCopyWarning: \n",
      "A value is trying to be set on a copy of a slice from a DataFrame\n",
      "\n",
      "See the caveats in the documentation: https://pandas.pydata.org/pandas-docs/stable/user_guide/indexing.html#returning-a-view-versus-a-copy\n",
      "  wind_df.sort_values(by=\"Datetime\", ignore_index=True, inplace=True)\n"
     ]
    }
   ],
   "source": [
    "# \"Datetime\" 컬럼 오름차순 정렬\n",
    "wind_df.sort_values(by=\"Datetime\", ignore_index=True, inplace=True)\n",
    "# 인덱스 재설정\n",
    "wind_df.reset_index(drop=True, inplace=True)"
   ]
  },
  {
   "cell_type": "code",
   "execution_count": 55,
   "metadata": {},
   "outputs": [],
   "source": [
    "# 컬럼 순서 \"Datetime\",\"Date\",\"Hour\" 순으로 변경\n",
    "wind_df = wind_df[['Datetime', 'Date', 'Hour', '108_Observed wind direction(deg)',\n",
    "                    '108_Observed wind speed(m/s)',\n",
    "                    '108_Average wind speed per minute(m/s)',\n",
    "                    '108_Maximum wind direction per minute(deg)',\n",
    "                    '108_Maximum wind speed per minute(m/s)',\n",
    "                    '112_Observed wind direction(deg)', '112_Observed wind speed(m/s)',\n",
    "                    '112_Average wind speed per minute(m/s)',\n",
    "                    '112_Maximum wind direction per minute(deg)',\n",
    "                    '112_Maximum wind speed per minute(m/s)',\n",
    "                    '119_Observed wind direction(deg)', '119_Observed wind speed(m/s)',\n",
    "                    '119_Average wind speed per minute(m/s)',\n",
    "                    '119_Maximum wind direction per minute(deg)',\n",
    "                    '119_Maximum wind speed per minute(m/s)']]"
   ]
  },
  {
   "cell_type": "code",
   "execution_count": 56,
   "metadata": {},
   "outputs": [],
   "source": [
    "wind_df = wind_df[wind_df[\"Date\"] < \"2024-01-01\"]"
   ]
  },
  {
   "cell_type": "markdown",
   "metadata": {},
   "source": [
    "#### 5.8 데이터프레임을 csv 파일로 저장하기"
   ]
  },
  {
   "cell_type": "code",
   "execution_count": 58,
   "metadata": {},
   "outputs": [],
   "source": [
    "wind_df.to_csv(\"../weather_data/wind_data_fin.csv\")"
   ]
  },
  {
   "cell_type": "markdown",
   "metadata": {},
   "source": [
    "### 6.AWS(습도) 데이터프레임 전처리"
   ]
  },
  {
   "cell_type": "markdown",
   "metadata": {},
   "source": [
    "#### 6.1 데이터 불러오기"
   ]
  },
  {
   "cell_type": "code",
   "execution_count": 59,
   "metadata": {},
   "outputs": [],
   "source": [
    "hum_108_df = pd.read_csv(\"../weather_data/humidity_data(108).csv\", index_col=0)\n",
    "hum_112_df = pd.read_csv(\"../weather_data/humidity_data(112).csv\", index_col=0)\n",
    "hum_119_df = pd.read_csv(\"../weather_data/humidity_data(119).csv\", index_col=0)"
   ]
  },
  {
   "cell_type": "markdown",
   "metadata": {},
   "source": [
    "#### 6.2 컬럼 순서 변경하기"
   ]
  },
  {
   "cell_type": "code",
   "execution_count": 60,
   "metadata": {},
   "outputs": [],
   "source": [
    "hum_108_df.columns = ['KST', 'ID', '%', 'mi', '%.1', 'mi.1', '%.2', 'mi.2', '%.3', 'mi.3', '#']\n",
    "hum_112_df.columns = ['KST', 'ID', '%', 'mi', '%.1', 'mi.1', '%.2', 'mi.2', '%.3', 'mi.3', '#']\n",
    "hum_119_df.columns = ['KST', 'ID', '%', 'mi', '%.1', 'mi.1', '%.2', 'mi.2', '%.3', 'mi.3', '#']"
   ]
  },
  {
   "cell_type": "markdown",
   "metadata": {},
   "source": [
    "#### 6.3 필요없는 컬럼 삭제"
   ]
  },
  {
   "cell_type": "code",
   "execution_count": 61,
   "metadata": {},
   "outputs": [],
   "source": [
    "hum_108_df.drop(['ID','mi','mi.1','mi.2','mi.3', '#'], axis=1, inplace=True)\n",
    "hum_112_df.drop([\"KST\",'ID','mi','mi.1','mi.2','mi.3', '#'], axis=1, inplace=True)\n",
    "hum_119_df.drop([\"KST\",'ID','mi','mi.1','mi.2','mi.3', '#'], axis=1, inplace=True)"
   ]
  },
  {
   "cell_type": "markdown",
   "metadata": {},
   "source": [
    "#### 6.4 컬럼명 변경하기"
   ]
  },
  {
   "cell_type": "code",
   "execution_count": 62,
   "metadata": {},
   "outputs": [],
   "source": [
    "hum_108_df.rename(columns={'KST':\"Datetime\",\n",
    "                            '%':\"108_Observed humidity(%)\",\n",
    "                            '%.1':\"108_Average humidity per minute(%)\",\n",
    "                            '%.2':\"108_Maximum humidity per minute(%)\",\n",
    "                            '%.3':\"108_Minimum humidity per minute(%)\"},\n",
    "                    inplace=True)\n",
    "hum_112_df.rename(columns={'%':\"112_Observed humidity(%)\",\n",
    "                            '%.1':\"112_Average humidity per minute(%)\",\n",
    "                            '%.2':\"112_Maximum humidity per minute(%)\",\n",
    "                            '%.3':\"112_Minimum humidity per minute(%)\"},\n",
    "                    inplace=True)\n",
    "hum_119_df.rename(columns={'%':\"119_Observed humidity(%)\",\n",
    "                            '%.1':\"119_Average humidity per minute(%)\",\n",
    "                            '%.2':\"119_Maximum humidity per minute(%)\",\n",
    "                            '%.3':\"119_Minimum humidity per minute(%)\"},\n",
    "                    inplace=True)"
   ]
  },
  {
   "cell_type": "markdown",
   "metadata": {},
   "source": [
    "#### 6.5 108,112,119 데이터프레임 합치기"
   ]
  },
  {
   "cell_type": "code",
   "execution_count": 63,
   "metadata": {},
   "outputs": [],
   "source": [
    "hum_df = pd.concat([hum_108_df,hum_112_df,hum_119_df], axis=1)"
   ]
  },
  {
   "cell_type": "code",
   "execution_count": 65,
   "metadata": {},
   "outputs": [],
   "source": [
    "hum_df = hum_df[:-1]"
   ]
  },
  {
   "cell_type": "markdown",
   "metadata": {},
   "source": [
    "#### 6.6 \"Datetime\" 컬럼 오름차순 정렬후, 인덱스 재설정하기"
   ]
  },
  {
   "cell_type": "code",
   "execution_count": 66,
   "metadata": {},
   "outputs": [
    {
     "name": "stderr",
     "output_type": "stream",
     "text": [
      "/var/folders/cy/sw8s66dd02l8b9dj7pqk2ljm0000gn/T/ipykernel_26897/122438431.py:2: SettingWithCopyWarning: \n",
      "A value is trying to be set on a copy of a slice from a DataFrame\n",
      "\n",
      "See the caveats in the documentation: https://pandas.pydata.org/pandas-docs/stable/user_guide/indexing.html#returning-a-view-versus-a-copy\n",
      "  hum_df.sort_values(by=\"Datetime\", ignore_index=True, inplace=True)\n"
     ]
    }
   ],
   "source": [
    "# \"Datetime\" 컬럼 오름차순 정렬\n",
    "hum_df.sort_values(by=\"Datetime\", ignore_index=True, inplace=True)\n",
    "# 인덱스 재설정\n",
    "hum_df.reset_index(drop=True, inplace=True)"
   ]
  },
  {
   "cell_type": "code",
   "execution_count": 67,
   "metadata": {},
   "outputs": [
    {
     "name": "stderr",
     "output_type": "stream",
     "text": [
      "/var/folders/cy/sw8s66dd02l8b9dj7pqk2ljm0000gn/T/ipykernel_26897/1914792134.py:2: SettingWithCopyWarning: \n",
      "A value is trying to be set on a copy of a slice from a DataFrame.\n",
      "Try using .loc[row_indexer,col_indexer] = value instead\n",
      "\n",
      "See the caveats in the documentation: https://pandas.pydata.org/pandas-docs/stable/user_guide/indexing.html#returning-a-view-versus-a-copy\n",
      "  hum_df[\"Datetime\"] = pd.to_datetime(hum_df[\"Datetime\"], format=\"%Y%m%d%H%M\")\n",
      "/var/folders/cy/sw8s66dd02l8b9dj7pqk2ljm0000gn/T/ipykernel_26897/1914792134.py:5: SettingWithCopyWarning: \n",
      "A value is trying to be set on a copy of a slice from a DataFrame.\n",
      "Try using .loc[row_indexer,col_indexer] = value instead\n",
      "\n",
      "See the caveats in the documentation: https://pandas.pydata.org/pandas-docs/stable/user_guide/indexing.html#returning-a-view-versus-a-copy\n",
      "  hum_df[\"Date\"] = hum_df[\"Datetime\"].dt.strftime(\"%Y-%m-%d\")\n",
      "/var/folders/cy/sw8s66dd02l8b9dj7pqk2ljm0000gn/T/ipykernel_26897/1914792134.py:6: SettingWithCopyWarning: \n",
      "A value is trying to be set on a copy of a slice from a DataFrame.\n",
      "Try using .loc[row_indexer,col_indexer] = value instead\n",
      "\n",
      "See the caveats in the documentation: https://pandas.pydata.org/pandas-docs/stable/user_guide/indexing.html#returning-a-view-versus-a-copy\n",
      "  hum_df[\"Hour\"] = hum_df[\"Datetime\"].dt.strftime(\"%H\")\n"
     ]
    }
   ],
   "source": [
    "# \"Datetime\"컬럼 데이터타입 변환\n",
    "hum_df[\"Datetime\"] = pd.to_datetime(hum_df[\"Datetime\"], format=\"%Y%m%d%H%M\")\n",
    "\n",
    "# \"Date\", \"Hour\" 컬럼 생성\n",
    "hum_df[\"Date\"] = hum_df[\"Datetime\"].dt.strftime(\"%Y-%m-%d\")\n",
    "hum_df[\"Hour\"] = hum_df[\"Datetime\"].dt.strftime(\"%H\")"
   ]
  },
  {
   "cell_type": "code",
   "execution_count": 68,
   "metadata": {},
   "outputs": [],
   "source": [
    "# 컬럼 순서 \"Datetime\",\"Date\",\"Hour\" 순으로 변경\n",
    "hum_df = hum_df[['Datetime', 'Date', 'Hour',\n",
    "                   '108_Observed humidity(%)',\n",
    "                    '108_Average humidity per minute(%)',\n",
    "                    '108_Maximum humidity per minute(%)',\n",
    "                    '108_Minimum humidity per minute(%)', \n",
    "                    '112_Observed humidity(%)',\n",
    "                    '112_Average humidity per minute(%)',\n",
    "                    '112_Maximum humidity per minute(%)',\n",
    "                    '112_Minimum humidity per minute(%)',\n",
    "                    '119_Observed humidity(%)',\n",
    "                    '119_Average humidity per minute(%)',\n",
    "                    '119_Maximum humidity per minute(%)',\n",
    "                    '119_Minimum humidity per minute(%)']]"
   ]
  },
  {
   "cell_type": "markdown",
   "metadata": {},
   "source": [
    "#### 6.7 2018년 부터 2023년까지 데이터 남기기"
   ]
  },
  {
   "cell_type": "code",
   "execution_count": 69,
   "metadata": {},
   "outputs": [],
   "source": [
    "hum_df = hum_df[hum_df[\"Date\"] < \"2024-01-01\"]"
   ]
  },
  {
   "cell_type": "markdown",
   "metadata": {},
   "source": [
    "#### 6.8 데이터프레임을 csv 파일로 저장하기"
   ]
  },
  {
   "cell_type": "code",
   "execution_count": 71,
   "metadata": {},
   "outputs": [],
   "source": [
    "hum_df.to_csv(\"../weather_data/humidity_data_fin.csv\")"
   ]
  },
  {
   "cell_type": "markdown",
   "metadata": {},
   "source": [
    "### 7.AWS(기압) 데이터프레임 전처리"
   ]
  },
  {
   "cell_type": "markdown",
   "metadata": {},
   "source": [
    "#### 7.1 데이터 불러오기"
   ]
  },
  {
   "cell_type": "code",
   "execution_count": 3,
   "metadata": {},
   "outputs": [
    {
     "name": "stderr",
     "output_type": "stream",
     "text": [
      "/var/folders/cy/sw8s66dd02l8b9dj7pqk2ljm0000gn/T/ipykernel_26897/676420963.py:1: DtypeWarning: Columns (1,2,3,4,5,6,7,8,9,10,11,12,13,14,15,16,17,18) have mixed types. Specify dtype option on import or set low_memory=False.\n",
      "  ap_108_df = pd.read_csv(\"../weather_data/ap_data(108).csv\")\n",
      "/var/folders/cy/sw8s66dd02l8b9dj7pqk2ljm0000gn/T/ipykernel_26897/676420963.py:2: DtypeWarning: Columns (1,2,3,4,5,6,7,8,9,10,11,12,13,14,15,16,17,18) have mixed types. Specify dtype option on import or set low_memory=False.\n",
      "  ap_112_df = pd.read_csv(\"../weather_data/ap_data(112).csv\")\n",
      "/var/folders/cy/sw8s66dd02l8b9dj7pqk2ljm0000gn/T/ipykernel_26897/676420963.py:3: DtypeWarning: Columns (1,2,3,4,5,6,7,8,9,10,11,12,13,14,15,16,17,18) have mixed types. Specify dtype option on import or set low_memory=False.\n",
      "  ap_119_df = pd.read_csv(\"../weather_data/ap_data(119).csv\")\n"
     ]
    }
   ],
   "source": [
    "ap_108_df = pd.read_csv(\"../weather_data/ap_data(108).csv\")\n",
    "ap_112_df = pd.read_csv(\"../weather_data/ap_data(112).csv\")\n",
    "ap_119_df = pd.read_csv(\"../weather_data/ap_data(119).csv\")"
   ]
  },
  {
   "cell_type": "code",
   "execution_count": 4,
   "metadata": {},
   "outputs": [],
   "source": [
    "ap_108_df =ap_108_df[1:-1]\n",
    "ap_112_df =ap_112_df[1:-1]\n",
    "ap_119_df =ap_119_df[1:-1]"
   ]
  },
  {
   "cell_type": "markdown",
   "metadata": {},
   "source": [
    "#### 7.2 필요없는 컬럼 삭제하기"
   ]
  },
  {
   "cell_type": "code",
   "execution_count": 7,
   "metadata": {},
   "outputs": [],
   "source": [
    "ap_108_df.drop(['Unnamed: 1', 'Unnamed: 3', 'PA', 'PA.2', 'PA.4',\n",
    "                'PA.5', 'PA.6', 'PS', 'PS.1', 'PS.2',\n",
    "                'PS.3', 'PS.4', 'PS.5', 'PS.6'], axis=1, inplace=True)\n",
    "ap_112_df.drop(['Unnamed: 0', 'Unnamed: 1', 'Unnamed: 3', 'PA', 'PA.2', 'PA.4',\n",
    "                'PA.5', 'PA.6', 'PS', 'PS.1', 'PS.2',\n",
    "                'PS.3', 'PS.4', 'PS.5', 'PS.6'], axis=1, inplace=True)\n",
    "ap_119_df.drop(['Unnamed: 0', 'Unnamed: 1', 'Unnamed: 3', 'PA', 'PA.2', 'PA.4',\n",
    "                'PA.5', 'PA.6', 'PS', 'PS.1', 'PS.2',\n",
    "                'PS.3', 'PS.4', 'PS.5', 'PS.6'], axis=1, inplace=True)"
   ]
  },
  {
   "cell_type": "markdown",
   "metadata": {},
   "source": [
    "#### 7.3 컬럼명 변경하기"
   ]
  },
  {
   "cell_type": "code",
   "execution_count": 8,
   "metadata": {},
   "outputs": [],
   "source": [
    "ap_108_df.rename(columns={'Unnamed: 0':\"Datetime\",\n",
    "                            'Unnamed: 2':\"108_Observed atmospheric pressure(hPa)\",\n",
    "                            '#':\"108_Average atmospheric pressure(hPa)\",\n",
    "                            'PA.1':\"108_Highest atmospheric pressure(hPa)\",\n",
    "                            'PA.3':\"108_Minimum atmospheric pressure(hPa)\"},\n",
    "                    inplace=True)\n",
    "ap_112_df.rename(columns={'Unnamed: 2':\"112_Observed atmospheric pressure(hPa)\",\n",
    "                            '#':\"112_Average atmospheric pressure(hPa)\",\n",
    "                            'PA.1':\"112_Highest atmospheric pressure(hPa)\",\n",
    "                            'PA.3':\"112_Minimum atmospheric pressure(hPa)\"},\n",
    "                    inplace=True)\n",
    "ap_119_df.rename(columns={'Unnamed: 2':\"119_Observed atmospheric pressure(hPa)\",\n",
    "                            '#':\"119_Average atmospheric pressure(hPa)\",\n",
    "                            'PA.1':\"119_Highest atmospheric pressure(hPa)\",\n",
    "                            'PA.3':\"119_Minimum atmospheric pressure(hPa)\"},\n",
    "                    inplace=True)"
   ]
  },
  {
   "cell_type": "markdown",
   "metadata": {},
   "source": [
    "#### 7.4 108,112,119 데이터프레임 합치기"
   ]
  },
  {
   "cell_type": "code",
   "execution_count": 9,
   "metadata": {},
   "outputs": [],
   "source": [
    "ap_df = pd.concat([ap_108_df,ap_112_df,ap_119_df], axis=1)"
   ]
  },
  {
   "cell_type": "markdown",
   "metadata": {},
   "source": [
    "#### 7.5 \"Datetime\" 컬럼에서 \"Date\", \"Hour\" 컬럼 생성하기"
   ]
  },
  {
   "cell_type": "code",
   "execution_count": 12,
   "metadata": {},
   "outputs": [],
   "source": [
    "# \"Datetime\"컬럼 데이터타입 변환\n",
    "ap_df[\"Datetime\"] = pd.to_datetime(ap_df[\"Datetime\"], format=\"%Y%m%d%H%M\")\n",
    "\n",
    "# \"Date\", \"Hour\" 컬럼 생성\n",
    "ap_df[\"Date\"] = ap_df[\"Datetime\"].dt.strftime(\"%Y-%m-%d\")\n",
    "ap_df[\"Hour\"] = ap_df[\"Datetime\"].dt.strftime(\"%H\")"
   ]
  },
  {
   "cell_type": "code",
   "execution_count": 13,
   "metadata": {},
   "outputs": [],
   "source": [
    "ap_df = ap_df[['Datetime', 'Date', 'Hour', \n",
    "               '108_Observed atmospheric pressure(hPa)',\n",
    "                '108_Average atmospheric pressure(hPa)',\n",
    "                '108_Highest atmospheric pressure(hPa)',\n",
    "                '108_Minimum atmospheric pressure(hPa)',\n",
    "                '112_Observed atmospheric pressure(hPa)',\n",
    "                '112_Average atmospheric pressure(hPa)',\n",
    "                '112_Highest atmospheric pressure(hPa)',\n",
    "                '112_Minimum atmospheric pressure(hPa)',\n",
    "                '119_Observed atmospheric pressure(hPa)',\n",
    "                '119_Average atmospheric pressure(hPa)',\n",
    "                '119_Highest atmospheric pressure(hPa)',\n",
    "                '119_Minimum atmospheric pressure(hPa)']]"
   ]
  },
  {
   "cell_type": "markdown",
   "metadata": {},
   "source": [
    "#### 7.6 \"Datetime\" 컬럼 오름차순 정렬후, 인덱스 재설정하기"
   ]
  },
  {
   "cell_type": "code",
   "execution_count": 14,
   "metadata": {},
   "outputs": [],
   "source": [
    "# \"Datetime\" 컬럼 오름차순 정렬\n",
    "ap_df.sort_values(by=\"Datetime\", ignore_index=True, inplace=True)\n",
    "# 인덱스 재설정\n",
    "ap_df.reset_index(drop=True, inplace=True)"
   ]
  },
  {
   "cell_type": "markdown",
   "metadata": {},
   "source": [
    "#### 7.7 2018년 부터 2023년까지 데이터만 남기기"
   ]
  },
  {
   "cell_type": "code",
   "execution_count": 15,
   "metadata": {},
   "outputs": [],
   "source": [
    "ap_df = ap_df[ap_df[\"Date\"] < \"2024-01-01\"]"
   ]
  },
  {
   "cell_type": "markdown",
   "metadata": {},
   "source": [
    "#### 7.8 데이터프레임을 csv 파일로 저장하기"
   ]
  },
  {
   "cell_type": "code",
   "execution_count": 16,
   "metadata": {},
   "outputs": [],
   "source": [
    "ap_df.to_csv(\"../weather_data/ap_data_fin.csv\")"
   ]
  }
 ],
 "metadata": {
  "kernelspec": {
   "display_name": "Python 3",
   "language": "python",
   "name": "python3"
  },
  "language_info": {
   "codemirror_mode": {
    "name": "ipython",
    "version": 3
   },
   "file_extension": ".py",
   "mimetype": "text/x-python",
   "name": "python",
   "nbconvert_exporter": "python",
   "pygments_lexer": "ipython3",
   "version": "3.9.6"
  }
 },
 "nbformat": 4,
 "nbformat_minor": 2
}
