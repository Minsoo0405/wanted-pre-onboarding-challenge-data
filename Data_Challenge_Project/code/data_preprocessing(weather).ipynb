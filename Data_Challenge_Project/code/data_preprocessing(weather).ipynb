{
  "cells": [
    {
      "cell_type": "markdown",
      "metadata": {},
      "source": [
        "# 📌 연도별 날씨 데이터프레임을 csv 파일로 저장하기"
      ]
    },
    {
      "cell_type": "code",
      "execution_count": null,
      "metadata": {
        "id": "HKsfoFukX8aW"
      },
      "outputs": [],
      "source": [
        "import numpy as np\n",
        "import pandas as pd"
      ]
    },
    {
      "cell_type": "markdown",
      "metadata": {
        "id": "1nblKHUqXxLa"
      },
      "source": [
        "### 1. 2018년도 날씨 데이터프레임으로 묶기"
      ]
    },
    {
      "cell_type": "markdown",
      "metadata": {
        "id": "KvF0Ex7QXbKN"
      },
      "source": [
        "#### 1.1 데이터프레임 불러오기"
      ]
    },
    {
      "cell_type": "code",
      "execution_count": null,
      "metadata": {
        "id": "-o2pu3q5ZHpH"
      },
      "outputs": [],
      "source": [
        "df_rain = pd.read_csv(\"/content/drive/MyDrive/weather_data/2018/청운효자동_강수_201801_201812.csv\")\n",
        "df_rain2 = pd.read_csv(\"/content/drive/MyDrive/weather_data/2018/청운효자동_강수형태_201801_201812.csv\")\n",
        "df_temp = pd.read_csv(\"/content/drive/MyDrive/weather_data/2018/청운효자동_기온_201801_201812.csv\")\n",
        "df_hum = pd.read_csv(\"/content/drive/MyDrive/weather_data/2018/청운효자동_습도_201801_201812.csv\")\n",
        "df_wind = pd.read_csv(\"/content/drive/MyDrive/weather_data/2018/청운효자동_풍속_201801_201812.csv\")\n",
        "df_wind2 = pd.read_csv(\"/content/drive/MyDrive/weather_data/2018/청운효자동_풍향_201801_201812.csv\")\n",
        "df_sky = pd.read_csv(\"/content/drive/MyDrive/weather_data/2018/청운효자동_하늘상태_201801_201812.csv\")"
      ]
    },
    {
      "cell_type": "markdown",
      "metadata": {
        "id": "8dZ5kfc7XbKO"
      },
      "source": [
        "#### 1.2 각 데이터프레임 컬럼명 변경 및 삭제"
      ]
    },
    {
      "cell_type": "code",
      "execution_count": null,
      "metadata": {
        "id": "xCFIaR5kZTp5"
      },
      "outputs": [],
      "source": [
        "# 컬럼명 변경\n",
        "df_rain.rename(columns={\"value location:60_127 Start : 20180101 \":\"Rainfall(mm)\"}, inplace=True)\n",
        "df_rain2.rename(columns={\"value location:60_127 Start : 20180101 \":\"Precipitation type\"}, inplace=True)\n",
        "df_temp.rename(columns={\"value location:60_127 Start : 20180101 \":\"Temperature(℃)\"}, inplace=True)\n",
        "df_hum.rename(columns={\"value location:60_127 Start : 20180101 \":\"Humidity(%)\"}, inplace=True)\n",
        "df_wind.rename(columns={\"value location:60_127 Start : 20180101 \":\"Wind speed (m/s)\"}, inplace=True)\n",
        "df_wind2.rename(columns={\"value location:60_127 Start : 20180101 \":\"wind direction\"}, inplace=True)\n",
        "df_sky.rename(columns={\"value location:60_127 Start : 20180101 \":\"Sky type\"}, inplace=True)"
      ]
    },
    {
      "cell_type": "code",
      "execution_count": null,
      "metadata": {
        "id": "OG_04YUhZVAh"
      },
      "outputs": [],
      "source": [
        "# 강수 데이터프레임을 제외한 데이터프레임의 \"day\", \"hour\" 컬럼 삭제\n",
        "df_rain2.drop([\" format: day\", \"hour\"], axis=1, inplace=True)\n",
        "df_temp.drop([\" format: day\", \"hour\"], axis=1, inplace=True)\n",
        "df_hum.drop([\" format: day\", \"hour\"], axis=1, inplace=True)\n",
        "df_wind.drop([\" format: day\", \"hour\"], axis=1, inplace=True)\n",
        "df_wind2.drop([\" format: day\", \"hour\"], axis=1, inplace=True)\n",
        "df_sky.drop([\" format: day\", \"hour\"], axis=1, inplace=True)"
      ]
    },
    {
      "cell_type": "markdown",
      "metadata": {
        "id": "fdDwA053XbKO"
      },
      "source": [
        "#### 1.3 하나로 데이터프레임 합치기"
      ]
    },
    {
      "cell_type": "code",
      "execution_count": null,
      "metadata": {
        "id": "YGNO5P2iZWUY"
      },
      "outputs": [],
      "source": [
        "df_fin = pd.concat([df_rain, df_rain2, df_temp, df_hum, df_wind, df_wind2, df_sky], axis=1)"
      ]
    },
    {
      "cell_type": "markdown",
      "metadata": {
        "id": "POWwPxqGXbKO"
      },
      "source": [
        "#### 1.4 데이터프레임에 NaN 값 삭제\n",
        "- \"format: day\"에 \"Start : 20180501 \"의 형태의 행이 \"hour\", \"value location:60_127 Start : 20180101\"의 컬럼에 NaN 값을 가짐."
      ]
    },
    {
      "cell_type": "markdown",
      "metadata": {
        "id": "Iodme_EHXbKO"
      },
      "source": [
        "#### 1.5 \"hour\" 컬럼을 int 타입으로 변환\n",
        "\n"
      ]
    },
    {
      "cell_type": "code",
      "execution_count": null,
      "metadata": {
        "id": "X4SFrNSEZX-o"
      },
      "outputs": [],
      "source": [
        "df_fin = df_fin[df_fin[\"hour\"].isna() == False]"
      ]
    },
    {
      "cell_type": "markdown",
      "metadata": {
        "id": "VpwTBK3KXbKO"
      },
      "source": [
        "#### 1.6 \"Date\" 컬럼 생성"
      ]
    },
    {
      "cell_type": "code",
      "execution_count": null,
      "metadata": {
        "id": "9G7deVVRZa-T"
      },
      "outputs": [],
      "source": [
        "df_fin.columns = ['Date', 'hour', 'Rainfall(mm)', 'Precipitation type',\n",
        "       'Temperature(℃)', 'Humidity(%)', 'Wind speed (m/s)', 'wind direction',\n",
        "       'Sky type']"
      ]
    },
    {
      "cell_type": "code",
      "execution_count": null,
      "metadata": {
        "id": "ZZviSZUfZcsw"
      },
      "outputs": [],
      "source": [
        "df_fin[\"Date\"] = pd.date_range(start=\"2018-01-01\", end=\"2018-12-31 23:00:00\", freq=\"H\").date"
      ]
    },
    {
      "cell_type": "markdown",
      "metadata": {
        "id": "S9FF10UBXbKO"
      },
      "source": [
        "#### 1.7 csv 파일로 저장"
      ]
    },
    {
      "cell_type": "code",
      "execution_count": null,
      "metadata": {
        "id": "oNtGYnlCZfbF"
      },
      "outputs": [],
      "source": [
        "df_fin.to_csv(f\"/content/drive/MyDrive/weather_data/2018.csv\", index=False)"
      ]
    },
    {
      "cell_type": "markdown",
      "metadata": {
        "id": "BV6Uub8b7L4Q"
      },
      "source": [
        "### 2. 2019년도 날씨 데이터프레임으로 묶기"
      ]
    },
    {
      "cell_type": "markdown",
      "metadata": {
        "id": "R7_f0ruTRZT8"
      },
      "source": [
        "#### 2.1 데이터프레임 불러오기"
      ]
    },
    {
      "cell_type": "code",
      "execution_count": null,
      "metadata": {
        "id": "TlgmlpBMRfYA"
      },
      "outputs": [],
      "source": [
        "df_rain = pd.read_csv(\"/content/drive/MyDrive/weather_data/2019/청운효자동_강수_201901_201912.csv\")\n",
        "df_rain2 = pd.read_csv(\"/content/drive/MyDrive/weather_data/2019/청운효자동_강수형태_201901_201912.csv\")\n",
        "df_temp = pd.read_csv(\"/content/drive/MyDrive/weather_data/2019/청운효자동_기온_201901_201912.csv\")\n",
        "df_hum = pd.read_csv(\"/content/drive/MyDrive/weather_data/2019/청운효자동_습도_201901_201912.csv\")\n",
        "df_wind = pd.read_csv(\"/content/drive/MyDrive/weather_data/2019/청운효자동_풍속_201901_201912.csv\")\n",
        "df_wind2 = pd.read_csv(\"/content/drive/MyDrive/weather_data/2019/청운효자동_풍향_201901_201912.csv\")\n",
        "df_sky = pd.read_csv(\"/content/drive/MyDrive/weather_data/2019/청운효자동_하늘상태_201901_201912.csv\")"
      ]
    },
    {
      "cell_type": "markdown",
      "metadata": {
        "id": "0_nEINXzRZT9"
      },
      "source": [
        "#### 2.2 각 데이터프레임 컬럼명 변경 및 삭제"
      ]
    },
    {
      "cell_type": "code",
      "execution_count": null,
      "metadata": {
        "id": "P_ophf41RZT9"
      },
      "outputs": [],
      "source": [
        "# 컬럼명 변경\n",
        "df_rain.rename(columns={\"value location:60_127 Start : 20190101 \":\"Rainfall(mm)\"}, inplace=True)\n",
        "df_rain2.rename(columns={\"value location:60_127 Start : 20190101 \":\"Precipitation type\"}, inplace=True)\n",
        "df_temp.rename(columns={\"value location:60_127 Start : 20190101 \":\"Temperature(℃)\"}, inplace=True)\n",
        "df_hum.rename(columns={\"value location:60_127 Start : 20190101 \":\"Humidity(%)\"}, inplace=True)\n",
        "df_wind.rename(columns={\"value location:60_127 Start : 20190101 \":\"Wind speed (m/s)\"}, inplace=True)\n",
        "df_wind2.rename(columns={\"value location:60_127 Start : 20190101 \":\"wind direction\"}, inplace=True)\n",
        "df_sky.rename(columns={\"value location:60_127 Start : 20190101 \":\"Sky type\"}, inplace=True)"
      ]
    },
    {
      "cell_type": "code",
      "execution_count": null,
      "metadata": {
        "id": "Li-ObaZZRZT9"
      },
      "outputs": [],
      "source": [
        "# 강수 데이터프레임을 제외한 데이터프레임의 \"day\", \"hour\" 컬럼 삭제\n",
        "df_rain2.drop([\" format: day\", \"hour\"], axis=1, inplace=True)\n",
        "df_temp.drop([\" format: day\", \"hour\"], axis=1, inplace=True)\n",
        "df_hum.drop([\" format: day\", \"hour\"], axis=1, inplace=True)\n",
        "df_wind.drop([\" format: day\", \"hour\"], axis=1, inplace=True)\n",
        "df_wind2.drop([\" format: day\", \"hour\"], axis=1, inplace=True)\n",
        "df_sky.drop([\" format: day\", \"hour\"], axis=1, inplace=True)"
      ]
    },
    {
      "cell_type": "markdown",
      "metadata": {
        "id": "LpKQOiYKRZT9"
      },
      "source": [
        "#### 2.3 하나로 데이터프레임 합치기"
      ]
    },
    {
      "cell_type": "code",
      "execution_count": null,
      "metadata": {
        "id": "eon9JhyGRZT9"
      },
      "outputs": [],
      "source": [
        "df_fin = pd.concat([df_rain, df_rain2, df_temp, df_hum, df_wind, df_wind2, df_sky], axis=1)"
      ]
    },
    {
      "cell_type": "markdown",
      "metadata": {
        "id": "PIzWBcphRZT9"
      },
      "source": [
        "#### 2.4 데이터프레임에 NaN 값 삭제\n",
        "- \"format: day\"에 \"Start : 20180501 \"의 형태의 행이 \"hour\", \"value location:60_127 Start : 20180101\"의 컬럼에 NaN 값을 가짐."
      ]
    },
    {
      "cell_type": "code",
      "execution_count": null,
      "metadata": {
        "id": "pZA7w_JDRZT9"
      },
      "outputs": [],
      "source": [
        "df_fin = df_fin[df_fin[\"hour\"].isna() == False]"
      ]
    },
    {
      "cell_type": "markdown",
      "metadata": {
        "id": "hMQi07KtRZT-"
      },
      "source": [
        "#### 2.5 \"hour\" 컬럼을 int 타입으로 변환"
      ]
    },
    {
      "cell_type": "code",
      "execution_count": null,
      "metadata": {
        "colab": {
          "base_uri": "https://localhost:8080/"
        },
        "id": "WEu5Dnd0RZT-",
        "outputId": "68fc9d0f-6584-4cc2-d32c-2c508fa1bcc5"
      },
      "outputs": [
        {
          "name": "stderr",
          "output_type": "stream",
          "text": [
            "<ipython-input-157-64a3d6657065>:1: SettingWithCopyWarning: \n",
            "A value is trying to be set on a copy of a slice from a DataFrame.\n",
            "Try using .loc[row_indexer,col_indexer] = value instead\n",
            "\n",
            "See the caveats in the documentation: https://pandas.pydata.org/pandas-docs/stable/user_guide/indexing.html#returning-a-view-versus-a-copy\n",
            "  df_fin[\"hour\"] = (df_fin[\"hour\"] * 0.01).astype(int)\n"
          ]
        }
      ],
      "source": [
        "df_fin[\"hour\"] = (df_fin[\"hour\"] * 0.01).astype(int)"
      ]
    },
    {
      "cell_type": "markdown",
      "metadata": {
        "id": "YLntGGZpRZT-"
      },
      "source": [
        "#### 2.6 \"Date\" 컬럼 생성"
      ]
    },
    {
      "cell_type": "code",
      "execution_count": null,
      "metadata": {
        "id": "_KlLrf4JRZT-"
      },
      "outputs": [],
      "source": [
        "df_fin.columns = ['Date', 'hour', 'Rainfall(mm)', 'Precipitation type',\n",
        "       'Temperature(℃)', 'Humidity(%)', 'Wind speed (m/s)', 'wind direction',\n",
        "       'Sky type']"
      ]
    },
    {
      "cell_type": "code",
      "execution_count": null,
      "metadata": {
        "colab": {
          "base_uri": "https://localhost:8080/"
        },
        "id": "Xz_UDSAERZT-",
        "outputId": "e1a4751c-72b7-4017-db3b-04fd717d9c25"
      },
      "outputs": [
        {
          "name": "stderr",
          "output_type": "stream",
          "text": [
            "<ipython-input-159-2421b909f930>:1: SettingWithCopyWarning: \n",
            "A value is trying to be set on a copy of a slice from a DataFrame.\n",
            "Try using .loc[row_indexer,col_indexer] = value instead\n",
            "\n",
            "See the caveats in the documentation: https://pandas.pydata.org/pandas-docs/stable/user_guide/indexing.html#returning-a-view-versus-a-copy\n",
            "  df_fin[\"Date\"] = pd.date_range(start=\"2019-01-01\", end=\"2019-12-31 23:00:00\", freq=\"H\").date\n"
          ]
        }
      ],
      "source": [
        "df_fin[\"Date\"] = pd.date_range(start=\"2019-01-01\", end=\"2019-12-31 23:00:00\", freq=\"H\").date"
      ]
    },
    {
      "cell_type": "code",
      "execution_count": null,
      "metadata": {
        "colab": {
          "base_uri": "https://localhost:8080/",
          "height": 424
        },
        "id": "AZfrQ1VjRZT-",
        "outputId": "6e0f04dd-9f04-4277-d9dd-b6a671f62226"
      },
      "outputs": [
        {
          "data": {
            "text/html": [
              "\n",
              "  <div id=\"df-ab3e6435-dd49-44b3-a22f-d0616145c213\" class=\"colab-df-container\">\n",
              "    <div>\n",
              "<style scoped>\n",
              "    .dataframe tbody tr th:only-of-type {\n",
              "        vertical-align: middle;\n",
              "    }\n",
              "\n",
              "    .dataframe tbody tr th {\n",
              "        vertical-align: top;\n",
              "    }\n",
              "\n",
              "    .dataframe thead th {\n",
              "        text-align: right;\n",
              "    }\n",
              "</style>\n",
              "<table border=\"1\" class=\"dataframe\">\n",
              "  <thead>\n",
              "    <tr style=\"text-align: right;\">\n",
              "      <th></th>\n",
              "      <th>Date</th>\n",
              "      <th>hour</th>\n",
              "      <th>Rainfall(mm)</th>\n",
              "      <th>Precipitation type</th>\n",
              "      <th>Temperature(℃)</th>\n",
              "      <th>Humidity(%)</th>\n",
              "      <th>Wind speed (m/s)</th>\n",
              "      <th>wind direction</th>\n",
              "      <th>Sky type</th>\n",
              "    </tr>\n",
              "  </thead>\n",
              "  <tbody>\n",
              "    <tr>\n",
              "      <th>0</th>\n",
              "      <td>2019-01-01</td>\n",
              "      <td>0</td>\n",
              "      <td>0.0</td>\n",
              "      <td>0.0</td>\n",
              "      <td>-4.8</td>\n",
              "      <td>48.0</td>\n",
              "      <td>2.2</td>\n",
              "      <td>296.0</td>\n",
              "      <td>-1.0</td>\n",
              "    </tr>\n",
              "    <tr>\n",
              "      <th>1</th>\n",
              "      <td>2019-01-01</td>\n",
              "      <td>1</td>\n",
              "      <td>0.0</td>\n",
              "      <td>0.0</td>\n",
              "      <td>-3.6</td>\n",
              "      <td>43.0</td>\n",
              "      <td>2.5</td>\n",
              "      <td>313.0</td>\n",
              "      <td>-1.0</td>\n",
              "    </tr>\n",
              "    <tr>\n",
              "      <th>2</th>\n",
              "      <td>2019-01-01</td>\n",
              "      <td>2</td>\n",
              "      <td>0.0</td>\n",
              "      <td>0.0</td>\n",
              "      <td>-2.4</td>\n",
              "      <td>47.0</td>\n",
              "      <td>3.2</td>\n",
              "      <td>280.0</td>\n",
              "      <td>-1.0</td>\n",
              "    </tr>\n",
              "    <tr>\n",
              "      <th>3</th>\n",
              "      <td>2019-01-01</td>\n",
              "      <td>3</td>\n",
              "      <td>0.0</td>\n",
              "      <td>0.0</td>\n",
              "      <td>-1.7</td>\n",
              "      <td>51.0</td>\n",
              "      <td>3.7</td>\n",
              "      <td>285.0</td>\n",
              "      <td>-1.0</td>\n",
              "    </tr>\n",
              "    <tr>\n",
              "      <th>4</th>\n",
              "      <td>2019-01-01</td>\n",
              "      <td>4</td>\n",
              "      <td>0.0</td>\n",
              "      <td>0.0</td>\n",
              "      <td>-1.7</td>\n",
              "      <td>50.0</td>\n",
              "      <td>3.0</td>\n",
              "      <td>285.0</td>\n",
              "      <td>-1.0</td>\n",
              "    </tr>\n",
              "    <tr>\n",
              "      <th>...</th>\n",
              "      <td>...</td>\n",
              "      <td>...</td>\n",
              "      <td>...</td>\n",
              "      <td>...</td>\n",
              "      <td>...</td>\n",
              "      <td>...</td>\n",
              "      <td>...</td>\n",
              "      <td>...</td>\n",
              "      <td>...</td>\n",
              "    </tr>\n",
              "    <tr>\n",
              "      <th>8766</th>\n",
              "      <td>2019-12-31</td>\n",
              "      <td>19</td>\n",
              "      <td>0.0</td>\n",
              "      <td>0.0</td>\n",
              "      <td>-5.0</td>\n",
              "      <td>55.0</td>\n",
              "      <td>0.0</td>\n",
              "      <td>0.0</td>\n",
              "      <td>-1.0</td>\n",
              "    </tr>\n",
              "    <tr>\n",
              "      <th>8767</th>\n",
              "      <td>2019-12-31</td>\n",
              "      <td>20</td>\n",
              "      <td>0.0</td>\n",
              "      <td>0.0</td>\n",
              "      <td>-4.6</td>\n",
              "      <td>58.0</td>\n",
              "      <td>1.6</td>\n",
              "      <td>111.0</td>\n",
              "      <td>-1.0</td>\n",
              "    </tr>\n",
              "    <tr>\n",
              "      <th>8768</th>\n",
              "      <td>2019-12-31</td>\n",
              "      <td>21</td>\n",
              "      <td>0.0</td>\n",
              "      <td>0.0</td>\n",
              "      <td>-4.5</td>\n",
              "      <td>64.0</td>\n",
              "      <td>2.2</td>\n",
              "      <td>63.0</td>\n",
              "      <td>-1.0</td>\n",
              "    </tr>\n",
              "    <tr>\n",
              "      <th>8769</th>\n",
              "      <td>2019-12-31</td>\n",
              "      <td>22</td>\n",
              "      <td>0.0</td>\n",
              "      <td>0.0</td>\n",
              "      <td>-4.4</td>\n",
              "      <td>65.0</td>\n",
              "      <td>0.1</td>\n",
              "      <td>37.0</td>\n",
              "      <td>-1.0</td>\n",
              "    </tr>\n",
              "    <tr>\n",
              "      <th>8770</th>\n",
              "      <td>2019-12-31</td>\n",
              "      <td>23</td>\n",
              "      <td>0.0</td>\n",
              "      <td>0.0</td>\n",
              "      <td>-4.2</td>\n",
              "      <td>73.0</td>\n",
              "      <td>1.6</td>\n",
              "      <td>59.0</td>\n",
              "      <td>-1.0</td>\n",
              "    </tr>\n",
              "  </tbody>\n",
              "</table>\n",
              "<p>8760 rows × 9 columns</p>\n",
              "</div>\n",
              "    <div class=\"colab-df-buttons\">\n",
              "\n",
              "  <div class=\"colab-df-container\">\n",
              "    <button class=\"colab-df-convert\" onclick=\"convertToInteractive('df-ab3e6435-dd49-44b3-a22f-d0616145c213')\"\n",
              "            title=\"Convert this dataframe to an interactive table.\"\n",
              "            style=\"display:none;\">\n",
              "\n",
              "  <svg xmlns=\"http://www.w3.org/2000/svg\" height=\"24px\" viewBox=\"0 -960 960 960\">\n",
              "    <path d=\"M120-120v-720h720v720H120Zm60-500h600v-160H180v160Zm220 220h160v-160H400v160Zm0 220h160v-160H400v160ZM180-400h160v-160H180v160Zm440 0h160v-160H620v160ZM180-180h160v-160H180v160Zm440 0h160v-160H620v160Z\"/>\n",
              "  </svg>\n",
              "    </button>\n",
              "\n",
              "  <style>\n",
              "    .colab-df-container {\n",
              "      display:flex;\n",
              "      gap: 12px;\n",
              "    }\n",
              "\n",
              "    .colab-df-convert {\n",
              "      background-color: #E8F0FE;\n",
              "      border: none;\n",
              "      border-radius: 50%;\n",
              "      cursor: pointer;\n",
              "      display: none;\n",
              "      fill: #1967D2;\n",
              "      height: 32px;\n",
              "      padding: 0 0 0 0;\n",
              "      width: 32px;\n",
              "    }\n",
              "\n",
              "    .colab-df-convert:hover {\n",
              "      background-color: #E2EBFA;\n",
              "      box-shadow: 0px 1px 2px rgba(60, 64, 67, 0.3), 0px 1px 3px 1px rgba(60, 64, 67, 0.15);\n",
              "      fill: #174EA6;\n",
              "    }\n",
              "\n",
              "    .colab-df-buttons div {\n",
              "      margin-bottom: 4px;\n",
              "    }\n",
              "\n",
              "    [theme=dark] .colab-df-convert {\n",
              "      background-color: #3B4455;\n",
              "      fill: #D2E3FC;\n",
              "    }\n",
              "\n",
              "    [theme=dark] .colab-df-convert:hover {\n",
              "      background-color: #434B5C;\n",
              "      box-shadow: 0px 1px 3px 1px rgba(0, 0, 0, 0.15);\n",
              "      filter: drop-shadow(0px 1px 2px rgba(0, 0, 0, 0.3));\n",
              "      fill: #FFFFFF;\n",
              "    }\n",
              "  </style>\n",
              "\n",
              "    <script>\n",
              "      const buttonEl =\n",
              "        document.querySelector('#df-ab3e6435-dd49-44b3-a22f-d0616145c213 button.colab-df-convert');\n",
              "      buttonEl.style.display =\n",
              "        google.colab.kernel.accessAllowed ? 'block' : 'none';\n",
              "\n",
              "      async function convertToInteractive(key) {\n",
              "        const element = document.querySelector('#df-ab3e6435-dd49-44b3-a22f-d0616145c213');\n",
              "        const dataTable =\n",
              "          await google.colab.kernel.invokeFunction('convertToInteractive',\n",
              "                                                    [key], {});\n",
              "        if (!dataTable) return;\n",
              "\n",
              "        const docLinkHtml = 'Like what you see? Visit the ' +\n",
              "          '<a target=\"_blank\" href=https://colab.research.google.com/notebooks/data_table.ipynb>data table notebook</a>'\n",
              "          + ' to learn more about interactive tables.';\n",
              "        element.innerHTML = '';\n",
              "        dataTable['output_type'] = 'display_data';\n",
              "        await google.colab.output.renderOutput(dataTable, element);\n",
              "        const docLink = document.createElement('div');\n",
              "        docLink.innerHTML = docLinkHtml;\n",
              "        element.appendChild(docLink);\n",
              "      }\n",
              "    </script>\n",
              "  </div>\n",
              "\n",
              "\n",
              "<div id=\"df-8e4f9aa4-0218-4055-866a-69024b9882a2\">\n",
              "  <button class=\"colab-df-quickchart\" onclick=\"quickchart('df-8e4f9aa4-0218-4055-866a-69024b9882a2')\"\n",
              "            title=\"Suggest charts\"\n",
              "            style=\"display:none;\">\n",
              "\n",
              "<svg xmlns=\"http://www.w3.org/2000/svg\" height=\"24px\"viewBox=\"0 0 24 24\"\n",
              "     width=\"24px\">\n",
              "    <g>\n",
              "        <path d=\"M19 3H5c-1.1 0-2 .9-2 2v14c0 1.1.9 2 2 2h14c1.1 0 2-.9 2-2V5c0-1.1-.9-2-2-2zM9 17H7v-7h2v7zm4 0h-2V7h2v10zm4 0h-2v-4h2v4z\"/>\n",
              "    </g>\n",
              "</svg>\n",
              "  </button>\n",
              "\n",
              "<style>\n",
              "  .colab-df-quickchart {\n",
              "      --bg-color: #E8F0FE;\n",
              "      --fill-color: #1967D2;\n",
              "      --hover-bg-color: #E2EBFA;\n",
              "      --hover-fill-color: #174EA6;\n",
              "      --disabled-fill-color: #AAA;\n",
              "      --disabled-bg-color: #DDD;\n",
              "  }\n",
              "\n",
              "  [theme=dark] .colab-df-quickchart {\n",
              "      --bg-color: #3B4455;\n",
              "      --fill-color: #D2E3FC;\n",
              "      --hover-bg-color: #434B5C;\n",
              "      --hover-fill-color: #FFFFFF;\n",
              "      --disabled-bg-color: #3B4455;\n",
              "      --disabled-fill-color: #666;\n",
              "  }\n",
              "\n",
              "  .colab-df-quickchart {\n",
              "    background-color: var(--bg-color);\n",
              "    border: none;\n",
              "    border-radius: 50%;\n",
              "    cursor: pointer;\n",
              "    display: none;\n",
              "    fill: var(--fill-color);\n",
              "    height: 32px;\n",
              "    padding: 0;\n",
              "    width: 32px;\n",
              "  }\n",
              "\n",
              "  .colab-df-quickchart:hover {\n",
              "    background-color: var(--hover-bg-color);\n",
              "    box-shadow: 0 1px 2px rgba(60, 64, 67, 0.3), 0 1px 3px 1px rgba(60, 64, 67, 0.15);\n",
              "    fill: var(--button-hover-fill-color);\n",
              "  }\n",
              "\n",
              "  .colab-df-quickchart-complete:disabled,\n",
              "  .colab-df-quickchart-complete:disabled:hover {\n",
              "    background-color: var(--disabled-bg-color);\n",
              "    fill: var(--disabled-fill-color);\n",
              "    box-shadow: none;\n",
              "  }\n",
              "\n",
              "  .colab-df-spinner {\n",
              "    border: 2px solid var(--fill-color);\n",
              "    border-color: transparent;\n",
              "    border-bottom-color: var(--fill-color);\n",
              "    animation:\n",
              "      spin 1s steps(1) infinite;\n",
              "  }\n",
              "\n",
              "  @keyframes spin {\n",
              "    0% {\n",
              "      border-color: transparent;\n",
              "      border-bottom-color: var(--fill-color);\n",
              "      border-left-color: var(--fill-color);\n",
              "    }\n",
              "    20% {\n",
              "      border-color: transparent;\n",
              "      border-left-color: var(--fill-color);\n",
              "      border-top-color: var(--fill-color);\n",
              "    }\n",
              "    30% {\n",
              "      border-color: transparent;\n",
              "      border-left-color: var(--fill-color);\n",
              "      border-top-color: var(--fill-color);\n",
              "      border-right-color: var(--fill-color);\n",
              "    }\n",
              "    40% {\n",
              "      border-color: transparent;\n",
              "      border-right-color: var(--fill-color);\n",
              "      border-top-color: var(--fill-color);\n",
              "    }\n",
              "    60% {\n",
              "      border-color: transparent;\n",
              "      border-right-color: var(--fill-color);\n",
              "    }\n",
              "    80% {\n",
              "      border-color: transparent;\n",
              "      border-right-color: var(--fill-color);\n",
              "      border-bottom-color: var(--fill-color);\n",
              "    }\n",
              "    90% {\n",
              "      border-color: transparent;\n",
              "      border-bottom-color: var(--fill-color);\n",
              "    }\n",
              "  }\n",
              "</style>\n",
              "\n",
              "  <script>\n",
              "    async function quickchart(key) {\n",
              "      const quickchartButtonEl =\n",
              "        document.querySelector('#' + key + ' button');\n",
              "      quickchartButtonEl.disabled = true;  // To prevent multiple clicks.\n",
              "      quickchartButtonEl.classList.add('colab-df-spinner');\n",
              "      try {\n",
              "        const charts = await google.colab.kernel.invokeFunction(\n",
              "            'suggestCharts', [key], {});\n",
              "      } catch (error) {\n",
              "        console.error('Error during call to suggestCharts:', error);\n",
              "      }\n",
              "      quickchartButtonEl.classList.remove('colab-df-spinner');\n",
              "      quickchartButtonEl.classList.add('colab-df-quickchart-complete');\n",
              "    }\n",
              "    (() => {\n",
              "      let quickchartButtonEl =\n",
              "        document.querySelector('#df-8e4f9aa4-0218-4055-866a-69024b9882a2 button');\n",
              "      quickchartButtonEl.style.display =\n",
              "        google.colab.kernel.accessAllowed ? 'block' : 'none';\n",
              "    })();\n",
              "  </script>\n",
              "</div>\n",
              "\n",
              "  <div id=\"id_1ab931db-dd0c-4d30-8d53-83060d945dca\">\n",
              "    <style>\n",
              "      .colab-df-generate {\n",
              "        background-color: #E8F0FE;\n",
              "        border: none;\n",
              "        border-radius: 50%;\n",
              "        cursor: pointer;\n",
              "        display: none;\n",
              "        fill: #1967D2;\n",
              "        height: 32px;\n",
              "        padding: 0 0 0 0;\n",
              "        width: 32px;\n",
              "      }\n",
              "\n",
              "      .colab-df-generate:hover {\n",
              "        background-color: #E2EBFA;\n",
              "        box-shadow: 0px 1px 2px rgba(60, 64, 67, 0.3), 0px 1px 3px 1px rgba(60, 64, 67, 0.15);\n",
              "        fill: #174EA6;\n",
              "      }\n",
              "\n",
              "      [theme=dark] .colab-df-generate {\n",
              "        background-color: #3B4455;\n",
              "        fill: #D2E3FC;\n",
              "      }\n",
              "\n",
              "      [theme=dark] .colab-df-generate:hover {\n",
              "        background-color: #434B5C;\n",
              "        box-shadow: 0px 1px 3px 1px rgba(0, 0, 0, 0.15);\n",
              "        filter: drop-shadow(0px 1px 2px rgba(0, 0, 0, 0.3));\n",
              "        fill: #FFFFFF;\n",
              "      }\n",
              "    </style>\n",
              "    <button class=\"colab-df-generate\" onclick=\"generateWithVariable('df_fin')\"\n",
              "            title=\"Generate code using this dataframe.\"\n",
              "            style=\"display:none;\">\n",
              "\n",
              "  <svg xmlns=\"http://www.w3.org/2000/svg\" height=\"24px\"viewBox=\"0 0 24 24\"\n",
              "       width=\"24px\">\n",
              "    <path d=\"M7,19H8.4L18.45,9,17,7.55,7,17.6ZM5,21V16.75L18.45,3.32a2,2,0,0,1,2.83,0l1.4,1.43a1.91,1.91,0,0,1,.58,1.4,1.91,1.91,0,0,1-.58,1.4L9.25,21ZM18.45,9,17,7.55Zm-12,3A5.31,5.31,0,0,0,4.9,8.1,5.31,5.31,0,0,0,1,6.5,5.31,5.31,0,0,0,4.9,4.9,5.31,5.31,0,0,0,6.5,1,5.31,5.31,0,0,0,8.1,4.9,5.31,5.31,0,0,0,12,6.5,5.46,5.46,0,0,0,6.5,12Z\"/>\n",
              "  </svg>\n",
              "    </button>\n",
              "    <script>\n",
              "      (() => {\n",
              "      const buttonEl =\n",
              "        document.querySelector('#id_1ab931db-dd0c-4d30-8d53-83060d945dca button.colab-df-generate');\n",
              "      buttonEl.style.display =\n",
              "        google.colab.kernel.accessAllowed ? 'block' : 'none';\n",
              "\n",
              "      buttonEl.onclick = () => {\n",
              "        google.colab.notebook.generateWithVariable('df_fin');\n",
              "      }\n",
              "      })();\n",
              "    </script>\n",
              "  </div>\n",
              "\n",
              "    </div>\n",
              "  </div>\n"
            ],
            "text/plain": [
              "            Date  hour  Rainfall(mm)  Precipitation type  Temperature(℃)  \\\n",
              "0     2019-01-01     0           0.0                 0.0            -4.8   \n",
              "1     2019-01-01     1           0.0                 0.0            -3.6   \n",
              "2     2019-01-01     2           0.0                 0.0            -2.4   \n",
              "3     2019-01-01     3           0.0                 0.0            -1.7   \n",
              "4     2019-01-01     4           0.0                 0.0            -1.7   \n",
              "...          ...   ...           ...                 ...             ...   \n",
              "8766  2019-12-31    19           0.0                 0.0            -5.0   \n",
              "8767  2019-12-31    20           0.0                 0.0            -4.6   \n",
              "8768  2019-12-31    21           0.0                 0.0            -4.5   \n",
              "8769  2019-12-31    22           0.0                 0.0            -4.4   \n",
              "8770  2019-12-31    23           0.0                 0.0            -4.2   \n",
              "\n",
              "      Humidity(%)  Wind speed (m/s)  wind direction  Sky type  \n",
              "0            48.0               2.2           296.0      -1.0  \n",
              "1            43.0               2.5           313.0      -1.0  \n",
              "2            47.0               3.2           280.0      -1.0  \n",
              "3            51.0               3.7           285.0      -1.0  \n",
              "4            50.0               3.0           285.0      -1.0  \n",
              "...           ...               ...             ...       ...  \n",
              "8766         55.0               0.0             0.0      -1.0  \n",
              "8767         58.0               1.6           111.0      -1.0  \n",
              "8768         64.0               2.2            63.0      -1.0  \n",
              "8769         65.0               0.1            37.0      -1.0  \n",
              "8770         73.0               1.6            59.0      -1.0  \n",
              "\n",
              "[8760 rows x 9 columns]"
            ]
          },
          "execution_count": 160,
          "metadata": {},
          "output_type": "execute_result"
        }
      ],
      "source": [
        "df_fin"
      ]
    },
    {
      "cell_type": "markdown",
      "metadata": {
        "id": "GtV0btN4XB0f"
      },
      "source": [
        "#### 2.7 csv 파일로 저장"
      ]
    },
    {
      "cell_type": "code",
      "execution_count": null,
      "metadata": {
        "id": "cNcRq6WqRZT-"
      },
      "outputs": [],
      "source": [
        "df_fin.to_csv(f\"/content/drive/MyDrive/weather_data/2019.csv\", index=False)"
      ]
    },
    {
      "cell_type": "markdown",
      "metadata": {
        "id": "_RcyxWfCQ5mX"
      },
      "source": [
        "### 3. 2020년도 날씨 데이터프레임으로 묶기"
      ]
    },
    {
      "cell_type": "markdown",
      "metadata": {
        "id": "SWUVtbsoWmUE"
      },
      "source": [
        "#### 3.1 데이터프레임 불러오기"
      ]
    },
    {
      "cell_type": "code",
      "execution_count": null,
      "metadata": {
        "id": "fbvZGzauZkax"
      },
      "outputs": [],
      "source": [
        "df_rain = pd.read_csv(\"/content/drive/MyDrive/weather_data/2020/청운효자동_강수_202001_202012.csv\")\n",
        "df_rain2 = pd.read_csv(\"/content/drive/MyDrive/weather_data/2020/청운효자동_강수형태_202001_202012.csv\")\n",
        "df_temp = pd.read_csv(\"/content/drive/MyDrive/weather_data/2020/청운효자동_기온_202001_202012.csv\")\n",
        "df_hum = pd.read_csv(\"/content/drive/MyDrive/weather_data/2020/청운효자동_습도_202001_202012.csv\")\n",
        "df_wind = pd.read_csv(\"/content/drive/MyDrive/weather_data/2020/청운효자동_풍속_202001_202012.csv\")\n",
        "df_wind2 = pd.read_csv(\"/content/drive/MyDrive/weather_data/2020/청운효자동_풍향_202001_202012.csv\")\n",
        "df_sky = pd.read_csv(\"/content/drive/MyDrive/weather_data/2020/청운효자동_하늘상태_202001_202012.csv\")"
      ]
    },
    {
      "cell_type": "markdown",
      "metadata": {
        "id": "MFQXNxz-WnkN"
      },
      "source": [
        "#### 3.2 각 데이터프레임 컬럼명 변경 및 삭제"
      ]
    },
    {
      "cell_type": "code",
      "execution_count": null,
      "metadata": {
        "id": "agY4MbhMZtfQ"
      },
      "outputs": [],
      "source": [
        "# 컬럼명 변경\n",
        "df_rain.rename(columns={\"value location:60_127 Start : 20200101 \":\"Rainfall(mm)\"}, inplace=True)\n",
        "df_rain2.rename(columns={\"value location:60_127 Start : 20200101 \":\"Precipitation type\"}, inplace=True)\n",
        "df_temp.rename(columns={\"value location:60_127 Start : 20200101 \":\"Temperature(℃)\"}, inplace=True)\n",
        "df_hum.rename(columns={\"value location:60_127 Start : 20200101 \":\"Humidity(%)\"}, inplace=True)\n",
        "df_wind.rename(columns={\"value location:60_127 Start : 20200101 \":\"Wind speed (m/s)\"}, inplace=True)\n",
        "df_wind2.rename(columns={\"value location:60_127 Start : 20200101 \":\"wind direction\"}, inplace=True)\n",
        "df_sky.rename(columns={\"value location:60_127 Start : 20200101 \":\"Sky type\"}, inplace=True)"
      ]
    },
    {
      "cell_type": "code",
      "execution_count": null,
      "metadata": {
        "id": "qZHBV07fZvjx"
      },
      "outputs": [],
      "source": [
        "# 강수 데이터프레임을 제외한 데이터프레임의 \"day\", \"hour\" 컬럼 삭제\n",
        "df_rain2.drop([\" format: day\", \"hour\"], axis=1, inplace=True)\n",
        "df_temp.drop([\" format: day\", \"hour\"], axis=1, inplace=True)\n",
        "df_hum.drop([\" format: day\", \"hour\"], axis=1, inplace=True)\n",
        "df_wind.drop([\" format: day\", \"hour\"], axis=1, inplace=True)\n",
        "df_wind2.drop([\" format: day\", \"hour\"], axis=1, inplace=True)\n",
        "df_sky.drop([\" format: day\", \"hour\"], axis=1, inplace=True)"
      ]
    },
    {
      "cell_type": "markdown",
      "metadata": {
        "id": "Fv14OOlBWog6"
      },
      "source": [
        "#### 3.3 하나로 데이터프레임 합치기"
      ]
    },
    {
      "cell_type": "code",
      "execution_count": null,
      "metadata": {
        "id": "fVkwhdh6Zxjl"
      },
      "outputs": [],
      "source": [
        "df_fin = pd.concat([df_rain, df_rain2, df_temp, df_hum, df_wind, df_wind2, df_sky], axis=1)"
      ]
    },
    {
      "cell_type": "markdown",
      "metadata": {
        "id": "aKrN65zHWpeX"
      },
      "source": [
        "#### 3.4 데이터프레임에 NaN 값 삭제\n",
        "- \"format: day\"에 \"Start : 20180501 \"의 형태의 행이 \"hour\", \"value location:60_127 Start : 20180101\"의 컬럼에 NaN 값을 가짐."
      ]
    },
    {
      "cell_type": "code",
      "execution_count": null,
      "metadata": {
        "id": "L6C-NbAEZz43"
      },
      "outputs": [],
      "source": [
        "df_fin = df_fin[df_fin[\"hour\"].isna() == False]"
      ]
    },
    {
      "cell_type": "markdown",
      "metadata": {
        "id": "CSkrMnI8Wqis"
      },
      "source": [
        "#### 3.5 \"hour\" 컬럼을 int 타입으로 변환"
      ]
    },
    {
      "cell_type": "code",
      "execution_count": null,
      "metadata": {
        "id": "_yzKyztqZ2WY"
      },
      "outputs": [],
      "source": [
        "df_fin[\"hour\"] = (df_fin[\"hour\"] * 0.01).astype(int)"
      ]
    },
    {
      "cell_type": "markdown",
      "metadata": {
        "id": "TVYeHnUMWs4T"
      },
      "source": [
        "#### 3.6 \"Date\" 컬럼 생성"
      ]
    },
    {
      "cell_type": "code",
      "execution_count": null,
      "metadata": {
        "id": "Jn3W4H7XZ4zI"
      },
      "outputs": [],
      "source": [
        "df_fin.columns = ['Date', 'hour', 'Rainfall(mm)', 'Precipitation type',\n",
        "       'Temperature(℃)', 'Humidity(%)', 'Wind speed (m/s)', 'wind direction',\n",
        "       'Sky type']"
      ]
    },
    {
      "cell_type": "code",
      "execution_count": null,
      "metadata": {
        "id": "GhVGfAD_Z7eP"
      },
      "outputs": [],
      "source": [
        "df_fin[\"Date\"] = pd.date_range(start=\"2020-01-01\", end=\"2020-12-31 23:00:00\", freq=\"H\").date"
      ]
    },
    {
      "cell_type": "markdown",
      "metadata": {
        "id": "1_-1dwkMXGjf"
      },
      "source": [
        "#### 3.7 csv 파일로 저장"
      ]
    },
    {
      "cell_type": "code",
      "execution_count": null,
      "metadata": {
        "id": "RxdUkdrkZ9Sn"
      },
      "outputs": [],
      "source": [
        "df_fin.to_csv(f\"/content/drive/MyDrive/weather_data/2020.csv\", index=False)"
      ]
    },
    {
      "cell_type": "markdown",
      "metadata": {
        "id": "H8H6wf8VRHtr"
      },
      "source": [
        "### 4. 2021년도 날씨 데이터프레임으로 묶기"
      ]
    },
    {
      "cell_type": "markdown",
      "metadata": {
        "id": "4q_SxJC1YHFu"
      },
      "source": [
        "#### 4.1 데이터프레임 불러오기"
      ]
    },
    {
      "cell_type": "code",
      "execution_count": null,
      "metadata": {
        "id": "4P1aJaGaZlJr"
      },
      "outputs": [],
      "source": [
        "df_rain = pd.read_csv(\"/content/drive/MyDrive/weather_data/2021/청운효자동_강수_202101_202112.csv\")\n",
        "df_rain2 = pd.read_csv(\"/content/drive/MyDrive/weather_data/2021/청운효자동_강수형태_202101_202112.csv\")\n",
        "df_temp = pd.read_csv(\"/content/drive/MyDrive/weather_data/2021/청운효자동_기온_202101_202112.csv\")\n",
        "df_hum = pd.read_csv(\"/content/drive/MyDrive/weather_data/2021/청운효자동_습도_202101_202112.csv\")\n",
        "df_wind = pd.read_csv(\"/content/drive/MyDrive/weather_data/2021/청운효자동_풍속_202101_202112.csv\")\n",
        "df_wind2 = pd.read_csv(\"/content/drive/MyDrive/weather_data/2021/청운효자동_풍향_202101_202112.csv\")\n",
        "df_sky = pd.read_csv(\"/content/drive/MyDrive/weather_data/2021/청운효자동_하늘상태_202101_202112.csv\")"
      ]
    },
    {
      "cell_type": "markdown",
      "metadata": {
        "id": "fjgsGm54YNwn"
      },
      "source": [
        "#### 4.2 각 데이터프레임 컬럼명 변경 및 삭제"
      ]
    },
    {
      "cell_type": "code",
      "execution_count": null,
      "metadata": {
        "id": "QpXZTfCXaOQ1"
      },
      "outputs": [],
      "source": [
        "# 컬럼명 변경\n",
        "df_rain.rename(columns={\"value location:60_127 Start : 20210101 \":\"Rainfall(mm)\"}, inplace=True)\n",
        "df_rain2.rename(columns={\"value location:60_127 Start : 20210101 \":\"Precipitation type\"}, inplace=True)\n",
        "df_temp.rename(columns={\"value location:60_127 Start : 20210101 \":\"Temperature(℃)\"}, inplace=True)\n",
        "df_hum.rename(columns={\"value location:60_127 Start : 20210101 \":\"Humidity(%)\"}, inplace=True)\n",
        "df_wind.rename(columns={\"value location:60_127 Start : 20210101 \":\"Wind speed (m/s)\"}, inplace=True)\n",
        "df_wind2.rename(columns={\"value location:60_127 Start : 20210101 \":\"wind direction\"}, inplace=True)\n",
        "df_sky.rename(columns={\"value location:60_127 Start : 20210101 \":\"Sky type\"}, inplace=True)"
      ]
    },
    {
      "cell_type": "code",
      "execution_count": null,
      "metadata": {
        "id": "gjZeyUIWaPeg"
      },
      "outputs": [],
      "source": [
        "# 강수 데이터프레임을 제외한 데이터프레임의 \"day\", \"hour\" 컬럼 삭제\n",
        "df_rain2.drop([\" format: day\", \"hour\"], axis=1, inplace=True)\n",
        "df_temp.drop([\" format: day\", \"hour\"], axis=1, inplace=True)\n",
        "df_hum.drop([\" format: day\", \"hour\"], axis=1, inplace=True)\n",
        "df_wind.drop([\" format: day\", \"hour\"], axis=1, inplace=True)\n",
        "df_wind2.drop([\" format: day\", \"hour\"], axis=1, inplace=True)\n",
        "df_sky.drop([\" format: day\", \"hour\"], axis=1, inplace=True)"
      ]
    },
    {
      "cell_type": "markdown",
      "metadata": {
        "id": "xQ6ZgbAuYQ7f"
      },
      "source": [
        "#### 4.3 하나로 데이터프레임 합치기"
      ]
    },
    {
      "cell_type": "code",
      "execution_count": null,
      "metadata": {
        "id": "34vCbg0GaRu_"
      },
      "outputs": [],
      "source": [
        "df_fin = pd.concat([df_rain, df_rain2, df_temp, df_hum, df_wind, df_wind2, df_sky], axis=1)"
      ]
    },
    {
      "cell_type": "markdown",
      "metadata": {
        "id": "DA9qCcnAYR3-"
      },
      "source": [
        "#### 4.4 데이터프레임에 NaN 값 삭제\n",
        "- \"format: day\"에 \"Start : 20180501 \"의 형태의 행이 \"hour\", \"value location:60_127 Start : 20180101\"의 컬럼에 NaN 값을 가짐."
      ]
    },
    {
      "cell_type": "code",
      "execution_count": null,
      "metadata": {
        "id": "Xq3U1wtfaTBj"
      },
      "outputs": [],
      "source": [
        "df_fin = df_fin[df_fin[\"hour\"].isna() == False]"
      ]
    },
    {
      "cell_type": "markdown",
      "metadata": {
        "id": "kvhKQvzwYUm9"
      },
      "source": [
        "#### 4.5 \"hour\" 컬럼을 int 타입으로 변환"
      ]
    },
    {
      "cell_type": "code",
      "execution_count": null,
      "metadata": {
        "id": "3IACEm9PaUm5"
      },
      "outputs": [],
      "source": [
        "df_fin[\"hour\"] = (df_fin[\"hour\"] * 0.01).astype(int)"
      ]
    },
    {
      "cell_type": "markdown",
      "metadata": {
        "id": "cwBVbiR8YZJ2"
      },
      "source": [
        "#### 4.6 \"Date\" 컬럼 생성"
      ]
    },
    {
      "cell_type": "code",
      "execution_count": null,
      "metadata": {
        "id": "yBVUe72eaWHL"
      },
      "outputs": [],
      "source": [
        "df_fin.columns = ['Date', 'hour', 'Rainfall(mm)', 'Precipitation type',\n",
        "       'Temperature(℃)', 'Humidity(%)', 'Wind speed (m/s)', 'wind direction',\n",
        "       'Sky type']"
      ]
    },
    {
      "cell_type": "code",
      "execution_count": null,
      "metadata": {
        "id": "PeUzddrnaXhV"
      },
      "outputs": [],
      "source": [
        "df_fin[\"Date\"] = pd.date_range(start=\"2021-01-01\", end=\"2021-12-31 23:00:00\", freq=\"H\").date"
      ]
    },
    {
      "cell_type": "markdown",
      "metadata": {
        "id": "nvO5g1gqYbGb"
      },
      "source": [
        "#### 4.7 csv 파일로 저장"
      ]
    },
    {
      "cell_type": "code",
      "execution_count": null,
      "metadata": {
        "id": "W-X59iAZaY6W"
      },
      "outputs": [],
      "source": [
        "df_fin.to_csv(f\"/content/drive/MyDrive/weather_data/2021.csv\", index=False)"
      ]
    },
    {
      "cell_type": "markdown",
      "metadata": {
        "id": "ttnaytB0RLHe"
      },
      "source": [
        "### 5. 2022년도 날씨 데이터프레임으로 묶기"
      ]
    },
    {
      "cell_type": "markdown",
      "metadata": {
        "id": "kLLnc5IcYdiT"
      },
      "source": [
        "#### 5.1 데이터프레임 불러오기"
      ]
    },
    {
      "cell_type": "code",
      "execution_count": null,
      "metadata": {
        "id": "tpTaLISBZl7X"
      },
      "outputs": [],
      "source": [
        "df_rain = pd.read_csv(\"/content/drive/MyDrive/weather_data/2022/청운효자동_강수_202201_202212.csv\")\n",
        "df_rain2 = pd.read_csv(\"/content/drive/MyDrive/weather_data/2022/청운효자동_강수형태_202201_202212.csv\")\n",
        "df_temp = pd.read_csv(\"/content/drive/MyDrive/weather_data/2022/청운효자동_기온_202201_202212.csv\")\n",
        "df_hum = pd.read_csv(\"/content/drive/MyDrive/weather_data/2022/청운효자동_습도_202201_202212.csv\")\n",
        "df_wind = pd.read_csv(\"/content/drive/MyDrive/weather_data/2022/청운효자동_풍속_202201_202212.csv\")\n",
        "df_wind2 = pd.read_csv(\"/content/drive/MyDrive/weather_data/2022/청운효자동_풍향_202201_202212.csv\")\n",
        "#df_sky = pd.read_csv(\"/content/drive/MyDrive/weather_data/2022/청운효자동_하늘상태_202201_202212.csv\")"
      ]
    },
    {
      "cell_type": "markdown",
      "metadata": {
        "id": "1pczU_fCYhmO"
      },
      "source": [
        "#### 5.2 각 데이터프레임 컬럼명 변경 및 삭제"
      ]
    },
    {
      "cell_type": "code",
      "execution_count": null,
      "metadata": {
        "id": "MbIVcR1XabjI"
      },
      "outputs": [],
      "source": [
        "# 컬럼명 변경\n",
        "df_rain.rename(columns={\"value location:60_127 Start : 20220101 \":\"Rainfall(mm)\"}, inplace=True)\n",
        "df_rain2.rename(columns={\"value location:60_127 Start : 20220101 \":\"Precipitation type\"}, inplace=True)\n",
        "df_temp.rename(columns={\"value location:60_127 Start : 20220101 \":\"Temperature(℃)\"}, inplace=True)\n",
        "df_hum.rename(columns={\"value location:60_127 Start : 20220101 \":\"Humidity(%)\"}, inplace=True)\n",
        "df_wind.rename(columns={\"value location:60_127 Start : 20220101 \":\"Wind speed (m/s)\"}, inplace=True)\n",
        "df_wind2.rename(columns={\"value location:60_127 Start : 20220101 \":\"wind direction\"}, inplace=True)\n",
        "#df_sky.rename(columns={\"value location:59_75  format: day\":\"Sky type\"}, inplace=True)"
      ]
    },
    {
      "cell_type": "code",
      "execution_count": null,
      "metadata": {
        "id": "YDx3aL3pac7o"
      },
      "outputs": [],
      "source": [
        "# 강수 데이터프레임을 제외한 데이터프레임의 \"day\", \"hour\" 컬럼 삭제\n",
        "df_rain2.drop([\" format: day\", \"hour\"], axis=1, inplace=True)\n",
        "df_temp.drop([\" format: day\", \"hour\"], axis=1, inplace=True)\n",
        "df_hum.drop([\" format: day\", \"hour\"], axis=1, inplace=True)\n",
        "df_wind.drop([\" format: day\", \"hour\"], axis=1, inplace=True)\n",
        "df_wind2.drop([\" format: day\", \"hour\"], axis=1, inplace=True)\n",
        "#df_sky.drop([\" format: day\", \"hour\"], axis=1, inplace=True)"
      ]
    },
    {
      "cell_type": "markdown",
      "metadata": {
        "id": "TU4Z0nHvYlIf"
      },
      "source": [
        "#### 5.3 하나로 데이터프레임 합치기"
      ]
    },
    {
      "cell_type": "code",
      "execution_count": null,
      "metadata": {
        "id": "NHH-E04PaeRu"
      },
      "outputs": [],
      "source": [
        "df_fin = pd.concat([df_rain, df_rain2, df_temp, df_hum, df_wind, df_wind2], axis=1)"
      ]
    },
    {
      "cell_type": "markdown",
      "metadata": {
        "id": "JdoY9jdsYsSV"
      },
      "source": [
        "#### 5.4 데이터프레임에 NaN 값 삭제\n",
        "- \"format: day\"에 \"Start : 20180501 \"의 형태의 행이 \"hour\", \"value location:60_127 Start : 20180101\"의 컬럼에 NaN 값을 가짐."
      ]
    },
    {
      "cell_type": "code",
      "execution_count": null,
      "metadata": {
        "id": "32VsGjtOaf3O"
      },
      "outputs": [],
      "source": [
        "df_fin = df_fin[df_fin[\"hour\"].isna() == False]"
      ]
    },
    {
      "cell_type": "markdown",
      "metadata": {
        "id": "oXxoeKvEYv42"
      },
      "source": [
        "#### 5.5 \"hour\" 컬럼을 int 타입으로 변환"
      ]
    },
    {
      "cell_type": "code",
      "execution_count": null,
      "metadata": {
        "id": "EZ_UBX1lahcO"
      },
      "outputs": [],
      "source": [
        "df_fin[\"hour\"] = (df_fin[\"hour\"] * 0.01).astype(int)"
      ]
    },
    {
      "cell_type": "markdown",
      "metadata": {
        "id": "l6kissqhY3Mj"
      },
      "source": [
        "#### 5.6 \"Date\" 컬럼 생성"
      ]
    },
    {
      "cell_type": "code",
      "execution_count": null,
      "metadata": {
        "id": "q0ijSZQsaihv"
      },
      "outputs": [],
      "source": [
        "df_fin.columns = ['Date', 'hour', 'Rainfall(mm)', 'Precipitation type',\n",
        "       'Temperature(℃)', 'Humidity(%)', 'Wind speed (m/s)', 'wind direction']"
      ]
    },
    {
      "cell_type": "code",
      "execution_count": null,
      "metadata": {
        "id": "FuAoMBdUaj12"
      },
      "outputs": [],
      "source": [
        "df_fin[\"Date\"] = pd.date_range(start=\"2022-01-01\", end=\"2022-12-31 23:00:00\", freq=\"H\").date"
      ]
    },
    {
      "cell_type": "markdown",
      "metadata": {
        "id": "WP1Y4l1yY6t0"
      },
      "source": [
        "#### 5.7 csv 파일로 저장"
      ]
    },
    {
      "cell_type": "code",
      "execution_count": null,
      "metadata": {
        "id": "3gzdlCuQalR0"
      },
      "outputs": [],
      "source": [
        "df_fin.to_csv(f\"/content/drive/MyDrive/weather_data/2022.csv\", index=False)"
      ]
    },
    {
      "cell_type": "markdown",
      "metadata": {
        "id": "rn4D_dyxRNms"
      },
      "source": [
        "### 6. 2023년도 날씨 데이터프에미으로 묶기"
      ]
    },
    {
      "cell_type": "markdown",
      "metadata": {
        "id": "zaYYsLW4Yf-5"
      },
      "source": [
        "#### 6.1 데이터프레임 불러오기"
      ]
    },
    {
      "cell_type": "code",
      "execution_count": null,
      "metadata": {
        "id": "bsnsyiOgZmuI"
      },
      "outputs": [],
      "source": [
        "df_rain = pd.read_csv(\"/content/drive/MyDrive/weather_data/2023/청운효자동_강수_202301_202312.csv\")\n",
        "df_rain2 = pd.read_csv(\"/content/drive/MyDrive/weather_data/2023/청운효자동_강수형태_202301_202312.csv\")\n",
        "df_temp = pd.read_csv(\"/content/drive/MyDrive/weather_data/2023/청운효자동_기온_202301_202312.csv\")\n",
        "df_hum = pd.read_csv(\"/content/drive/MyDrive/weather_data/2023/청운효자동_습도_202301_202312.csv\")\n",
        "df_wind = pd.read_csv(\"/content/drive/MyDrive/weather_data/2023/청운효자동_풍속_202301_202312.csv\")\n",
        "df_wind2 = pd.read_csv(\"/content/drive/MyDrive/weather_data/2023/청운효자동_풍향_202301_202312.csv\")\n",
        "df_sky = pd.read_csv(\"/content/drive/MyDrive/weather_data/2023/청운효자동_하늘상태_202301_202312.csv\")"
      ]
    },
    {
      "cell_type": "markdown",
      "metadata": {
        "id": "blZEDwqcYmZo"
      },
      "source": [
        "#### 6.2 각 데이터프레임 컬럼명 변경 및 삭제"
      ]
    },
    {
      "cell_type": "code",
      "execution_count": null,
      "metadata": {
        "id": "0DOmiBgsanBd"
      },
      "outputs": [],
      "source": [
        "# 컬럼명 변경\n",
        "df_rain.rename(columns={\"value location:60_127 Start : 20230101 \":\"Rainfall(mm)\"}, inplace=True)\n",
        "df_rain2.rename(columns={\"value location:60_127 Start : 20230101 \":\"Precipitation type\"}, inplace=True)\n",
        "df_temp.rename(columns={\"value location:60_127 Start : 20230101 \":\"Temperature(℃)\"}, inplace=True)\n",
        "df_hum.rename(columns={\"value location:60_127 Start : 20230101 \":\"Humidity(%)\"}, inplace=True)\n",
        "df_wind.rename(columns={\"value location:60_127 Start : 20230101 \":\"Wind speed (m/s)\"}, inplace=True)\n",
        "df_wind2.rename(columns={\"value location:60_127 Start : 20230101 \":\"wind direction\"}, inplace=True)\n",
        "df_sky.rename(columns={\"value location:60_127 Start : 20230101 \":\"Sky type\"}, inplace=True)"
      ]
    },
    {
      "cell_type": "code",
      "execution_count": null,
      "metadata": {
        "id": "Eca5VjLDan_t"
      },
      "outputs": [],
      "source": [
        "# 강수 데이터프레임을 제외한 데이터프레임의 \"day\", \"hour\" 컬럼 삭제\n",
        "df_rain2.drop([\" format: day\", \"hour\"], axis=1, inplace=True)\n",
        "df_temp.drop([\" format: day\", \"hour\"], axis=1, inplace=True)\n",
        "df_hum.drop([\" format: day\", \"hour\"], axis=1, inplace=True)\n",
        "df_wind.drop([\" format: day\", \"hour\"], axis=1, inplace=True)\n",
        "df_wind2.drop([\" format: day\", \"hour\"], axis=1, inplace=True)\n",
        "df_sky.drop([\" format: day\", \"hour\"], axis=1, inplace=True)"
      ]
    },
    {
      "cell_type": "markdown",
      "metadata": {
        "id": "4kIduTNDYnQp"
      },
      "source": [
        "#### 6.3 하나로 데이터프레임 합치기"
      ]
    },
    {
      "cell_type": "code",
      "execution_count": null,
      "metadata": {
        "id": "kUmY1YZgapK1"
      },
      "outputs": [],
      "source": [
        "df_fin = pd.concat([df_rain, df_rain2, df_temp, df_hum, df_wind, df_wind2, df_sky], axis=1)"
      ]
    },
    {
      "cell_type": "markdown",
      "metadata": {
        "id": "uXJ9V2NUYs5F"
      },
      "source": [
        "#### 6.4 데이터프레임에 NaN 값 삭제\n",
        "- \"format: day\"에 \"Start : 20180501 \"의 형태의 행이 \"hour\", \"value location:60_127 Start : 20180101\"의 컬럼에 NaN 값을 가짐."
      ]
    },
    {
      "cell_type": "code",
      "execution_count": null,
      "metadata": {
        "id": "pzvdMMOjaqPU"
      },
      "outputs": [],
      "source": [
        "df_fin = df_fin[df_fin[\"hour\"].isna() == False]"
      ]
    },
    {
      "cell_type": "markdown",
      "metadata": {
        "id": "FVJj4F_JYyF6"
      },
      "source": [
        "#### 6.5 \"hour\" 컬럼을 int 타입으로 변환"
      ]
    },
    {
      "cell_type": "code",
      "execution_count": null,
      "metadata": {
        "id": "iqRUis5pasjD"
      },
      "outputs": [],
      "source": [
        "df_fin[\"hour\"] = (df_fin[\"hour\"] * 0.01).astype(int)"
      ]
    },
    {
      "cell_type": "markdown",
      "metadata": {
        "id": "nr2c8eebY4O3"
      },
      "source": [
        "#### 6.6 \"Date\" 컬럼 생성"
      ]
    },
    {
      "cell_type": "code",
      "execution_count": null,
      "metadata": {
        "id": "x6aog-nBat-j"
      },
      "outputs": [],
      "source": [
        "df_fin.columns = ['Date', 'hour', 'Rainfall(mm)', 'Precipitation type',\n",
        "       'Temperature(℃)', 'Humidity(%)', 'Wind speed (m/s)', 'wind direction',\n",
        "       'Sky type']"
      ]
    },
    {
      "cell_type": "code",
      "execution_count": null,
      "metadata": {
        "id": "UimIEYMbavRK"
      },
      "outputs": [],
      "source": [
        "df_fin[\"Date\"] = pd.date_range(start=\"2023-01-01\", end=\"2023-12-31 23:00:00\", freq=\"H\").date"
      ]
    },
    {
      "cell_type": "markdown",
      "metadata": {
        "id": "0ma5PowIY7Zy"
      },
      "source": [
        "#### 6.7 csv 파일로 저장"
      ]
    },
    {
      "cell_type": "code",
      "execution_count": null,
      "metadata": {
        "id": "tIMxaAz0awiz"
      },
      "outputs": [],
      "source": [
        "df_fin.to_csv(f\"/content/drive/MyDrive/weather_data/2023.csv\", index=False)"
      ]
    }
  ],
  "metadata": {
    "colab": {
      "provenance": []
    },
    "kernelspec": {
      "display_name": "Python 3",
      "name": "python3"
    },
    "language_info": {
      "name": "python"
    }
  },
  "nbformat": 4,
  "nbformat_minor": 0
}
